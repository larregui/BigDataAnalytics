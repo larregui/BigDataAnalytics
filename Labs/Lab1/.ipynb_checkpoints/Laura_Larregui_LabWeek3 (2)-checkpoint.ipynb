{
 "cells": [
  {
   "cell_type": "markdown",
   "metadata": {
    "id": "8zAAwyQdVQlE"
   },
   "source": [
    "# Author: Laura C. Larregui\n",
    "# Purpose: Lab Week 3"
   ]
  },
  {
   "cell_type": "markdown",
   "metadata": {
    "id": "xENZ6CPJVTjx"
   },
   "source": [
    "## Instructions\n",
    "Step 1: Import necessary libraries"
   ]
  },
  {
   "cell_type": "code",
   "execution_count": null,
   "metadata": {
    "id": "HgbYDQYFVWmI"
   },
   "outputs": [],
   "source": [
    "import pandas as pd #data frame operations\n",
    "import numpy as np #arrays and math functions\n",
    "from scipy.stats import uniform #for training and test splits\n",
    "import statsmodels.api as sm  # statistical models (including regression)\n",
    "import statsmodels.formula.api as smf  # R-like model specification\n",
    "import matplotlib.pyplot as plt #2D plotting\n",
    "import seaborn as sns #seaborn for plotting\n",
    "from sklearn.linear_model import LinearRegression"
   ]
  },
  {
   "cell_type": "markdown",
   "metadata": {
    "id": "km832CFpVdOH"
   },
   "source": [
    "Step 2: Import dataset "
   ]
  },
  {
   "cell_type": "code",
   "execution_count": null,
   "metadata": {
    "id": "SYQbsZydVXVC"
   },
   "outputs": [],
   "source": [
    "# read in Coaches data\n",
    "coaches = pd.read_csv(\"Coaches9.csv\")"
   ]
  },
  {
   "cell_type": "markdown",
   "metadata": {
    "id": "gznkbciMVjHn"
   },
   "source": [
    "Step 3: Data cleanup"
   ]
  },
  {
   "cell_type": "code",
   "execution_count": null,
   "metadata": {
    "colab": {
     "base_uri": "https://localhost:8080/",
     "height": 655
    },
    "id": "b2qpTUydVYEW",
    "outputId": "f221f5ba-764c-492f-8633-b1a0b9167252"
   },
   "outputs": [
    {
     "name": "stdout",
     "output_type": "stream",
     "text": [
      "What are the dimensions of the dataset?\n",
      " (129, 9)\n",
      "What are the datatypes for each variable?\n",
      " School          object\n",
      "Conference      object\n",
      "Coach           object\n",
      "SchoolPay       object\n",
      "TotalPay        object\n",
      "Bonus           object\n",
      "BonusPaid       object\n",
      "AssistantPay    object\n",
      "Buyout          object\n",
      "dtype: object\n",
      "                  School Conference        Coach  ... BonusPaid AssistantPay Buyout\n",
      "count                129        129          129  ...       129          129    129\n",
      "unique               129         11          129  ...        51            1    102\n",
      "top     Middle Tennessee    Big Ten  Gus Malzahn  ...        --          $0      --\n",
      "freq                   1         14            1  ...        41          129     22\n",
      "\n",
      "[4 rows x 9 columns]\n",
      "Are there any null values?\n",
      " School - 0.0%\n",
      "Are there any null values?\n",
      " Conference - 0.0%\n",
      "Are there any null values?\n",
      " Coach - 0.0%\n",
      "Are there any null values?\n",
      " SchoolPay - 0.0%\n",
      "Are there any null values?\n",
      " TotalPay - 0.0%\n",
      "Are there any null values?\n",
      " Bonus - 0.0%\n",
      "Are there any null values?\n",
      " BonusPaid - 0.0%\n",
      "Are there any null values?\n",
      " AssistantPay - 0.0%\n",
      "Are there any null values?\n",
      " Buyout - 0.0%\n"
     ]
    }
   ],
   "source": [
    "# shape and data types of the data\n",
    "print(\"What are the dimensions of the dataset?\\n\",coaches.shape)\n",
    "print(\"What are the datatypes for each variable?\\n\",coaches.dtypes)\n",
    "# compute descriptive statistics \n",
    "print(coaches.describe())\n",
    "# % of missing.\n",
    "for col in coaches.columns:\n",
    "    pct_missing = np.mean(coaches[col].isnull())\n",
    "    print(\"Are there any null values?\\n\",'{} - {}%'.format(col, round(pct_missing*100)))"
   ]
  },
  {
   "cell_type": "markdown",
   "metadata": {
    "id": "1QIBdFQWYqMG"
   },
   "source": [
    "There are no missing values for each attribute. Nevertheless, there are some columns that need to be excluded from the analysis since they are of no relevant use (SchoolPay, AssistantPay, and Bonus). Plus, for some attributes their datatypes need to be changed."
   ]
  },
  {
   "cell_type": "code",
   "execution_count": null,
   "metadata": {
    "colab": {
     "base_uri": "https://localhost:8080/",
     "height": 50
    },
    "id": "mPUBr_jtYo5z",
    "outputId": "a1dd12c0-8b1a-4f7f-aadc-a8f883f57f2a"
   },
   "outputs": [
    {
     "name": "stdout",
     "output_type": "stream",
     "text": [
      "What are the dimensions of the dataset?\n",
      " (129, 6)\n"
     ]
    }
   ],
   "source": [
    "cols_to_drop = ['SchoolPay', 'Bonus','AssistantPay']\n",
    "coaches = coaches.drop(cols_to_drop, axis=1)\n",
    "print(\"What are the dimensions of the dataset?\\n\",coaches.shape)\n",
    "#Reference for the following code: \n",
    "# Mattiff, M. (2019). Cleaning Up Currency Data with pandas. \n",
    "# Retrieved October 10, 2020 from https://pbpython.com/currency-cleanup.html\n",
    "# Set a function to clean the currency data\n",
    "def currency_clean(data_column):\n",
    "    col = data_column.str.replace(',','')\n",
    "    col = col.str.replace('$','')\n",
    "    col = col.str.replace(\" \",\"\")\n",
    "    col = col.str.replace(\"--\",\"0\")\n",
    "    col = col.fillna(0)\n",
    "    col = col.astype(float)\n",
    "    return col\n",
    "\n",
    "# Run the 'currency_clean' function for columns of interest\n",
    "coaches['TotalPay'] = currency_clean(coaches['TotalPay'])\n",
    "coaches['BonusPaid'] = currency_clean(coaches['BonusPaid'])\n",
    "coaches['Buyout'] = currency_clean(coaches['Buyout']) \n",
    "\n",
    "#print(\"Data Sample\\n\",coaches.head())"
   ]
  },
  {
   "cell_type": "markdown",
   "metadata": {
    "id": "EoK1oz8VVsMb"
   },
   "source": [
    "Step 4: Develop an additional vector for each school using last year’s record.\n"
   ]
  },
  {
   "cell_type": "code",
   "execution_count": null,
   "metadata": {
    "colab": {
     "base_uri": "https://localhost:8080/",
     "height": 1000
    },
    "id": "3uCpBoWoVYtC",
    "outputId": "5b3cab2b-6b87-47fc-fece-e5dc5f293578"
   },
   "outputs": [
    {
     "name": "stdout",
     "output_type": "stream",
     "text": [
      "['Air Force' 'Akron' 'Alabama' 'Alabama at Birmingham' 'Appalachian State'\n",
      " 'Arizona' 'Arizona State' 'Arkansas' 'Arkansas State' 'Army' 'Auburn'\n",
      " 'Ball State' 'Baylor' 'Boise State' 'Boston College' 'Bowling Green'\n",
      " 'Brigham Young' 'Buffalo' 'California' 'Central Florida'\n",
      " 'Central Michigan' 'Charlotte' 'Cincinnati' 'Clemson' 'Coastal Carolina'\n",
      " 'Colorado' 'Colorado State' 'Connecticut' 'Duke' 'East Carolina'\n",
      " 'Eastern Michigan' 'Florida' 'Florida Atlantic' 'Florida International'\n",
      " 'Florida State' 'Fresno State' 'Georgia' 'Georgia Southern'\n",
      " 'Georgia State' 'Georgia Tech' 'Hawaii' 'Houston' 'Illinois' 'Indiana'\n",
      " 'Iowa' 'Iowa State' 'Kansas' 'Kansas State' 'Kent State' 'Kentucky'\n",
      " 'Liberty' 'Louisiana Tech' 'Louisiana-Lafayette' 'Louisiana-Monroe'\n",
      " 'Louisville' 'LSU' 'Marshall' 'Maryland' 'Massachusetts' 'Memphis'\n",
      " 'Miami (Fla.)' 'Miami (Ohio)' 'Michigan' 'Michigan State'\n",
      " 'Middle Tennessee' 'Minnesota' 'Mississippi' 'Mississippi State'\n",
      " 'Missouri' 'Navy' 'Nebraska' 'Nevada' 'Nevada-Las Vegas' 'New Mexico'\n",
      " 'New Mexico State' 'North Carolina' 'North Carolina State' 'North Texas'\n",
      " 'Northern Illinois' 'Northwestern' 'Notre Dame' 'Ohio' 'Ohio State'\n",
      " 'Oklahoma' 'Oklahoma State' 'Old Dominion' 'Oregon' 'Oregon State'\n",
      " 'Penn State' 'Pittsburgh' 'Purdue' 'Rice' 'Rutgers' 'San Diego State'\n",
      " 'San Jose State' 'South Alabama' 'South Carolina' 'South Florida'\n",
      " 'Southern California' 'Southern Methodist' 'Southern Mississippi'\n",
      " 'Stanford' 'Syracuse' 'Tennessee' 'Texas' 'Texas A&M' 'Texas Christian'\n",
      " 'Texas State' 'Texas Tech' 'Texas-El Paso' 'Texas-San Antonio' 'Toledo'\n",
      " 'Troy' 'Tulane' 'Tulsa' 'UCLA' 'Utah' 'Utah State' 'Vanderbilt'\n",
      " 'Virginia' 'Virginia Tech' 'Wake Forest' 'Washington' 'Washington State'\n",
      " 'West Virginia' 'Western Kentucky' 'Western Michigan' 'Wisconsin'\n",
      " 'Wyoming']\n",
      "129 schools\n",
      "['Air Force' 'Akron' 'Alabama' 'Appalachian State' 'Arizona'\n",
      " 'Arizona State' 'Arkansas' 'Arkansas State' 'Army' 'Auburn'\n",
      " 'Brigham Young' 'Ball State' 'Baylor' 'Boise State' 'Boston College'\n",
      " 'Bowling Green' 'Buffalo' 'California' 'Central Florida'\n",
      " 'Central Michigan' 'Charlotte' 'Cincinnati' 'Clemson' 'Coastal Carolina'\n",
      " 'Colorado' 'Colorado State' 'Connecticut' 'Duke' 'East Carolina'\n",
      " 'Eastern Michigan' 'Florida Atlantic' 'Florida' 'Florida International'\n",
      " 'Florida State' 'Fresno State' 'Georgia Southern' 'Georgia Tech'\n",
      " 'Georgia' 'Georgia State' 'Hawaii' 'Houston' 'Illinois' 'Indiana' 'Iowa'\n",
      " 'Iowa State' 'Kansas' 'Kansas State' 'Kent State' 'Kentucky'\n",
      " 'Louisiana-Lafayette' 'Louisiana-Monroe' 'Louisiana Tech' 'LSU' 'Liberty'\n",
      " 'Louisville' 'Marshall' 'Maryland' 'Memphis' 'Miami (Fla.)'\n",
      " 'Miami (Ohio)' 'Michigan' 'Michigan State' 'Middle Tennessee' 'Minnesota'\n",
      " 'Mississippi State' 'Mississippi' 'Missouri' 'North Carolina'\n",
      " 'Northern Illinois' 'New Mexico State' 'North Carolina State' 'Navy'\n",
      " 'Nebraska' 'Nevada' 'New Mexico' 'North Texas' 'Northwestern'\n",
      " 'Notre Dame' 'Ohio' 'Ohio State' 'Oklahoma' 'Oklahoma State'\n",
      " 'Old Dominion' 'Oregon' 'Oregon State' 'Penn State' 'Pittsburgh' 'Purdue'\n",
      " 'Rice' 'Rutgers' 'South Alabama' 'South Carolina' 'South Florida'\n",
      " 'Southern Methodist' 'Southern Miss' 'San Diego State' 'San Jose State'\n",
      " 'Stanford' 'Syracuse' 'Texas Christian' 'Texas-El Paso'\n",
      " 'Texas-San Antonio' 'Temple' 'Tennessee' 'Texas' 'Texas A&M'\n",
      " 'Texas State' 'Texas Tech' 'Toledo' 'Troy' 'Tulane' 'Tulsa'\n",
      " 'Massachusetts' 'Alabama at Birmingham' 'UCLA' 'Nevada-Las Vegas'\n",
      " 'Southern California' 'Utah' 'Utah State' 'Virginia Tech' 'Vanderbilt'\n",
      " 'Virginia' 'Western Kentucky' 'Western Michigan' 'West Virginia'\n",
      " 'Wake Forest' 'Washington State' 'Washington' 'Wisconsin' 'Wyoming']\n",
      "130 schools\n",
      "['Abilene Christian' 'Akron' 'Alabama A&M' 'Alabama State' 'Alabama'\n",
      " 'Alabama at Birmingham' 'Albany' 'Alcorn State' 'Appalachian State'\n",
      " 'Arizona State' 'Arizona' 'Arkansas State' 'Arkansas' 'Auburn'\n",
      " 'Austin Peay State' 'Ball State' 'Charleston Southern' 'Baylor'\n",
      " 'Bethune-Cookman' 'Boise State' 'Boston College' 'Bowling Green'\n",
      " 'Brigham Young' 'Brown' 'Bryant' 'Bucknell' 'Buffalo' 'Butler'\n",
      " 'California Polytechnic State' 'Fresno State'\n",
      " 'California State , Sacramento' 'California' 'California, Davis' 'UCLA'\n",
      " 'Campbell' 'Central Connecticut State' 'Central Florida'\n",
      " 'Central Michigan' 'Cincinnati' 'The Citadel' 'Clemson'\n",
      " 'Coastal Carolina' 'Colgate' 'Colorado State' 'Colorado'\n",
      " 'Columbia -Barnard College' 'Connecticut' 'Cornell' 'Dartmouth College'\n",
      " 'Davidson College' 'Dayton' 'Delaware State' 'Delaware' 'Drake' 'Duke'\n",
      " 'Duquesne' 'East Carolina' 'Eastern Illinois' 'Eastern Kentucky'\n",
      " 'Eastern Michigan' 'Eastern Washington' 'Florida A&M' 'Florida Atlantic'\n",
      " 'Florida International' 'Florida State' 'Florida' 'Fordham' 'Furman'\n",
      " 'Georgetown' 'Georgia Southern' 'Georgia State' 'Georgia Tech' 'Georgia'\n",
      " 'Grambling State' 'Hampton' 'Harvard' 'Hawaii'\n",
      " 'College of the Holy Cross' 'Houston Baptist' 'Houston' 'Howard'\n",
      " 'Idaho State' 'Idaho' 'Illinois State' 'Illinois' 'Indiana State'\n",
      " 'Indiana' 'Iowa State' 'Iowa' 'Jackson State' 'Jacksonville State'\n",
      " 'Jacksonville' 'James Madison' 'Kansas State' 'Kansas' 'Kent State'\n",
      " 'Kentucky' 'Lafayette College' 'Lamar' 'Lehigh' 'Liberty' 'LSU'\n",
      " 'Louisiana Tech' 'Louisville' 'Maine' 'Marist College' 'Marshall'\n",
      " 'Maryland' 'Massachusetts' 'McNeese State' 'Memphis' 'Mercer'\n",
      " 'Miami (Ohio)' 'Miami (Fla.)' 'Michigan State' 'Michigan'\n",
      " 'Middle Tennessee' 'Minnesota' 'Mississippi State'\n",
      " 'Mississippi Valley State' 'Mississippi' 'Missouri' 'Monmouth'\n",
      " 'Montana State -Bozeman' 'Montana' 'Morehead State' 'Morgan State'\n",
      " 'Murray State' 'North Carolina' 'North Carolina at Charlotte' 'Nebraska'\n",
      " 'Nevada-Las Vegas' 'Nevada' 'New Hampshire' 'New Mexico State'\n",
      " 'New Mexico' 'Nicholls State' 'Norfolk State' 'North Alabama'\n",
      " 'North Carolina A&T State' 'North Carolina Central'\n",
      " 'North Carolina State' 'North Dakota State' 'North Dakota' 'North Texas'\n",
      " 'Louisiana-Monroe' 'Northern Arizona' 'Northern Colorado'\n",
      " 'Northern Illinois' 'Northern Iowa' 'Northwestern State' 'Northwestern'\n",
      " 'Notre Dame' 'Ohio State' 'Ohio' 'Oklahoma State' 'Oklahoma'\n",
      " 'Old Dominion' 'Oregon State' 'Oregon' 'Penn State' 'Pennsylvania'\n",
      " 'Pittsburgh' 'Portland State' 'Prairie View A&M' 'Princeton' 'Purdue'\n",
      " 'Rhode Island' 'Rice' 'Richmond' 'Robert Morris' 'Rutgers' 'Sacred Heart'\n",
      " 'Saint Francis  (Pennsylvania)' 'Sam Houston State' 'Samford'\n",
      " 'San Diego State' 'San Diego' 'San Jose State' 'South Alabama'\n",
      " 'South Carolina State' 'South Carolina' 'South Dakota State'\n",
      " 'South Dakota' 'South Florida' 'Southeast Missouri State'\n",
      " 'Southeastern Louisiana' 'Southern California'\n",
      " 'Southern Illinois Carbondale' 'Southern Methodist'\n",
      " 'Southern Mississippi' 'Southern , Baton Rouge' 'Southern Utah'\n",
      " 'Missouri State' 'Texas State' 'Louisiana-Lafayette' 'Stanford'\n",
      " 'Stephen F. Austin State' 'Stony Brook' 'Syracuse' 'Temple'\n",
      " 'Tennessee State' 'Tennessee Technological' 'Tennessee at Chattanooga'\n",
      " 'Tennessee' 'Tennessee at Martin' 'Texas A&M' 'Texas Christian'\n",
      " 'Texas Southern' 'Texas Tech' 'Texas' 'Texas-El Paso'\n",
      " 'Texas at San Antonio' 'Toledo' 'Towson' 'Troy' 'Tulane' 'Tulsa'\n",
      " 'Air Force' 'Army' 'Navy' 'Utah State' 'Utah' 'Valparaiso' 'Vanderbilt'\n",
      " 'Villanova' 'Virginia Military Institute' 'Virginia Tech' 'Virginia'\n",
      " 'Wagner College' 'Wake Forest' 'Washington State' 'Washington'\n",
      " 'Weber State' 'West Virginia' 'Western Carolina' 'Western Illinois'\n",
      " 'Western Kentucky' 'Western Michigan' 'William & Mary' 'Wisconsin'\n",
      " 'Wyoming' 'Yale' 'Youngstown State' 'Central Arkansas' 'Elon'\n",
      " 'Gardner-Webb' 'Kennesaw State' 'Presbyterian College'\n",
      " 'Arkansas, Pine Bluff' 'the Incarnate Word' 'Wofford College']\n",
      "252 schools\n",
      "['Michigan' 'Penn State' 'Ohio State' 'Texas A&M' 'Tennessee' 'Alabama'\n",
      " 'LSU' 'Texas' 'Southern California' 'Georgia' 'Nebraska' 'UCLA' 'Florida'\n",
      " 'Auburn' 'Oklahoma' 'Florida State' 'Clemson' 'Wisconsin'\n",
      " 'South Carolina' 'Notre Dame' 'Michigan State' 'Arkansas'\n",
      " 'Alabama at Birmingham' 'Missouri' 'Iowa' 'San Diego State' 'Washington'\n",
      " 'Umass' 'Temple' 'Virginia Tech' 'South Florida' 'Pittsburgh'\n",
      " 'Miami (Fla.)' 'Texas-San Antonio' 'Mississippi State' 'Brigham Young'\n",
      " 'North Carolina' 'California' 'Purdue' 'Memphis' 'Virginia' 'Iowa State'\n",
      " 'Kentucky' 'Texas Tech' 'Illinois' 'Oklahoma State' 'West Virginia'\n",
      " 'Mississippi' 'North Carolina State' 'Arizona State' 'Arizona'\n",
      " 'Georgia Tech' 'Louisville' 'Maryland' 'Oregon' 'Colorado' 'Indiana'\n",
      " 'Rutgers' 'Air Force' 'Texas-El Paso' 'Minnesota' 'Kansas'\n",
      " 'East Carolina' 'Kansas State' 'Hawaii' 'Stanford' 'Syracuse'\n",
      " 'Northwestern' 'Rice' 'Oregon State' 'Central Florida' 'Baylor' 'Utah'\n",
      " 'Texas Christian' 'Boston College' 'Colorado State' 'Fresno State'\n",
      " 'South Alabama' 'Vanderbilt' 'Duke' 'Cincinnati' 'Connecticut' 'Houston'\n",
      " 'New Mexico' 'Marshall' 'Army' 'Boise State' 'Nevada-Las Vegas'\n",
      " 'Southern Mississippi' 'Tulsa' 'Washington State' 'Navy'\n",
      " 'Southern Methodist' 'Wake Forest' 'Middle Tennessee'\n",
      " 'Louisiana-Lafayette' 'Arkansas State' 'North Texas' 'Louisiana Tech'\n",
      " 'San Jose State' 'Louisiana-Monroe' 'New Mexico State' 'Central Michigan'\n",
      " 'Eastern Michigan' 'Western Michigan' 'Tulane' 'Florida Atlantic' 'Akron'\n",
      " 'Texas State' 'Troy' 'Nevada' 'Wyoming' 'Buffalo' 'Toledo' 'Utah State'\n",
      " 'Kent State' 'Georgia Southern' 'Miami (Ohio)' 'Appalachian State'\n",
      " 'Northern Illinois' 'Ohio' 'Bowling Green' 'Florida International'\n",
      " 'Georgia State' 'Ball State' 'Western Kentucky' 'Old Dominion'\n",
      " 'Massachusetts' 'Idaho' 'Charlotte' 'Coastal Carolina']\n",
      "131 schools\n"
     ]
    }
   ],
   "source": [
    "# WinLossRate dataset obtained from:\n",
    "# TeamRanking. (2019). College Football Team Win Trends - All Games, 2019. \n",
    "# Retrieved October 13, 2020 from https://betiq.teamrankings.com/college-football/betting-trends/win-loss-records/?season=2019\n",
    "# GradRate dataset obtained from:\n",
    "# NCAA. (2019). Graduation Success Rate Retrieved October 13, 2020 from https://web3.ncaa.org/aprsearch/gsrsearch\n",
    "# Stadium dataset obtained from:\n",
    "# College Grid Irons. (n.d). College Football Stadium Comparisons. \n",
    "# Retrieved October 13, 2020 from https://www.collegegridirons.com/comparisons-by-capacity/\n",
    "# Assistant dataset obtained from:\n",
    "# USA Today. (2019). 2019 NCAAF ASSISTANT COACHES SALARIES. \n",
    "# Retrieved October 16, 2020 from https://sports.usatoday.com/ncaa/salaries/football/assistant\n",
    "\n",
    "wl = pd.read_csv(\"WinLossRate.csv\")#WinLossRate\n",
    "\n",
    "wl.rename(columns={'Team':'School'},inplace=True)\n",
    "wl.rename(columns={'Win %':'WinPercentage'},inplace=True)\n",
    "wl.rename(columns={'ATS +/-':'ATS'},inplace=True)\n",
    "wl.sort_values('School', inplace=True, ascending=True)\n",
    "\n",
    "#changing format of winpercentage\n",
    "wl[\"WinPercentage\"] = wl['WinPercentage'].str.replace('%', '').str.strip()\n",
    "wl[\"WinPercentage\"] = wl.WinPercentage.astype(float)\n",
    "\n",
    "# Fix Names\n",
    "wl['School'] = wl['School'].str.replace('App State', 'Appalachian State').str.strip()\n",
    "wl['School'] = wl['School'].str.replace('Arizona St', 'Arizona State').str.strip()\n",
    "wl['School'] = wl['School'].str.replace('Arkansas St', 'Arkansas State').str.strip()\n",
    "wl['School'] = wl['School'].str.replace('Boston Col', 'Boston College').str.strip()\n",
    "wl['School'] = wl['School'].str.replace('BYU', 'Brigham Young').str.strip()\n",
    "wl['School'] =wl['School'].str.replace('Bowling Grn', 'Bowling Green').str.strip()\n",
    "wl['School'] = wl['School'].str.replace('Central FL', 'Central Florida').str.strip()\n",
    "wl['School'] = wl['School'].str.replace('Central Mich', 'Central Michigan').str.strip()\n",
    "wl['School'] = wl['School'].str.replace('Coastal Car', 'Coastal Carolina').str.strip()\n",
    "wl['School'] = wl['School'].str.replace('Colorado St', 'Colorado State').str.strip()\n",
    "wl['School'] = wl['School'].str.replace('E Carolina', 'East Carolina').str.strip()\n",
    "wl['School'] = wl['School'].str.replace('E Michigan', 'Eastern Michigan').str.strip()\n",
    "wl['School'] = wl['School'].str.replace('Fla Atlantic', 'Florida Atlantic').str.strip()\n",
    "wl['School'] = wl['School'].str.replace('Florida Intl', 'Florida International').str.strip()\n",
    "wl['School'] = wl['School'].str.replace('Florida St', 'Florida State').str.strip()\n",
    "wl['School'] = wl['School'].str.replace('Fresno St', 'Fresno State').str.strip()\n",
    "wl['School'] = wl['School'].str.replace('GA Southern', 'Georgia Southern').str.strip()\n",
    "wl['School'] = wl['School'].str.replace('GA Tech', 'Georgia Tech').str.strip()\n",
    "wl['School'] = wl['School'].str.replace('Kansas St', 'Kansas State').str.strip()\n",
    "wl['School'] = wl['School'].str.replace('LA Lafayette', 'Louisiana-Lafayette').str.strip()\n",
    "wl['School'] = wl['School'].str.replace('LA Tech', 'Louisiana Tech').str.strip()\n",
    "wl['School'] = wl['School'].str.replace('LA Monroe', 'Louisiana-Monroe').str.strip()\n",
    "wl['School'] = wl['School'].str.replace('Miami \\\\(FL\\\\)', 'Miami (Fla.)').str.strip()\n",
    "wl['School'] = wl['School'].str.replace('Miami \\\\(OH\\\\)', 'Miami (Ohio)').str.strip()\n",
    "wl['School'] = wl['School'].str.replace('Michigan St', 'Michigan State').str.strip()\n",
    "wl['School'] = wl['School'].str.replace('Middle Tenn', 'Middle Tennessee').str.strip()\n",
    "wl['School'] = wl['School'].str.replace('Miss State', 'Mississippi State').str.strip()\n",
    "wl['School'] = wl['School'].str.replace('N Carolina', 'North Carolina').str.strip()\n",
    "wl['School'] = wl['School'].str.replace('N Illinois', 'Northern Illinois').str.strip()\n",
    "wl['School'] = wl['School'].str.replace('N Mex State', 'New Mexico State').str.strip()\n",
    "wl['School'] = wl['School'].str.replace('NC State', 'North Carolina State').str.strip()\n",
    "wl['School'] = wl['School'].str.replace('Oregon St', 'Oregon State').str.strip()\n",
    "wl['School'] = wl['School'].str.replace('Oklahoma St', 'Oklahoma State').str.strip()\n",
    "wl['School'] = wl['School'].str.replace('S Alabama', 'South Alabama').str.strip()\n",
    "wl['School'] = wl['School'].str.replace('S Carolina', 'South Carolina').str.strip()\n",
    "wl['School'] = wl['School'].str.replace('S Florida', 'South Florida').str.strip()\n",
    "wl['School'] = wl['School'].str.replace('S Methodist', 'Southern Methodist').str.strip()\n",
    "wl['School'] = wl['School'].str.replace('S Mississippi', 'Southern Miss').str.strip()\n",
    "wl['School'] = wl['School'].str.replace('San Diego St', 'San Diego State').str.strip()\n",
    "wl['School'] = wl['School'].str.replace('San Jose St', 'San Jose State').str.strip()\n",
    "wl['School'] = wl['School'].str.replace('TX Christian', 'Texas Christian').str.strip()\n",
    "wl['School'] = wl['School'].str.replace('TX-San Ant', 'Texas-San Antonio').str.strip()\n",
    "wl['School'] = wl['School'].str.replace('TX El Paso', 'Texas-El Paso').str.strip()\n",
    "wl['School'] = wl['School'].str.replace('U Mass', 'Massachusetts').str.strip()\n",
    "wl['School'] = wl['School'].str.replace('UAB', 'Alabama at Birmingham').str.strip()\n",
    "wl['School'] = wl['School'].str.replace('UNLV', 'Nevada-Las Vegas').str.strip()\n",
    "wl['School'] = wl['School'].str.replace('USC', 'Southern California').str.strip()\n",
    "wl['School'] = wl['School'].str.replace('VA Tech', 'Virginia Tech').str.strip()\n",
    "wl['School'] = wl['School'].str.replace('W Kentucky', 'Western Kentucky').str.strip()\n",
    "wl['School'] = wl['School'].str.replace('W Michigan', 'Western Michigan').str.strip()\n",
    "wl['School'] = wl['School'].str.replace('W Virginia', 'West Virginia').str.strip()\n",
    "wl['School'] = wl['School'].str.replace('Wash State', 'Washington State').str.strip()\n",
    "\n",
    "grad = pd.read_csv(\"GradRate.csv\")#GradRate\n",
    "\n",
    "#Fixnames\n",
    "grad['School'] = grad['School'].str.replace('The University of ', '').str.strip()\n",
    "grad['School'] = grad['School'].str.replace('University of ', '').str.strip()\n",
    "grad['School'] = grad['School'].str.replace('University at ', '').str.strip()\n",
    "grad['School'] = grad['School'].str.replace(', the State New York', '').str.strip()\n",
    "grad['School'] = grad['School'].str.replace('University', '').str.strip()\n",
    "grad['School'] = grad['School'].str.replace('U.S. Air Force Academy', 'Air Force').str.strip()\n",
    "grad['School'] = grad['School'].str.replace('U.S. Naval Academy', 'Navy').str.strip()\n",
    "grad['School'] = grad['School'].str.replace('U.S. Military Academy', 'Army').str.strip()\n",
    "grad['School'] = grad['School'].str.replace('Wisconsin-Madison', 'Wisconsin').str.strip()\n",
    "grad['School'] = grad['School'].str.replace('Bowling Green State', 'Bowling Green').str.strip()\n",
    "grad['School'] = grad['School'].str.replace('Arkansas, Fayetteville', 'Arkansas').str.strip()\n",
    "grad['School'] = grad['School'].str.replace('The Ohio State', 'Ohio State').str.strip()\n",
    "grad['School'] = grad['School'].str.replace('California, Berkeley', 'California').str.strip()\n",
    "grad['School'] = grad['School'].str.replace('Colorado, Boulder', 'Colorado').str.strip()\n",
    "grad['School'] = grad['School'].str.replace('California State , Fresno', 'Fresno State').str.strip()\n",
    "grad['School'] = grad['School'].str.replace('Georgia Institute of Technology', 'Georgia Tech').str.strip()\n",
    "grad['School'] = grad['School'].str.replace('Hawaii, Manoa', 'Hawaii').str.strip()\n",
    "grad['School'] = grad['School'].str.replace('Illinois Urbana-Champaign', 'Illinois').str.strip()\n",
    "grad['School'] = grad['School'].str.replace('Indiana , Bloomington', 'Indiana').str.strip()\n",
    "grad['School'] = grad['School'].str.replace('Louisiana Monroe', 'Louisiana-Monroe').str.strip()\n",
    "grad['School'] = grad['School'].str.replace('Louisiana State', 'LSU').str.strip()\n",
    "grad['School'] = grad['School'].str.replace('Louisiana at Lafayette', 'Louisiana-Lafayette').str.strip()\n",
    "grad['School'] = grad['School'].str.replace('Maryland, College Park', 'Maryland').str.strip()\n",
    "grad['School'] = grad['School'].str.replace('Massachusetts, Amherst', 'Massachusetts').str.strip()\n",
    "grad['School'] = grad['School'].str.replace('Miami \\\\(Florida\\\\)', 'Miami (Fla.)').str.strip()\n",
    "grad['School'] = grad['School'].str.replace('Miami  \\\\(Ohio\\\\)', 'Miami (Ohio)').str.strip()\n",
    "grad['School'] = grad['School'].str.replace('Middle Tennessee State', 'Middle Tennessee').str.strip()\n",
    "grad['School'] = grad['School'].str.replace('Minnesota, Twin Cities', 'Minnesota').str.strip()\n",
    "grad['School'] = grad['School'].str.replace('Missouri, Columbia', 'Missouri').str.strip()\n",
    "grad['School'] = grad['School'].str.replace('Nebraska, Lincoln', 'Nebraska').str.strip()\n",
    "grad['School'] = grad['School'].str.replace('Nevada, Las Vegas', 'Nevada-Las Vegas').str.strip()\n",
    "grad['School'] = grad['School'].str.replace('Nevada, Reno', 'Nevada').str.strip()\n",
    "grad['School'] = grad['School'].str.replace('Pennsylvania State', 'Penn State').str.strip()\n",
    "grad['School'] = grad['School'].str.replace('Rutgers, The State New Jersey, New Brunswick', 'Rutgers').str.strip()\n",
    "grad['School'] = grad['School'].str.replace('South Carolina, Columbia', 'South Carolina').str.strip()\n",
    "grad['School'] = grad['School'].str.replace('Tennessee, Knoxville', 'Tennessee').str.strip()\n",
    "grad['School'] = grad['School'].str.replace('Texas at Austin', 'Texas').str.strip()\n",
    "grad['School'] = grad['School'].str.replace('Texas at El Paso', 'Texas-El Paso').str.strip()\n",
    "grad['School'] = grad['School'].str.replace('Texas A&M , College Station', 'Texas A&M').str.strip()\n",
    "grad['School'] = grad['School'].str.replace('Virginia Polytechnic Institute and State', 'Virginia Tech').str.strip()\n",
    "grad['School'] = grad['School'].str.replace('North Carolina, Chapel Hill', 'North Carolina').str.strip()\n",
    "grad['School'] = grad['School'].str.replace('California, Los Angeles', 'UCLA').str.strip()\n",
    "\n",
    "\n",
    "stadiums = pd.read_csv(\"Stadium.csv\")#Stadium\n",
    "\n",
    "stadiums.rename(columns={'College':'School'},inplace=True)\n",
    "\n",
    "#Fix names\n",
    "stadiums['School'] = stadiums['School'].str.replace('BYU', 'Brigham Young').str.strip()\n",
    "stadiums['School'] = stadiums['School'].str.replace('UNC Charlotte', 'Charlotte').str.strip()\n",
    "stadiums['School'] = stadiums['School'].str.replace('Miami', 'Miami (Fla.)').str.strip()\n",
    "stadiums['School'] = stadiums['School'].str.replace('Miami \\\\(Fla\\\\.\\\\)-OH', 'Miami (Ohio)').str.strip()\n",
    "stadiums['School'] = stadiums['School'].str.replace('NC State', 'North Carolina State').str.strip()\n",
    "stadiums['School'] = stadiums['School'].str.replace('SMU', 'Southern Methodist').str.strip()\n",
    "stadiums['School'] = stadiums['School'].str.replace('Southern Miss', 'Southern Mississippi').str.strip()\n",
    "stadiums['School'] = stadiums['School'].str.replace('TCU', 'Texas Christian').str.strip()\n",
    "stadiums['School'] = stadiums['School'].str.replace('UAB', 'Alabama at Birmingham').str.strip()\n",
    "stadiums['School'] = stadiums['School'].str.replace('UMass', 'Massachusetts').str.strip()\n",
    "stadiums['School'] = stadiums['School'].str.replace('UNLV', 'Nevada-Las Vegas').str.strip()\n",
    "stadiums['School'] = stadiums['School'].str.replace('USC', 'Southern California').str.strip()\n",
    "stadiums['School'] = stadiums['School'].str.replace('UTEP', 'Texas-El Paso').str.strip()\n",
    "stadiums['School'] = stadiums['School'].str.replace('UTSA', 'Texas-San Antonio').str.strip()\n",
    "\n",
    "# Run the 'currency_clean' function for columns of interest\n",
    "stadiums['Capacity'] = currency_clean(stadiums['Capacity'])\n",
    "\n",
    "# Clean up check \n",
    "print(coaches.School.unique())\n",
    "print(len(coaches.School),\"schools\")\n",
    "print(wl.School.unique())\n",
    "print(len(wl.School),\"schools\")\n",
    "print(grad.School.unique())\n",
    "print(len(grad.School),\"schools\")\n",
    "print(stadiums.School.unique())\n",
    "print(len(stadiums.School),\"schools\")\n",
    "\n",
    "#print(wl.sample)\n",
    "#print(grad.sample)\n",
    "#print(stadiums.sample)\n"
   ]
  },
  {
   "cell_type": "markdown",
   "metadata": {
    "id": "FmsD1ZyJVxtr"
   },
   "source": [
    "Step 5: Building a dataframe for the analysis"
   ]
  },
  {
   "cell_type": "code",
   "execution_count": null,
   "metadata": {
    "colab": {
     "base_uri": "https://localhost:8080/",
     "height": 974
    },
    "id": "Z6khxJqeVZP0",
    "outputId": "5250dc55-0964-4b51-dc05-d99b3f89f41d"
   },
   "outputs": [
    {
     "name": "stdout",
     "output_type": "stream",
     "text": [
      "           TotalPay     BonusPaid  ...         MOV         ATS\n",
      "count  1.290000e+02  1.290000e+02  ...  128.000000  128.000000\n",
      "mean   2.342113e+06  1.020011e+05  ...    1.526563   -0.070313\n",
      "std    1.903114e+06  2.088806e+05  ...   11.636749    4.406373\n",
      "min    0.000000e+00  0.000000e+00  ...  -32.900000  -11.600000\n",
      "25%    7.625700e+05  0.000000e+00  ...   -4.925000   -3.500000\n",
      "50%    1.830000e+06  2.000000e+04  ...    0.200000    0.100000\n",
      "75%    3.550000e+06  1.000000e+05  ...    8.275000    3.125000\n",
      "max    8.307000e+06  1.350000e+06  ...   33.100000   10.800000\n",
      "\n",
      "[8 rows x 11 columns]\n",
      "             School Conference_x       Coach  ...  WinPercentage  MOV  ATS\n",
      "93  San Diego State     Mt. West  Rocky Long  ...           76.9  8.5  3.7\n",
      "\n",
      "[1 rows x 21 columns]\n",
      "School              object\n",
      "Conference_x        object\n",
      "Coach               object\n",
      "TotalPay           float64\n",
      "BonusPaid          float64\n",
      "Buyout             float64\n",
      "Stadium             object\n",
      "Conference_y        object\n",
      "Capacity           float64\n",
      "Opened             float64\n",
      "Cohort Year        float64\n",
      "Year                object\n",
      "Conference          object\n",
      "Sport               object\n",
      "State               object\n",
      "GSR                float64\n",
      "FGR                float64\n",
      "Win-Loss Record     object\n",
      "WinPercentage      float64\n",
      "MOV                float64\n",
      "ATS                float64\n",
      "dtype: object\n",
      "Are there any null values?\n",
      " School - 0.0%\n",
      "Are there any null values?\n",
      " Conference - 0.0%\n",
      "Are there any null values?\n",
      " Coach - 0.0%\n",
      "Are there any null values?\n",
      " TotalPay - 0.0%\n",
      "Are there any null values?\n",
      " Stadium - 1.0%\n",
      "Are there any null values?\n",
      " Capacity - 1.0%\n",
      "Are there any null values?\n",
      " State - 2.0%\n",
      "Are there any null values?\n",
      " GSR - 2.0%\n",
      "Are there any null values?\n",
      " WinPercentage - 1.0%\n",
      "Are there any null values?\n",
      " TPT - 0.0%\n"
     ]
    }
   ],
   "source": [
    "# Merge all dataframes\n",
    "df1 = coaches.merge(stadiums, on='School', how='left')\n",
    "df2 = df1.merge(grad, on='School', how='left')\n",
    "coach = df2.merge(wl, on='School', how='left')\n",
    "\n",
    "#Descriptive data\n",
    "print(coach.describe())\n",
    "print(coach.sample())\n",
    "print(coach.dtypes)\n",
    "coach = coach.drop([ 'Conference_y', 'Conference','Cohort Year', 'Year',\n",
    "                                  'Sport', 'Opened','MOV','ATS', 'Buyout', 'BonusPaid', 'Win-Loss Record','FGR'], axis=1)\n",
    "coach.rename(columns={'Conference_x':'Conference'}, inplace=True)\n",
    "coach['TPT'] = coach.apply(lambda row: (row.TotalPay * 0.001), axis = 1) \n",
    "# % of missing.\n",
    "for col in coach.columns:\n",
    "    pct_missing = np.mean(coach[col].isnull())\n",
    "    print(\"Are there any null values?\\n\",'{} - {}%'.format(col, round(pct_missing*100)))\n",
    "# DROP GSR null\n",
    "coach = coach.dropna(axis=0, subset=['GSR'])\n",
    "# DROP WinPercentage null\n",
    "coach = coach.dropna(axis=0, subset=['WinPercentage'])\n",
    "# DROP missing Capacity\n",
    "coach = coach.dropna(axis=0, subset=['Capacity'])\n",
    "\n",
    "# % of missing.\n",
    "#for col in coach.columns:\n",
    "    #pct_missing = np.mean(coach[col].isnull())\n",
    "    #print(\"Are there any null values?\\n\",'{} - {}%'.format(col, round(pct_missing*100)))"
   ]
  },
  {
   "cell_type": "code",
   "execution_count": null,
   "metadata": {
    "colab": {
     "base_uri": "https://localhost:8080/",
     "height": 50
    },
    "id": "2IIhdajS9pwv",
    "outputId": "bfcdf947-ccd0-4bcb-d728-4bf41535232e"
   },
   "outputs": [
    {
     "name": "stdout",
     "output_type": "stream",
     "text": [
      "What are the dimensions of the dataset?\n",
      " (125, 10)\n"
     ]
    }
   ],
   "source": [
    "print(\"What are the dimensions of the dataset?\\n\",coach.shape)\n"
   ]
  },
  {
   "cell_type": "code",
   "execution_count": null,
   "metadata": {
    "colab": {
     "base_uri": "https://localhost:8080/",
     "height": 504
    },
    "id": "4PofU3cAgHF8",
    "outputId": "79be03ab-83d7-42b0-e9e4-e380d444cda6"
   },
   "outputs": [
    {
     "data": {
      "text/plain": [
       "<matplotlib.axes._subplots.AxesSubplot at 0x7f1929888b70>"
      ]
     },
     "execution_count": 12,
     "metadata": {
      "tags": []
     },
     "output_type": "execute_result"
    },
    {
     "data": {
      "image/png": "[encoded data removed]",
      "text/plain": [
       "<Figure size 648x576 with 2 Axes>"
      ]
     },
     "metadata": {
      "needs_background": "light",
      "tags": []
     },
     "output_type": "display_data"
    }
   ],
   "source": [
    "#heatmap\n",
    "corrmat = coach.corr() \n",
    "  \n",
    "f, ax = plt.subplots(figsize =(9, 8)) \n",
    "sns.heatmap(corrmat, ax = ax, cmap =\"YlGnBu\", linewidths = 0.1) "
   ]
  },
  {
   "cell_type": "markdown",
   "metadata": {
    "id": "-dNn7ZyDTNQk"
   },
   "source": [
    "Top Conferences"
   ]
  },
  {
   "cell_type": "code",
   "execution_count": null,
   "metadata": {
    "colab": {
     "base_uri": "https://localhost:8080/",
     "height": 230
    },
    "id": "n4K0Nx6xTPSc",
    "outputId": "8e45098d-1a4d-4f5b-8c05-8b4436fe0141"
   },
   "outputs": [
    {
     "data": {
      "text/plain": [
       "19     0.0\n",
       "29     0.0\n",
       "69     0.0\n",
       "59     0.0\n",
       "113    0.0\n",
       "      ... \n",
       "4      0.0\n",
       "52     0.0\n",
       "24     0.0\n",
       "8      0.0\n",
       "53     0.0\n",
       "Name: Big 12, Length: 125, dtype: float64"
      ]
     },
     "execution_count": 69,
     "metadata": {
      "tags": []
     },
     "output_type": "execute_result"
    }
   ],
   "source": [
    "# Resource:Athlon Sports. (2020) College Football 2020 Conference Power Rankings.\n",
    "# Retrieved October 26, 2020 from athlonsports.com/college-football/college-football-2020-conference-power-rankings.\n",
    "# Top 5 conference column\n",
    "coach = coach.assign(top5 = coach['Conference'])\n",
    "coach.top5 = coach.top5.replace({\"SEC\": \"Y\"})\n",
    "coach.top5 = coach.top5.replace({\"Big Ten\": \"Y\"})\n",
    "coach.top5 = coach.top5.replace({\"ACC\": \"Y\"})\n",
    "coach.top5 = coach.top5.replace({\"Big 12\": \"Y\"})\n",
    "coach.top5 = coach.top5.replace({\"Pac-12\": \"Y\"})\n",
    "coach.loc[(coach.top5 != 'Y'),'top5']='N'\n",
    "coach['top5'].astype('category')\n",
    "\n",
    "# A column for each conference\n",
    "coach['Mt. West'] = coach['Conference'].apply(lambda x: 1 if x == 'Mt. West' else 0)\n",
    "coach['Mt. West'].astype('float')\n",
    "\n",
    "coach['MAC'] = coach['Conference'].apply(lambda x: 1 if x == 'MAC' else 0)\n",
    "coach['MAC'].astype('float')\n",
    "\n",
    "coach['SEC'] = coach['Conference'].apply(lambda x: 1 if x == 'SEC' else 0)\n",
    "coach['SEC'].astype('float')\n",
    "\n",
    "coach['C-USA'] = coach['Conference'].apply(lambda x: 1 if x == 'C-USA' else 0)\n",
    "coach['C-USA'].astype('float')\n",
    "\n",
    "coach['Sun Belt'] = coach['Conference'].apply(lambda x: 1 if x == 'Sun Belt' else 0)\n",
    "coach['Sun Belt'].astype('float')\n",
    "\n",
    "coach['Pac-12'] = coach['Conference'].apply(lambda x: 1 if x == 'Pac-12' else 0)\n",
    "coach['Pac-12'].astype('float')\n",
    "\n",
    "coach['Ind.'] = coach['Conference'].apply(lambda x: 1 if x == 'Ind.' else 0)\n",
    "coach['Ind.'].astype('float')\n",
    "\n",
    "coach['ACC'] = coach['Conference'].apply(lambda x: 1 if x == 'ACC' else 0)\n",
    "coach['ACC'].astype('float')\n",
    "\n",
    "coach['AAC'] = coach['Conference'].apply(lambda x: 1 if x == 'AAC' else 0)\n",
    "coach['AAC'].astype('float')\n",
    "\n",
    "coach['Big Ten'] = coach['Conference'].apply(lambda x: 1 if x == 'Big Ten' else 0)\n",
    "coach['Big Ten'].astype('float')\n",
    "\n",
    "coach['Big 12'] = coach['Conference'].apply(lambda x: 1 if x == 'Big 12' else 0)\n",
    "coach['Big 12'].astype('float')"
   ]
  },
  {
   "cell_type": "markdown",
   "metadata": {
    "id": "foDQiItMZYRU"
   },
   "source": [
    "Superfan Schools"
   ]
  },
  {
   "cell_type": "code",
   "execution_count": null,
   "metadata": {
    "colab": {
     "base_uri": "https://localhost:8080/",
     "height": 235
    },
    "id": "AtjOoB5fZae-",
    "outputId": "1ec74831-f703-4a34-d9bb-d6a86116da13"
   },
   "outputs": [
    {
     "data": {
      "text/plain": [
       "0      N\n",
       "1      N\n",
       "2      Y\n",
       "3      N\n",
       "4      N\n",
       "      ..\n",
       "124    N\n",
       "125    N\n",
       "126    N\n",
       "127    Y\n",
       "128    N\n",
       "Name: superfan, Length: 125, dtype: category\n",
       "Categories (2, object): ['N', 'Y']"
      ]
     },
     "execution_count": 14,
     "metadata": {
      "tags": []
     },
     "output_type": "execute_result"
    }
   ],
   "source": [
    "coach = coach.assign(superfan = coach['School'])\n",
    "coach.superfan = coach.superfan.replace({\"LSU\": \"Y\"})\n",
    "coach.superfan = coach.superfan.replace({\"Alabama\": \"Y\"})\n",
    "coach.superfan = coach.superfan.replace({\"Michigan\": \"Y\"})\n",
    "coach.superfan = coach.superfan.replace({\"Clemson\": \"Y\"})\n",
    "coach.superfan = coach.superfan.replace({\"Oklahoma\": \"Y\"})\n",
    "coach.superfan = coach.superfan.replace({\"Georgia\": \"Y\"})\n",
    "coach.superfan = coach.superfan.replace({\"Notre Dame\": \"Y\"})\n",
    "coach.superfan = coach.superfan.replace({\"Auburn\": \"Y\"})\n",
    "coach.superfan = coach.superfan.replace({\"Texas\": \"Y\"})\n",
    "coach.superfan = coach.superfan.replace({\"Nebraska\": \"Y\"})\n",
    "coach.superfan = coach.superfan.replace({\"Tennessee\": \"Y\"})\n",
    "coach.superfan = coach.superfan.replace({\"Penn State\": \"Y\"})\n",
    "coach.superfan = coach.superfan.replace({\"Florida\": \"Y\"})\n",
    "coach.superfan = coach.superfan.replace({\"Florida State\": \"Y\"})\n",
    "coach.superfan = coach.superfan.replace({\"Texas A&M\": \"Y\"})\n",
    "coach.superfan = coach.superfan.replace({\"Wisconsin\": \"Y\"})\n",
    "coach.superfan = coach.superfan.replace({\"South Carolina\": \"Y\"})\n",
    "coach.superfan = coach.superfan.replace({\"Oregon\": \"Y\"})\n",
    "coach.loc[(coach.superfan != 'Y'),'superfan']='N'\n",
    "coach['superfan'].astype('category')"
   ]
  },
  {
   "cell_type": "markdown",
   "metadata": {
    "id": "qu842wjXfRtd"
   },
   "source": [
    "Descriptive Viz"
   ]
  },
  {
   "cell_type": "code",
   "execution_count": null,
   "metadata": {
    "colab": {
     "base_uri": "https://localhost:8080/",
     "height": 327
    },
    "id": "LHkM5YKmgMjL",
    "outputId": "a711f951-47b2-4542-ad3f-0ae6d50b5f9a"
   },
   "outputs": [
    {
     "data": {
      "image/png": "[encoded data removed]",
      "text/plain": [
       "<Figure size 432x288 with 1 Axes>"
      ]
     },
     "metadata": {
      "needs_background": "light",
      "tags": []
     },
     "output_type": "display_data"
    }
   ],
   "source": [
    "#Boxplot By Conference\n",
    "coach.sort_values('Conference', inplace=True, ascending=True)\n",
    "bp = sns.boxplot(x=\"Conference\",\n",
    "                         y=\"TPT\",\n",
    "                         data=coach,\n",
    "                         color = \"blue\")\n",
    "\n",
    "#add title, xlabel and y label\n",
    "plt.title('Coaches Total Pay By Conference', fontsize = 18)\n",
    "plt.xlabel('Conferences')\n",
    "plt.ylabel('Total Pay (in Thousands of Dollars)')\n",
    "#rotate names to reduce overlap\n",
    "bp.set_xticklabels(bp.get_xticklabels(),rotation=45)\n",
    "plt.show()\n"
   ]
  },
  {
   "cell_type": "code",
   "execution_count": null,
   "metadata": {
    "colab": {
     "base_uri": "https://localhost:8080/",
     "height": 512
    },
    "id": "m_3wbae_Suum",
    "outputId": "90144605-1c71-42d6-cb48-014b423aaf8a"
   },
   "outputs": [
    {
     "data": {
      "text/plain": [
       "[Text(0, 0, 'MAC'),\n",
       " Text(0, 0, 'Ind.'),\n",
       " Text(0, 0, 'Sun Belt'),\n",
       " Text(0, 0, 'C-USA'),\n",
       " Text(0, 0, 'Mt. West'),\n",
       " Text(0, 0, 'AAC'),\n",
       " Text(0, 0, 'Pac-12'),\n",
       " Text(0, 0, 'ACC'),\n",
       " Text(0, 0, 'Big 12'),\n",
       " Text(0, 0, 'SEC'),\n",
       " Text(0, 0, 'Big Ten')]"
      ]
     },
     "execution_count": 51,
     "metadata": {
      "tags": []
     },
     "output_type": "execute_result"
    },
    {
     "data": {
      "image/png": "[encoded data removed]",
      "text/plain": [
       "<Figure size 432x288 with 1 Axes>"
      ]
     },
     "metadata": {
      "needs_background": "light",
      "tags": []
     },
     "output_type": "display_data"
    }
   ],
   "source": [
    "grouped = coach.loc[:,['Conference', 'TPT']] \\\n",
    "    .groupby(['Conference']) \\\n",
    "    .median() \\\n",
    "    .sort_values(by='TPT')\n",
    "\n",
    "bp = sns.boxplot(x=\"Conference\",\n",
    "                         y=\"TPT\",\n",
    "                         data=coach,order=grouped.index,\n",
    "                         palette=\"Blues\")\n",
    "plt.title('Coaches Total Pay By Conference', fontsize = 18)\n",
    "plt.xlabel('Conferences')\n",
    "plt.ylabel('Total Pay (in Thousands of Dollars)')\n",
    "bp.set_xticklabels(bp.get_xticklabels(),rotation=45)"
   ]
  },
  {
   "cell_type": "code",
   "execution_count": null,
   "metadata": {
    "colab": {
     "base_uri": "https://localhost:8080/",
     "height": 299
    },
    "id": "PjZgu8gIUJjv",
    "outputId": "b2e550fe-01b9-4c60-d5b6-f866c9d5e820"
   },
   "outputs": [
    {
     "data": {
      "image/png": "[encoded data removed]",
      "text/plain": [
       "<Figure size 432x288 with 1 Axes>"
      ]
     },
     "metadata": {
      "needs_background": "light",
      "tags": []
     },
     "output_type": "display_data"
    }
   ],
   "source": [
    "bp = sns.boxplot(x=\"top5\",\n",
    "                         y=\"TPT\",palette=\"GnBu\",\n",
    "                         data=coach\n",
    "                         )\n",
    "#add title, xlabel and y label\n",
    "plt.title('Coaches Total Pay in Top 5 vs Non-Top 5', fontsize = 18)\n",
    "plt.xlabel('Top 5 Conferences')\n",
    "plt.show()"
   ]
  },
  {
   "cell_type": "code",
   "execution_count": null,
   "metadata": {
    "colab": {
     "base_uri": "https://localhost:8080/",
     "height": 569
    },
    "id": "AuYDbocMW0up",
    "outputId": "127c9423-7e19-4a5c-b5b2-a114da985c85"
   },
   "outputs": [
    {
     "data": {
      "text/plain": [
       "<matplotlib.axes._subplots.AxesSubplot at 0x7f19125e7278>"
      ]
     },
     "execution_count": 48,
     "metadata": {
      "tags": []
     },
     "output_type": "execute_result"
    },
    {
     "data": {
      "image/png": "[encoded data removed]",
      "text/plain": [
       "<Figure size 648x576 with 2 Axes>"
      ]
     },
     "metadata": {
      "needs_background": "light",
      "tags": []
     },
     "output_type": "display_data"
    }
   ],
   "source": [
    "#heatmap\n",
    "corrmat = coach.corr() \n",
    "  \n",
    "f, ax = plt.subplots(figsize =(9, 8)) \n",
    "mask = np.zeros_like(corrmat, dtype=np.bool)\n",
    "mask[np.triu_indices_from(mask)] = True\n",
    "\n",
    "sns.heatmap(corrmat, mask=mask,ax = ax, cmap =\"YlGnBu\", linewidths = 0.1) "
   ]
  },
  {
   "cell_type": "code",
   "execution_count": null,
   "metadata": {
    "colab": {
     "base_uri": "https://localhost:8080/",
     "height": 515
    },
    "id": "SBS8o5i5X19Q",
    "outputId": "b9e18080-6fdd-4102-cf5e-297922c64a89"
   },
   "outputs": [
    {
     "data": {
      "text/plain": [
       "Text(0.5, 0.98, 'Total Pay vs. GSR (by Conference)')"
      ]
     },
     "execution_count": 52,
     "metadata": {
      "tags": []
     },
     "output_type": "execute_result"
    },
    {
     "data": {
      "image/png": "[encoded data removed]",
      "text/plain": [
       "<Figure size 864x648 with 11 Axes>"
      ]
     },
     "metadata": {
      "needs_background": "light",
      "tags": []
     },
     "output_type": "display_data"
    }
   ],
   "source": [
    "g = sns.FacetGrid(coach, col=\"Conference\", col_wrap=4, hue=\"top5\", palette=\"GnBu\")\n",
    "g.map(plt.scatter, \"GSR\",\"TPT\", alpha=1);\n",
    "plt.subplots_adjust(top=0.9)\n",
    "g.fig.suptitle('Total Pay vs. GSR (by Conference)',fontsize = 18)"
   ]
  },
  {
   "cell_type": "code",
   "execution_count": null,
   "metadata": {
    "colab": {
     "base_uri": "https://localhost:8080/",
     "height": 580
    },
    "id": "54iIiSEOkI8z",
    "outputId": "2f5b1fcf-1eb4-4b3f-b4df-54f8929f663b"
   },
   "outputs": [
    {
     "data": {
      "text/plain": [
       "Text(0.5, 0.98, 'Total Pay vs. Capacity (by Conference)')"
      ]
     },
     "execution_count": 53,
     "metadata": {
      "tags": []
     },
     "output_type": "execute_result"
    },
    {
     "data": {
      "image/png": "[encoded data removed]",
      "text/plain": [
       "<Figure size 864x648 with 11 Axes>"
      ]
     },
     "metadata": {
      "needs_background": "light",
      "tags": []
     },
     "output_type": "display_data"
    }
   ],
   "source": [
    "g = sns.FacetGrid(coach, col=\"Conference\", col_wrap=4, hue=\"top5\", palette=\"GnBu\")\n",
    "g.map(plt.scatter, \"Capacity\",\"TPT\", alpha=1);\n",
    "plt.subplots_adjust(top=0.9)\n",
    "g.fig.suptitle('Total Pay vs. Capacity (by Conference)',fontsize = 18)"
   ]
  },
  {
   "cell_type": "code",
   "execution_count": null,
   "metadata": {
    "colab": {
     "base_uri": "https://localhost:8080/",
     "height": 580
    },
    "id": "ehDKWWewkHvQ",
    "outputId": "e5590146-2b84-405e-ee85-680c973d21e9"
   },
   "outputs": [
    {
     "data": {
      "text/plain": [
       "Text(0.5, 0.98, 'Total Pay vs. Win Percentage (by Conference)')"
      ]
     },
     "execution_count": 54,
     "metadata": {
      "tags": []
     },
     "output_type": "execute_result"
    },
    {
     "data": {
      "image/png": "[encoded data removed]",
      "text/plain": [
       "<Figure size 864x648 with 11 Axes>"
      ]
     },
     "metadata": {
      "needs_background": "light",
      "tags": []
     },
     "output_type": "display_data"
    }
   ],
   "source": [
    "g = sns.FacetGrid(coach, col=\"Conference\", col_wrap=4, hue=\"top5\", palette=\"GnBu\")\n",
    "g.map(plt.scatter, \"WinPercentage\",\"TPT\", alpha=1);\n",
    "plt.subplots_adjust(top=0.9)\n",
    "g.fig.suptitle('Total Pay vs. Win Percentage (by Conference)',fontsize = 18)"
   ]
  },
  {
   "cell_type": "markdown",
   "metadata": {
    "id": "cCGCemZcV6pD"
   },
   "source": [
    "Step 6: Initial analysis"
   ]
  },
  {
   "cell_type": "code",
   "execution_count": null,
   "metadata": {
    "colab": {
     "base_uri": "https://localhost:8080/",
     "height": 88
    },
    "id": "4HzyjZQpVZ67",
    "outputId": "e68703f3-06a0-4068-c46b-bbeb116e992b"
   },
   "outputs": [
    {
     "name": "stdout",
     "output_type": "stream",
     "text": [
      "\n",
      "train dataframe (rows, columns):  (90, 24)\n",
      "\n",
      "test dataframe (rows, columns):  (35, 24)\n"
     ]
    }
   ],
   "source": [
    "# Split data\n",
    "np.random.seed(1234)\n",
    "coach['runiform'] = uniform.rvs(loc = 0, scale = 1, size = len(coach))\n",
    "train = coach[coach['runiform'] >= 0.33]\n",
    "test = coach[coach['runiform'] < 0.33]\n",
    "\n",
    "# check training data frame\n",
    "\n",
    "print('\\ntrain dataframe (rows, columns): ',train.shape)\n",
    "\n",
    "\n",
    "# check test data frame\n",
    "print('\\ntest dataframe (rows, columns): ',test.shape)\n",
    "\n",
    "# models to investigate\n",
    "m1 = str('TotalPay ~ WinPercentage') #Single Regression\n",
    "m2 = str('TotalPay ~ Capacity +  WinPercentage') \n",
    "m3 = str('TotalPay ~ WinPercentage + Capacity + GSR') #Modeled on those with the a correlation relationship\n",
    "m4 = str('TotalPay ~ top5 + superfan + Capacity')\n",
    "m5 = str('TotalPay ~ top5 + superfan + Capacity + WinPercentage')"
   ]
  },
  {
   "cell_type": "markdown",
   "metadata": {
    "id": "SVI1eMy3WABP"
   },
   "source": [
    "Step 7: Regressional Model"
   ]
  },
  {
   "cell_type": "code",
   "execution_count": null,
   "metadata": {
    "colab": {
     "base_uri": "https://localhost:8080/",
     "height": 692
    },
    "id": "Weo73ad0Vaa-",
    "outputId": "da6f931e-877e-4c6b-cb08-fc12dd7a7283"
   },
   "outputs": [
    {
     "name": "stdout",
     "output_type": "stream",
     "text": [
      "                            OLS Regression Results                            \n",
      "==============================================================================\n",
      "Dep. Variable:               TotalPay   R-squared:                       0.086\n",
      "Model:                            OLS   Adj. R-squared:                  0.076\n",
      "Method:                 Least Squares   F-statistic:                     8.300\n",
      "Date:                Sat, 17 Oct 2020   Prob (F-statistic):            0.00498\n",
      "Time:                        17:33:42   Log-Likelihood:                -1424.3\n",
      "No. Observations:                  90   AIC:                             2853.\n",
      "Df Residuals:                      88   BIC:                             2858.\n",
      "Df Model:                           1                                         \n",
      "Covariance Type:            nonrobust                                         \n",
      "=================================================================================\n",
      "                    coef    std err          t      P>|t|      [0.025      0.975]\n",
      "---------------------------------------------------------------------------------\n",
      "Intercept      1.156e+06   4.91e+05      2.355      0.021    1.81e+05    2.13e+06\n",
      "WinPercentage  2.535e+04   8800.127      2.881      0.005    7864.851    4.28e+04\n",
      "==============================================================================\n",
      "Omnibus:                        7.201   Durbin-Watson:                   0.956\n",
      "Prob(Omnibus):                  0.027   Jarque-Bera (JB):                7.372\n",
      "Skew:                           0.700   Prob(JB):                       0.0251\n",
      "Kurtosis:                       2.934   Cond. No.                         142.\n",
      "==============================================================================\n",
      "\n",
      "Warnings:\n",
      "[1] Standard Errors assume that the covariance matrix of the errors is correctly specified.\n",
      "M1: Proportion of Test Set Variance Accounted for: 0.157\n"
     ]
    },
    {
     "name": "stderr",
     "output_type": "stream",
     "text": [
      "/usr/local/lib/python3.6/dist-packages/ipykernel_launcher.py:5: SettingWithCopyWarning: \n",
      "A value is trying to be set on a copy of a slice from a DataFrame.\n",
      "Try using .loc[row_indexer,col_indexer] = value instead\n",
      "\n",
      "See the caveats in the documentation: https://pandas.pydata.org/pandas-docs/stable/user_guide/indexing.html#returning-a-view-versus-a-copy\n",
      "  \"\"\"\n",
      "/usr/local/lib/python3.6/dist-packages/ipykernel_launcher.py:6: SettingWithCopyWarning: \n",
      "A value is trying to be set on a copy of a slice from a DataFrame.\n",
      "Try using .loc[row_indexer,col_indexer] = value instead\n",
      "\n",
      "See the caveats in the documentation: https://pandas.pydata.org/pandas-docs/stable/user_guide/indexing.html#returning-a-view-versus-a-copy\n",
      "  \n"
     ]
    }
   ],
   "source": [
    "# M1: fit the model to the training set\n",
    "train_m1_fit = smf.ols(m1,data=train).fit()\n",
    "print(train_m1_fit.summary())\n",
    "# training set predictions \n",
    "train['predicted_TotalPay'] = train_m1_fit.fittedvalues\n",
    "test['predicted_TotalPay'] = train_m1_fit.predict(test)\n",
    "\n",
    "# what is the response variance RMSE\n",
    "rmse = round(np.power(test['TotalPay'].corr(test['predicted_TotalPay']),2),3)\n",
    "print(\"M1: Proportion of Test Set Variance Accounted for: {0}\".format(rmse))"
   ]
  },
  {
   "cell_type": "code",
   "execution_count": null,
   "metadata": {
    "colab": {
     "base_uri": "https://localhost:8080/",
     "height": 781
    },
    "id": "s-u1BNqnPwkZ",
    "outputId": "4778f279-e6e1-42de-8899-f314c4d84f2f"
   },
   "outputs": [
    {
     "name": "stdout",
     "output_type": "stream",
     "text": [
      "                            OLS Regression Results                            \n",
      "==============================================================================\n",
      "Dep. Variable:               TotalPay   R-squared:                       0.560\n",
      "Model:                            OLS   Adj. R-squared:                  0.550\n",
      "Method:                 Least Squares   F-statistic:                     55.46\n",
      "Date:                Sat, 17 Oct 2020   Prob (F-statistic):           2.96e-16\n",
      "Time:                        17:33:50   Log-Likelihood:                -1391.4\n",
      "No. Observations:                  90   AIC:                             2789.\n",
      "Df Residuals:                      87   BIC:                             2796.\n",
      "Df Model:                           2                                         \n",
      "Covariance Type:            nonrobust                                         \n",
      "=================================================================================\n",
      "                    coef    std err          t      P>|t|      [0.025      0.975]\n",
      "---------------------------------------------------------------------------------\n",
      "Intercept     -9.521e+05   4.06e+05     -2.347      0.021   -1.76e+06   -1.46e+05\n",
      "Capacity         58.7366      6.062      9.689      0.000      46.687      70.786\n",
      "WinPercentage  5628.7086   6467.100      0.870      0.386   -7225.354    1.85e+04\n",
      "==============================================================================\n",
      "Omnibus:                        0.179   Durbin-Watson:                   2.000\n",
      "Prob(Omnibus):                  0.914   Jarque-Bera (JB):                0.059\n",
      "Skew:                          -0.063   Prob(JB):                        0.971\n",
      "Kurtosis:                       2.999   Cond. No.                     1.75e+05\n",
      "==============================================================================\n",
      "\n",
      "Warnings:\n",
      "[1] Standard Errors assume that the covariance matrix of the errors is correctly specified.\n",
      "[2] The condition number is large, 1.75e+05. This might indicate that there are\n",
      "strong multicollinearity or other numerical problems.\n",
      "\n",
      "M2: Most significant attribute: 'WinPercentage' with value: 5629\n",
      "M2: Proportion of Test Set Variance Accounted for: 0.889\n"
     ]
    },
    {
     "name": "stderr",
     "output_type": "stream",
     "text": [
      "/usr/local/lib/python3.6/dist-packages/ipykernel_launcher.py:9: SettingWithCopyWarning: \n",
      "A value is trying to be set on a copy of a slice from a DataFrame.\n",
      "Try using .loc[row_indexer,col_indexer] = value instead\n",
      "\n",
      "See the caveats in the documentation: https://pandas.pydata.org/pandas-docs/stable/user_guide/indexing.html#returning-a-view-versus-a-copy\n",
      "  if __name__ == '__main__':\n",
      "/usr/local/lib/python3.6/dist-packages/ipykernel_launcher.py:10: SettingWithCopyWarning: \n",
      "A value is trying to be set on a copy of a slice from a DataFrame.\n",
      "Try using .loc[row_indexer,col_indexer] = value instead\n",
      "\n",
      "See the caveats in the documentation: https://pandas.pydata.org/pandas-docs/stable/user_guide/indexing.html#returning-a-view-versus-a-copy\n",
      "  # Remove the CWD from sys.path while we load stuff.\n"
     ]
    }
   ],
   "source": [
    "# M2: fit the model to the training set\n",
    "train_m2_fit = smf.ols(m2,data=train).fit()\n",
    "print(train_m2_fit.summary())\n",
    "\n",
    "# which parameter has the most significant effect on TotalPay?\n",
    "# look at each parameter in the model\n",
    "print(\"\\nM2: Most significant attribute: '{0}' with value: {1}\".format(train_m2_fit.params[1:].idxmax(),round(train_m2_fit.params[1:].max()),0))\n",
    "# training set predictions \n",
    "train['predicted_TotalPay'] = train_m2_fit.fittedvalues\n",
    "test['predicted_TotalPay'] = train_m2_fit.predict(test)\n",
    "\n",
    "# what is the response variance \n",
    "rmse = round(np.power(test['TotalPay'].corr(test['predicted_TotalPay']),2),3)\n",
    "print(\"M2: Proportion of Test Set Variance Accounted for: {0}\".format(rmse))\n"
   ]
  },
  {
   "cell_type": "code",
   "execution_count": null,
   "metadata": {
    "colab": {
     "base_uri": "https://localhost:8080/",
     "height": 799
    },
    "id": "5UnILNnNQXST",
    "outputId": "231ae374-712b-4097-827d-05c73961e767"
   },
   "outputs": [
    {
     "name": "stdout",
     "output_type": "stream",
     "text": [
      "                            OLS Regression Results                            \n",
      "==============================================================================\n",
      "Dep. Variable:               TotalPay   R-squared:                       0.572\n",
      "Model:                            OLS   Adj. R-squared:                  0.557\n",
      "Method:                 Least Squares   F-statistic:                     38.31\n",
      "Date:                Sat, 17 Oct 2020   Prob (F-statistic):           8.08e-16\n",
      "Time:                        17:33:53   Log-Likelihood:                -1390.2\n",
      "No. Observations:                  90   AIC:                             2788.\n",
      "Df Residuals:                      86   BIC:                             2798.\n",
      "Df Model:                           3                                         \n",
      "Covariance Type:            nonrobust                                         \n",
      "=================================================================================\n",
      "                    coef    std err          t      P>|t|      [0.025      0.975]\n",
      "---------------------------------------------------------------------------------\n",
      "Intercept     -2.648e+06   1.18e+06     -2.237      0.028      -5e+06   -2.95e+05\n",
      "WinPercentage  4340.1512   6474.015      0.670      0.504   -8529.765    1.72e+04\n",
      "Capacity         58.3915      6.021      9.698      0.000      46.422      70.361\n",
      "GSR            2.233e+04   1.47e+04      1.524      0.131   -6803.486    5.15e+04\n",
      "==============================================================================\n",
      "Omnibus:                        0.453   Durbin-Watson:                   2.039\n",
      "Prob(Omnibus):                  0.797   Jarque-Bera (JB):                0.126\n",
      "Skew:                           0.050   Prob(JB):                        0.939\n",
      "Kurtosis:                       3.154   Cond. No.                     5.15e+05\n",
      "==============================================================================\n",
      "\n",
      "Warnings:\n",
      "[1] Standard Errors assume that the covariance matrix of the errors is correctly specified.\n",
      "[2] The condition number is large, 5.15e+05. This might indicate that there are\n",
      "strong multicollinearity or other numerical problems.\n",
      "\n",
      "M3: Most significant attribute: 'GSR' with value: 22326\n",
      "M3: Proportion of Test Set Variance Accounted for: 0.879\n"
     ]
    },
    {
     "name": "stderr",
     "output_type": "stream",
     "text": [
      "/usr/local/lib/python3.6/dist-packages/ipykernel_launcher.py:9: SettingWithCopyWarning: \n",
      "A value is trying to be set on a copy of a slice from a DataFrame.\n",
      "Try using .loc[row_indexer,col_indexer] = value instead\n",
      "\n",
      "See the caveats in the documentation: https://pandas.pydata.org/pandas-docs/stable/user_guide/indexing.html#returning-a-view-versus-a-copy\n",
      "  if __name__ == '__main__':\n",
      "/usr/local/lib/python3.6/dist-packages/ipykernel_launcher.py:10: SettingWithCopyWarning: \n",
      "A value is trying to be set on a copy of a slice from a DataFrame.\n",
      "Try using .loc[row_indexer,col_indexer] = value instead\n",
      "\n",
      "See the caveats in the documentation: https://pandas.pydata.org/pandas-docs/stable/user_guide/indexing.html#returning-a-view-versus-a-copy\n",
      "  # Remove the CWD from sys.path while we load stuff.\n"
     ]
    }
   ],
   "source": [
    "# M3: fit the model to the training set\n",
    "train_m3_fit = smf.ols(m3,data=train).fit()\n",
    "print(train_m3_fit.summary())\n",
    "\n",
    "# which parameter has the most significant effect on TotalPay?\n",
    "# look at each parameter in the model\n",
    "print(\"\\nM3: Most significant attribute: '{0}' with value: {1}\".format(train_m3_fit.params[1:].idxmax(),round(train_m3_fit.params[1:].max()),0))\n",
    "# training set predictions \n",
    "train['predicted_TotalPay'] = train_m3_fit.fittedvalues\n",
    "test['predicted_TotalPay'] = train_m3_fit.predict(test)\n",
    "\n",
    "# what is the response variance \n",
    "rmse = round(np.power(test['TotalPay'].corr(test['predicted_TotalPay']),2),3)\n",
    "print(\"M3: Proportion of Test Set Variance Accounted for: {0}\".format(rmse))\n"
   ]
  },
  {
   "cell_type": "code",
   "execution_count": null,
   "metadata": {
    "colab": {
     "base_uri": "https://localhost:8080/",
     "height": 799
    },
    "id": "KqYP-v3MjsvX",
    "outputId": "bf5e6300-298a-47c6-a108-89cb4eaf3364"
   },
   "outputs": [
    {
     "name": "stdout",
     "output_type": "stream",
     "text": [
      "                            OLS Regression Results                            \n",
      "==============================================================================\n",
      "Dep. Variable:               TotalPay   R-squared:                       0.749\n",
      "Model:                            OLS   Adj. R-squared:                  0.740\n",
      "Method:                 Least Squares   F-statistic:                     85.33\n",
      "Date:                Sat, 17 Oct 2020   Prob (F-statistic):           1.08e-25\n",
      "Time:                        17:33:58   Log-Likelihood:                -1366.2\n",
      "No. Observations:                  90   AIC:                             2740.\n",
      "Df Residuals:                      86   BIC:                             2750.\n",
      "Df Model:                           3                                         \n",
      "Covariance Type:            nonrobust                                         \n",
      "=================================================================================\n",
      "                    coef    std err          t      P>|t|      [0.025      0.975]\n",
      "---------------------------------------------------------------------------------\n",
      "Intercept      4.529e+05   3.29e+05      1.378      0.172      -2e+05    1.11e+06\n",
      "top5[T.Y]      2.051e+06   2.69e+05      7.640      0.000    1.52e+06    2.59e+06\n",
      "superfan[T.Y]  1.806e+06   4.25e+05      4.246      0.000     9.6e+05    2.65e+06\n",
      "Capacity         12.2711      7.942      1.545      0.126      -3.517      28.059\n",
      "==============================================================================\n",
      "Omnibus:                        2.820   Durbin-Watson:                   2.034\n",
      "Prob(Omnibus):                  0.244   Jarque-Bera (JB):                2.688\n",
      "Skew:                          -0.000   Prob(JB):                        0.261\n",
      "Kurtosis:                       3.847   Cond. No.                     2.81e+05\n",
      "==============================================================================\n",
      "\n",
      "Warnings:\n",
      "[1] Standard Errors assume that the covariance matrix of the errors is correctly specified.\n",
      "[2] The condition number is large, 2.81e+05. This might indicate that there are\n",
      "strong multicollinearity or other numerical problems.\n",
      "\n",
      "M4: Most significant attribute: 'top5[T.Y]' with value: 2051399\n",
      "M4: Proportion of Test Set Variance Accounted for: 0.737\n"
     ]
    },
    {
     "name": "stderr",
     "output_type": "stream",
     "text": [
      "/usr/local/lib/python3.6/dist-packages/ipykernel_launcher.py:9: SettingWithCopyWarning: \n",
      "A value is trying to be set on a copy of a slice from a DataFrame.\n",
      "Try using .loc[row_indexer,col_indexer] = value instead\n",
      "\n",
      "See the caveats in the documentation: https://pandas.pydata.org/pandas-docs/stable/user_guide/indexing.html#returning-a-view-versus-a-copy\n",
      "  if __name__ == '__main__':\n",
      "/usr/local/lib/python3.6/dist-packages/ipykernel_launcher.py:10: SettingWithCopyWarning: \n",
      "A value is trying to be set on a copy of a slice from a DataFrame.\n",
      "Try using .loc[row_indexer,col_indexer] = value instead\n",
      "\n",
      "See the caveats in the documentation: https://pandas.pydata.org/pandas-docs/stable/user_guide/indexing.html#returning-a-view-versus-a-copy\n",
      "  # Remove the CWD from sys.path while we load stuff.\n"
     ]
    }
   ],
   "source": [
    "# M4: fit the model to the training set\n",
    "train_m4_fit = smf.ols(m4,data=train).fit()\n",
    "print(train_m4_fit.summary())\n",
    "\n",
    "# which parameter has the most significant effect on TotalPay?\n",
    "# look at each parameter in the motel\n",
    "print(\"\\nM4: Most significant attribute: '{0}' with value: {1}\".format(train_m4_fit.params[1:].idxmax(),round(train_m4_fit.params[1:].max()),0))\n",
    "# training set predictions \n",
    "train['predicted_TotalPay'] = train_m4_fit.fittedvalues\n",
    "test['predicted_TotalPay'] = train_m4_fit.predict(test)\n",
    "\n",
    "# what is the response variance RMSE, when predicting out-of-sample\n",
    "rmse = round(np.power(test['TotalPay'].corr(test['predicted_TotalPay']),2),3)\n",
    "print(\"M4: Proportion of Test Set Variance Accounted for: {0}\".format(rmse))\n"
   ]
  },
  {
   "cell_type": "code",
   "execution_count": null,
   "metadata": {
    "colab": {
     "base_uri": "https://localhost:8080/",
     "height": 837
    },
    "id": "CmHbkrePkWVL",
    "outputId": "00d125cb-ff8d-450d-e65e-16b43a5098b1"
   },
   "outputs": [
    {
     "name": "stdout",
     "output_type": "stream",
     "text": [
      "                            OLS Regression Results                            \n",
      "==============================================================================\n",
      "Dep. Variable:               TotalPay   R-squared:                       0.750\n",
      "Model:                            OLS   Adj. R-squared:                  0.738\n",
      "Method:                 Least Squares   F-statistic:                     63.66\n",
      "Date:                Sat, 17 Oct 2020   Prob (F-statistic):           8.90e-25\n",
      "Time:                        17:34:01   Log-Likelihood:                -1366.0\n",
      "No. Observations:                  90   AIC:                             2742.\n",
      "Df Residuals:                      85   BIC:                             2755.\n",
      "Df Model:                           4                                         \n",
      "Covariance Type:            nonrobust                                         \n",
      "=================================================================================\n",
      "                    coef    std err          t      P>|t|      [0.025      0.975]\n",
      "---------------------------------------------------------------------------------\n",
      "Intercept       3.18e+05   3.92e+05      0.811      0.420   -4.62e+05     1.1e+06\n",
      "top5[T.Y]       2.05e+06   2.69e+05      7.609      0.000    1.51e+06    2.59e+06\n",
      "superfan[T.Y]  1.759e+06   4.33e+05      4.062      0.000    8.98e+05    2.62e+06\n",
      "Capacity         11.8803      7.993      1.486      0.141      -4.013      27.773\n",
      "WinPercentage  3186.6462   5011.991      0.636      0.527   -6778.535    1.32e+04\n",
      "==============================================================================\n",
      "Omnibus:                        3.712   Durbin-Watson:                   2.069\n",
      "Prob(Omnibus):                  0.156   Jarque-Bera (JB):                4.088\n",
      "Skew:                          -0.092   Prob(JB):                        0.130\n",
      "Kurtosis:                       4.028   Cond. No.                     3.00e+05\n",
      "==============================================================================\n",
      "\n",
      "Warnings:\n",
      "[1] Standard Errors assume that the covariance matrix of the errors is correctly specified.\n",
      "[2] The condition number is large,  3e+05. This might indicate that there are\n",
      "strong multicollinearity or other numerical problems.\n",
      "\n",
      "M5: Most significant attribute: 'top5[T.Y]' with value: 2050229\n",
      "M5: Proportion of Test Set Variance Accounted for: 0.747\n"
     ]
    },
    {
     "name": "stderr",
     "output_type": "stream",
     "text": [
      "/usr/local/lib/python3.6/dist-packages/ipykernel_launcher.py:9: SettingWithCopyWarning: \n",
      "A value is trying to be set on a copy of a slice from a DataFrame.\n",
      "Try using .loc[row_indexer,col_indexer] = value instead\n",
      "\n",
      "See the caveats in the documentation: https://pandas.pydata.org/pandas-docs/stable/user_guide/indexing.html#returning-a-view-versus-a-copy\n",
      "  if __name__ == '__main__':\n",
      "/usr/local/lib/python3.6/dist-packages/ipykernel_launcher.py:10: SettingWithCopyWarning: \n",
      "A value is trying to be set on a copy of a slice from a DataFrame.\n",
      "Try using .loc[row_indexer,col_indexer] = value instead\n",
      "\n",
      "See the caveats in the documentation: https://pandas.pydata.org/pandas-docs/stable/user_guide/indexing.html#returning-a-view-versus-a-copy\n",
      "  # Remove the CWD from sys.path while we load stuff.\n"
     ]
    }
   ],
   "source": [
    "# M5: fit the model to the training set\n",
    "train_m5_fit = smf.ols(m5,data=train).fit()\n",
    "print(train_m5_fit.summary())\n",
    "\n",
    "# which parameter has the most significant effect on TotalPay?\n",
    "# look at each parameter in the motel\n",
    "print(\"\\nM5: Most significant attribute: '{0}' with value: {1}\".format(train_m5_fit.params[1:].idxmax(),round(train_m5_fit.params[1:].max()),0))\n",
    "# training set predictions \n",
    "train['predicted_TotalPay'] = train_m5_fit.fittedvalues\n",
    "test['predicted_TotalPay'] = train_m5_fit.predict(test)\n",
    "\n",
    "# what is the response variance RMSE, when predicting out-of-sample\n",
    "rmse = round(np.power(test['TotalPay'].corr(test['predicted_TotalPay']),2),3)\n",
    "print(\"M5: Proportion of Test Set Variance Accounted for: {0}\".format(rmse))\n"
   ]
  },
  {
   "cell_type": "code",
   "execution_count": 91,
   "metadata": {
    "colab": {
     "base_uri": "https://localhost:8080/",
     "height": 1000
    },
    "id": "tk_bw-_8xJqr",
    "outputId": "3c1a2fd4-aa61-41ac-9d2a-b6418e122b5a"
   },
   "outputs": [
    {
     "name": "stdout",
     "output_type": "stream",
     "text": [
      "                            OLS Regression Results                            \n",
      "==============================================================================\n",
      "Dep. Variable:               TotalPay   R-squared:                       0.725\n",
      "Model:                            OLS   Adj. R-squared:                  0.678\n",
      "Method:                 Least Squares   F-statistic:                     15.42\n",
      "Date:                Sat, 17 Oct 2020   Prob (F-statistic):           2.32e-16\n",
      "Time:                        18:55:09   Log-Likelihood:                -1370.2\n",
      "No. Observations:                  90   AIC:                             2768.\n",
      "Df Residuals:                      76   BIC:                             2803.\n",
      "Df Model:                          13                                         \n",
      "Covariance Type:            nonrobust                                         \n",
      "=================================================================================\n",
      "                    coef    std err          t      P>|t|      [0.025      0.975]\n",
      "---------------------------------------------------------------------------------\n",
      "Intercept      1.444e+05   1.14e+06      0.127      0.899   -2.12e+06    2.41e+06\n",
      "Q(\"SEC\")       1.313e+06   4.65e+05      2.823      0.006    3.87e+05    2.24e+06\n",
      "Q(\"C-USA\")    -9.215e+05   3.57e+05     -2.579      0.012   -1.63e+06    -2.1e+05\n",
      "Q(\"Sun Belt\") -8.073e+05   4.22e+05     -1.912      0.060   -1.65e+06    3.38e+04\n",
      "Q(\"Pac-12\")    4.968e+05   3.74e+05      1.328      0.188   -2.48e+05    1.24e+06\n",
      "Q(\"Ind.\")     -1.565e+06   5.86e+05     -2.669      0.009   -2.73e+06   -3.97e+05\n",
      "Q(\"ACC\")       1.106e+06   3.52e+05      3.147      0.002    4.06e+05    1.81e+06\n",
      "Q(\"AAC\")      -3.846e+05   3.85e+05     -0.999      0.321   -1.15e+06    3.82e+05\n",
      "Q(\"Big Ten\")   1.329e+06   4.97e+05      2.676      0.009     3.4e+05    2.32e+06\n",
      "Q(\"Big 12\")    1.183e+06   3.79e+05      3.122      0.003    4.28e+05    1.94e+06\n",
      "Q(\"Mt. West\") -8.562e+05   3.54e+05     -2.419      0.018   -1.56e+06   -1.51e+05\n",
      "Q(\"MAC\")      -7.497e+05   4.22e+05     -1.777      0.080   -1.59e+06    9.07e+04\n",
      "Capacity         32.1778      7.815      4.118      0.000      16.614      47.742\n",
      "WinPercentage  5977.4924   5629.133      1.062      0.292   -5233.897    1.72e+04\n",
      "GSR            1559.1217   1.43e+04      0.109      0.914    -2.7e+04    3.01e+04\n",
      "==============================================================================\n",
      "Omnibus:                        4.832   Durbin-Watson:                   2.313\n",
      "Prob(Omnibus):                  0.089   Jarque-Bera (JB):                6.611\n",
      "Skew:                          -0.023   Prob(JB):                       0.0367\n",
      "Kurtosis:                       4.327   Cond. No.                     3.27e+18\n",
      "==============================================================================\n",
      "\n",
      "Warnings:\n",
      "[1] Standard Errors assume that the covariance matrix of the errors is correctly specified.\n",
      "[2] The smallest eigenvalue is 2.84e-26. This might indicate that there are\n",
      "strong multicollinearity problems or that the design matrix is singular.\n",
      "Intercept        1.444214e+05\n",
      "Q(\"SEC\")         1.313286e+06\n",
      "Q(\"C-USA\")      -9.215371e+05\n",
      "Q(\"Sun Belt\")   -8.073194e+05\n",
      "Q(\"Pac-12\")      4.968340e+05\n",
      "Q(\"Ind.\")       -1.564764e+06\n",
      "Q(\"ACC\")         1.106361e+06\n",
      "Q(\"AAC\")        -3.845710e+05\n",
      "Q(\"Big Ten\")     1.329477e+06\n",
      "Q(\"Big 12\")      1.182560e+06\n",
      "Q(\"Mt. West\")   -8.562356e+05\n",
      "Q(\"MAC\")        -7.496705e+05\n",
      "Capacity         3.217775e+01\n",
      "WinPercentage    5.977492e+03\n",
      "GSR              1.559122e+03\n",
      "dtype: float64\n"
     ]
    }
   ],
   "source": [
    "# specify a simple model with Team Conference\n",
    "m6 = str('TotalPay ~ Q(\"SEC\") + Q(\"C-USA\") + Q(\"Sun Belt\") + Q(\"Pac-12\") + Q(\"Ind.\") + Q(\"ACC\") + Q(\"AAC\") + Q(\"Big Ten\") + Q(\"Big 12\") + Q(\"Mt. West\") + Q(\"MAC\") + Capacity + WinPercentage + GSR')\n",
    "\n",
    "# fit the model to the training set\n",
    "train_m6_fit = smf.ols(m6, data = train).fit()\n",
    "\n",
    "# summary of model fit to the training set\n",
    "print(train_m6_fit.summary())\n",
    "\n",
    "# print the coefficients\n",
    "print(train_m6_fit.params)"
   ]
  },
  {
   "cell_type": "markdown",
   "metadata": {
    "id": "w3MrxQVtWFZv"
   },
   "source": [
    "## Questions\n",
    "Question 1: What is the recommended salary for the Syracuse football coach?"
   ]
  },
  {
   "cell_type": "code",
   "execution_count": 83,
   "metadata": {
    "colab": {
     "base_uri": "https://localhost:8080/",
     "height": 52
    },
    "id": "NQ-tZejvVbH5",
    "outputId": "1224490c-5585-42e5-a7b9-95bffd24addd"
   },
   "outputs": [
    {
     "name": "stdout",
     "output_type": "stream",
     "text": [
      "Syracuse's Coach Salary should be  [[2175410.29571167]]\n",
      "$2,175,410.30\n"
     ]
    }
   ],
   "source": [
    "coach.loc[(coach.top5 != 'Y'),'top5']='0'\n",
    "coach.loc[(coach.top5 != '0'),'top5']='1'\n",
    "coach['top5'].astype('float')\n",
    "coach.loc[(coach.superfan != 'Y'),'superfan']='0'\n",
    "coach.loc[(coach.superfan != '0'),'superfan']='1'\n",
    "coach['superfan'].astype('float')\n",
    "np.random.seed(1234)\n",
    "coach['runiform'] = uniform.rvs(loc = 0, scale = 1, size = len(coach))\n",
    "train = coach[coach['runiform'] >= 0.33]\n",
    "test = coach[coach['runiform'] < 0.33]\n",
    "\n",
    "#linearRegression from SKlearn\n",
    "lin_reg = LinearRegression()\n",
    "\n",
    "# train\n",
    "y_train = train[['TotalPay']]\n",
    "X_train = train[['top5' , 'superfan' , 'Capacity' , 'WinPercentage']]\n",
    "lin_reg.fit(X_train, y_train)\n",
    "                             \n",
    "\n",
    "#Predict\n",
    "y_test = test[['TotalPay']]\n",
    "X_test = test[['top5' , 'superfan' , 'Capacity' , 'WinPercentage']]\n",
    "y_pred = lin_reg.predict(X_test)\n",
    "\n",
    "s = coach[coach['School'] == 'Syracuse']\n",
    "lin_reg.predict(s[['top5' , 'superfan' , 'Capacity' , 'WinPercentage']])\n",
    "\n",
    "spred = lin_reg.predict(s[['top5' , 'superfan' , 'Capacity' , 'WinPercentage']])\n",
    "\n",
    "\n",
    "# print amount\n",
    "print(\"Syracuse's Coach Salary should be \",(spred))\n",
    "print('${:,.2f}'.format(2175410.29571167))"
   ]
  },
  {
   "cell_type": "markdown",
   "metadata": {
    "id": "HN7SmJCeWecc"
   },
   "source": [
    "Question 2: What would his salary be if we were still in the Big East? What if we went to the Big\n",
    "Ten?"
   ]
  },
  {
   "cell_type": "code",
   "execution_count": 93,
   "metadata": {
    "colab": {
     "base_uri": "https://localhost:8080/",
     "height": 372
    },
    "id": "eN-s2cFGVbkA",
    "outputId": "ff24ecf4-ebd2-4358-beed-9027797d4573"
   },
   "outputs": [
    {
     "name": "stdout",
     "output_type": "stream",
     "text": [
      "Intercept        1.444214e+05\n",
      "Q(\"SEC\")         1.313286e+06\n",
      "Q(\"C-USA\")      -9.215371e+05\n",
      "Q(\"Sun Belt\")   -8.073194e+05\n",
      "Q(\"Pac-12\")      4.968340e+05\n",
      "Q(\"Ind.\")       -1.564764e+06\n",
      "Q(\"ACC\")         1.106361e+06\n",
      "Q(\"AAC\")        -3.845710e+05\n",
      "Q(\"Big Ten\")     1.329477e+06\n",
      "Q(\"Big 12\")      1.182560e+06\n",
      "Q(\"Mt. West\")   -8.562356e+05\n",
      "Q(\"MAC\")        -7.496705e+05\n",
      "Capacity         3.217775e+01\n",
      "WinPercentage    5.977492e+03\n",
      "GSR              1.559122e+03\n",
      "dtype: float64\n",
      "1106361.466654052\n",
      "-384571.02156201063\n",
      "Syracuse's Coach AAC Salary should be  [[684477.80749561]]\n",
      "$684,477.81\n"
     ]
    }
   ],
   "source": [
    "print(train_m6_fit.params)\n",
    "print(train_m6_fit.params[6]) #Coefficiant for ACC\n",
    "print(train_m6_fit.params[7]) #Coefficiant for AAC\n",
    "acc = train_m6_fit.params[6]\n",
    "aac = train_m6_fit.params[7]\n",
    "spredbe=(spred-acc)+aac\n",
    "print(\"Syracuse's Coach AAC Salary should be \",(spredbe))\n",
    "print('${:,.2f}'.format(684477.80749561))"
   ]
  },
  {
   "cell_type": "code",
   "execution_count": 96,
   "metadata": {
    "colab": {
     "base_uri": "https://localhost:8080/",
     "height": 355
    },
    "id": "JExLrHOZVckO",
    "outputId": "8bab290f-71ed-4fa0-8381-d5b35e9f76cd"
   },
   "outputs": [
    {
     "name": "stdout",
     "output_type": "stream",
     "text": [
      "Intercept        1.444214e+05\n",
      "Q(\"SEC\")         1.313286e+06\n",
      "Q(\"C-USA\")      -9.215371e+05\n",
      "Q(\"Sun Belt\")   -8.073194e+05\n",
      "Q(\"Pac-12\")      4.968340e+05\n",
      "Q(\"Ind.\")       -1.564764e+06\n",
      "Q(\"ACC\")         1.106361e+06\n",
      "Q(\"AAC\")        -3.845710e+05\n",
      "Q(\"Big Ten\")     1.329477e+06\n",
      "Q(\"Big 12\")      1.182560e+06\n",
      "Q(\"Mt. West\")   -8.562356e+05\n",
      "Q(\"MAC\")        -7.496705e+05\n",
      "Capacity         3.217775e+01\n",
      "WinPercentage    5.977492e+03\n",
      "GSR              1.559122e+03\n",
      "dtype: float64\n",
      "1329476.7889591393\n",
      "Syracuse's Coach Big 10 Salary should be  [[2398525.61801676]]\n",
      "$2,398,525.62\n"
     ]
    }
   ],
   "source": [
    "print(train_m6_fit.params)\n",
    "print(train_m6_fit.params[8]) #Coefficiant for B10\n",
    "b10 = train_m6_fit.params[8]\n",
    "spredb10=(spred-acc)+b10\n",
    "print(\"Syracuse's Coach Big 10 Salary should be \",(spredb10))\n",
    "print('${:,.2f}'.format(2398525.61801676))"
   ]
  }
 ],
 "metadata": {
  "colab": {
   "collapsed_sections": [],
   "name": "Laura_Larregui_LabWeek3.ipynb",
   "provenance": []
  },
  "kernelspec": {
   "display_name": "Python 3",
   "language": "python",
   "name": "python3"
  },
  "language_info": {
   "codemirror_mode": {
    "name": "ipython",
    "version": 3
   },
   "file_extension": ".py",
   "mimetype": "text/x-python",
   "name": "python",
   "nbconvert_exporter": "python",
   "pygments_lexer": "ipython3",
   "version": "3.8.3"
  }
 },
 "nbformat": 4,
 "nbformat_minor": 1
}
