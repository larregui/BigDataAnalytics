{
  "nbformat": 4,
  "nbformat_minor": 0,
  "metadata": {
    "colab": {
      "name": "IST718_FinalProject_2020.ipynb",
      "provenance": [],
      "collapsed_sections": [],
      "authorship_tag": "ABX9TyNotAK3glpEAkGLv+WiKdZA",
      "include_colab_link": true
    },
    "kernelspec": {
      "name": "python3",
      "display_name": "Python 3"
    }
  },
  "cells": [
    {
      "cell_type": "markdown",
      "metadata": {
        "id": "view-in-github",
        "colab_type": "text"
      },
      "source": [
        "<a href=\"https://colab.research.google.com/github/larregui/BigDataAnalytics/blob/main/IST718_FinalProject_2020.ipynb\" target=\"_parent\"><img src=\"https://colab.research.google.com/assets/colab-badge.svg\" alt=\"Open In Colab\"/></a>"
      ]
    },
    {
      "cell_type": "markdown",
      "metadata": {
        "id": "hKnAD5Neaf3Q"
      },
      "source": [
        "# Title: Out of This World\n",
        "# Author: Laura & Tiffannie\n",
        "# Purpose: Final Project for IST 718 Big Data Analytics\n",
        "# Professor: Jon Fox\n"
      ]
    },
    {
      "cell_type": "markdown",
      "metadata": {
        "id": "AQZmcssv6LPN"
      },
      "source": [
        "## Resources  \n",
        "https://www.kaggle.com/rkd286/ufo-sightings-eda"
      ]
    },
    {
      "cell_type": "markdown",
      "metadata": {
        "id": "OkE94Z29a70Q"
      },
      "source": [
        "### Import Libraries\n",
        "\n"
      ]
    },
    {
      "cell_type": "code",
      "metadata": {
        "id": "UiwvqpJJWyJu"
      },
      "source": [
        "import pandas as pd #data frame operations\n",
        "import numpy as np #arrays and math functions\n",
        "from scipy.stats import uniform #for training and test splits\n",
        "import statsmodels.api as sm  # statistical models (including regression)\n",
        "import statsmodels.formula.api as smf  # R-like model specification\n",
        "import matplotlib.pyplot as plt #2D plotting\n",
        "import seaborn as sns #seaborn for plotting\n",
        "from sklearn.linear_model import LinearRegression\n",
        "import plotly.graph_objs as go\n",
        "from plotly import tools\n",
        "from plotly.offline import iplot, init_notebook_mode"
      ],
      "execution_count": 15,
      "outputs": []
    },
    {
      "cell_type": "markdown",
      "metadata": {
        "id": "67Ve9i5sbLK0"
      },
      "source": [
        "### Import Dataset and Cleanup"
      ]
    },
    {
      "cell_type": "code",
      "metadata": {
        "id": "wGn3xFe0W2ze",
        "outputId": "8ab9990a-4d9f-4f83-a037-bbacbceca825",
        "colab": {
          "base_uri": "https://localhost:8080/"
        }
      },
      "source": [
        "# read in UFO data\n",
        "ufo = pd.read_csv(\"/content/ufo.csv\")\n",
        "# shape and data types of the data\n",
        "print(\"What are the dimensions of the dataset?\\n\",ufo.shape)\n",
        "print(\"What are the datatypes for each variable?\\n\",ufo.dtypes)\n",
        "# compute descriptive statistics \n",
        "print(\"Descriptive Statistics\\n\",ufo.describe())\n",
        "# % of missing.\n",
        "for col in ufo.columns:\n",
        "    pct_missing = np.mean(ufo[col].isnull())\n",
        "    print(\"Are there any null values?\\n\",'{} - {}%'.format(col, round(pct_missing*100)))"
      ],
      "execution_count": 3,
      "outputs": [
        {
          "output_type": "stream",
          "text": [
            "What are the dimensions of the dataset?\n",
            " (80332, 11)\n",
            "What are the datatypes for each variable?\n",
            " datetime                 object\n",
            "city                     object\n",
            "state                    object\n",
            "country                  object\n",
            "shape                    object\n",
            "duration (seconds)       object\n",
            "duration (hours/min)     object\n",
            "comments                 object\n",
            "date posted              object\n",
            "latitude                 object\n",
            "longitude               float64\n",
            "dtype: object\n",
            "Descriptive Statistics\n",
            "          longitude \n",
            "count  80332.000000\n",
            "mean     -86.772885\n",
            "std       39.697205\n",
            "min     -176.658056\n",
            "25%     -112.073333\n",
            "50%      -87.903611\n",
            "75%      -78.755000\n",
            "max      178.441900\n",
            "Are there any null values?\n",
            " datetime - 0.0%\n",
            "Are there any null values?\n",
            " city - 0.0%\n",
            "Are there any null values?\n",
            " state - 7.0%\n",
            "Are there any null values?\n",
            " country - 12.0%\n",
            "Are there any null values?\n",
            " shape - 2.0%\n",
            "Are there any null values?\n",
            " duration (seconds) - 0.0%\n",
            "Are there any null values?\n",
            " duration (hours/min) - 0.0%\n",
            "Are there any null values?\n",
            " comments - 0.0%\n",
            "Are there any null values?\n",
            " date posted - 0.0%\n",
            "Are there any null values?\n",
            " latitude - 0.0%\n",
            "Are there any null values?\n",
            " longitude  - 0.0%\n"
          ],
          "name": "stdout"
        },
        {
          "output_type": "stream",
          "text": [
            "/usr/local/lib/python3.6/dist-packages/IPython/core/interactiveshell.py:2718: DtypeWarning: Columns (5,9) have mixed types.Specify dtype option on import or set low_memory=False.\n",
            "  interactivity=interactivity, compiler=compiler, result=result)\n"
          ],
          "name": "stderr"
        }
      ]
    },
    {
      "cell_type": "code",
      "metadata": {
        "id": "9bfAuBXeyhYX",
        "outputId": "f348a01c-5d29-47a9-c856-347cd971d676",
        "colab": {
          "base_uri": "https://localhost:8080/"
        }
      },
      "source": [
        "# read in Movie data\n",
        "mov = pd.read_csv(\"alien_movies.csv\")\n",
        "# shape and data types of the data\n",
        "print(\"What are the dimensions of the dataset?\\n\",mov.shape)\n",
        "print(\"What are the datatypes for each variable?\\n\",mov.dtypes)\n",
        "mov = mov.drop([ 'Unnamed: 2', 'Unnamed: 3'], axis=1)\n",
        "# % of missing.\n",
        "for col in mov.columns:\n",
        "    pct_missing = np.mean(mov[col].isnull())\n",
        "    print(\"Are there any null values?\\n\",'{} - {}%'.format(col, round(pct_missing*100)))"
      ],
      "execution_count": 4,
      "outputs": [
        {
          "output_type": "stream",
          "text": [
            "What are the dimensions of the dataset?\n",
            " (580, 4)\n",
            "What are the datatypes for each variable?\n",
            " Title          object\n",
            "Year            int64\n",
            "Unnamed: 2    float64\n",
            "Unnamed: 3    float64\n",
            "dtype: object\n",
            "Are there any null values?\n",
            " Title - 0.0%\n",
            "Are there any null values?\n",
            " Year - 0.0%\n"
          ],
          "name": "stdout"
        }
      ]
    },
    {
      "cell_type": "code",
      "metadata": {
        "id": "jZR2daeXy2WU",
        "outputId": "5afc4bbe-2c9c-4201-cd96-b27c8fb0fab3",
        "colab": {
          "base_uri": "https://localhost:8080/"
        }
      },
      "source": [
        "# read in Movie data\n",
        "air = pd.read_csv(\"us-airports.csv\")\n",
        "# shape and data types of the data\n",
        "print(\"What are the dimensions of the dataset?\\n\",air.shape)\n",
        "print(\"What are the datatypes for each variable?\\n\",air.dtypes)\n",
        "air = air.drop([ 'last_updated', 'wikipedia_link', 'home_link','gps_code','continent', \n",
        "                'keywords','iata_code', 'local_code', 'iso_country','iso_region', 'country_name', 'score'], axis=1)\n",
        "# % of missing.\n",
        "for col in air.columns:\n",
        "    pct_missing = np.mean(air[col].isnull())\n",
        "    print(\"Are there any null values?\\n\",'{} - {}%'.format(col, round(pct_missing*100)))"
      ],
      "execution_count": 5,
      "outputs": [
        {
          "output_type": "stream",
          "text": [
            "What are the dimensions of the dataset?\n",
            " (23705, 23)\n",
            "What are the datatypes for each variable?\n",
            " id                     int64\n",
            "ident                 object\n",
            "type                  object\n",
            "name                  object\n",
            "latitude_deg         float64\n",
            "longitude_deg        float64\n",
            "elevation_ft         float64\n",
            "continent             object\n",
            "country_name          object\n",
            "iso_country           object\n",
            "region_name           object\n",
            "iso_region            object\n",
            "local_region          object\n",
            "municipality          object\n",
            "scheduled_service      int64\n",
            "gps_code              object\n",
            "iata_code             object\n",
            "local_code            object\n",
            "home_link             object\n",
            "wikipedia_link        object\n",
            "keywords              object\n",
            "score                  int64\n",
            "last_updated          object\n",
            "dtype: object\n",
            "Are there any null values?\n",
            " id - 0.0%\n",
            "Are there any null values?\n",
            " ident - 0.0%\n",
            "Are there any null values?\n",
            " type - 0.0%\n",
            "Are there any null values?\n",
            " name - 0.0%\n",
            "Are there any null values?\n",
            " latitude_deg - 0.0%\n",
            "Are there any null values?\n",
            " longitude_deg - 0.0%\n",
            "Are there any null values?\n",
            " elevation_ft - 3.0%\n",
            "Are there any null values?\n",
            " region_name - 0.0%\n",
            "Are there any null values?\n",
            " local_region - 0.0%\n",
            "Are there any null values?\n",
            " municipality - 0.0%\n",
            "Are there any null values?\n",
            " scheduled_service - 0.0%\n"
          ],
          "name": "stdout"
        }
      ]
    },
    {
      "cell_type": "markdown",
      "metadata": {
        "id": "D0LvXI2NXkdG"
      },
      "source": [
        "The dataset has 11 variables and 80,332 records. \n",
        "The following columns have missing values:\n",
        "\n",
        "\n",
        "*   state - 7%\n",
        "*   Country - 12%\n",
        "*   Shape - 2%\n",
        "\n"
      ]
    },
    {
      "cell_type": "code",
      "metadata": {
        "id": "7R7OUzwnYLLV"
      },
      "source": [
        "#change attributes data type as needed\n",
        "ufo['datetime'] = pd.to_datetime(ufo['datetime'], errors='coerce')\n",
        "ufo.insert(1, 'year', ufo['datetime'].dt.year)\n",
        "ufo['year'] = ufo['year'].fillna(0).astype(int)\n",
        "\n",
        "#print(ufo.country.unique())\n",
        "#print(len(ufo.country),\"Contries\")\n",
        "# The datase includes records from US, GB, CA, AU, and DE.\n",
        "# Should we study one country?\n",
        "nufo = ufo[ufo.country == 'us']\n",
        "\n",
        "us_states = np.asarray(['AK', 'AL', 'AR', 'AZ', 'CA', 'CO', 'CT', 'DC', 'DE', 'FL', 'GA',\n",
        "                        'HI', 'IA', 'ID', 'IL', 'IN', 'KS', 'KY', 'LA', 'MA', 'MD', 'ME',\n",
        "                        'MI', 'MN', 'MO', 'MS', 'MT', 'NC', 'ND', 'NE', 'NH', 'NJ', 'NM',\n",
        "                        'NV', 'NY', 'OH', 'OK', 'OR', 'PA', 'RI', 'SC', 'SD', 'TN', 'TX',\n",
        "                        'UT', 'VA', 'VT', 'WA', 'WI', 'WV', 'WY'])"
      ],
      "execution_count": 18,
      "outputs": []
    },
    {
      "cell_type": "markdown",
      "metadata": {
        "id": "J8PINgTvZt6W"
      },
      "source": [
        "### Data Visualizations"
      ]
    },
    {
      "cell_type": "code",
      "metadata": {
        "id": "3-uEQrFBZyV9",
        "outputId": "b993be78-abaf-48c7-fd54-1a586880ebeb",
        "colab": {
          "base_uri": "https://localhost:8080/",
          "height": 585
        }
      },
      "source": [
        "# Barplot - UFO Shapes\n",
        "plt.figure(figsize=(10,8))\n",
        "sns.set_style(\"darkgrid\")\n",
        "ax = sns.barplot(x =nufo['shape'].value_counts().head().index, y = nufo['shape'].value_counts().head().values, color = 'green')\n",
        "ax.set_xticklabels(ax.get_xticklabels(), rotation=40, ha=\"right\")\n",
        "ax.set_xlabel('Shape').set_size(20)\n",
        "ax.set_ylabel('Count').set_size(20)\n",
        "ax.set_title('TOP 5 SHAPES').set_size(20)\n",
        "plt.tight_layout()\n",
        "for p in ax.patches:\n",
        "        p.set_width(0.5)"
      ],
      "execution_count": 8,
      "outputs": [
        {
          "output_type": "display_data",
          "data": {
            "image/png": "[encoded data removed]",
            "text/plain": [
              "<Figure size 720x576 with 1 Axes>"
            ]
          },
          "metadata": {
            "tags": [],
            "needs_background": "light"
          }
        }
      ]
    },
    {
      "cell_type": "code",
      "metadata": {
        "id": "CC_76fuj5Qi_"
      },
      "source": [
        "hours_high = nufo['datetime'].dt.hour.value_counts()\n",
        "years_high = nufo['datetime'].dt.year.value_counts().head()\n",
        "month_high = nufo['datetime'].dt.month.value_counts()\n",
        "def top_years(year):\n",
        "    if year in years_high.index:\n",
        "        return year\n",
        "hour_vs_year = nufo.pivot_table(columns=nufo['datetime'].dt.hour,index=nufo['datetime'].dt.year.apply(top_years),aggfunc='count',values='city')\n",
        "hour_vs_year.columns = hour_vs_year.columns.astype(int)\n",
        "hour_vs_year.columns = hour_vs_year.columns.astype(str) + \":00\"\n",
        "hour_vs_year.index = hour_vs_year.index.astype(int)\n",
        "\n",
        "month_vs_year = nufo.pivot_table(columns=nufo['datetime'].dt.month,index=nufo['datetime'].dt.year.apply(top_years),aggfunc='count',values='city')\n",
        "month_vs_year.columns = month_vs_year.columns.astype(int)\n"
      ],
      "execution_count": 12,
      "outputs": []
    },
    {
      "cell_type": "code",
      "metadata": {
        "id": "xSJ6632F5ECz",
        "outputId": "8af8b55e-e42c-4d79-ef28-b5366b46f75f",
        "colab": {
          "base_uri": "https://localhost:8080/",
          "height": 524
        }
      },
      "source": [
        "plt.figure(figsize=(10,8))\n",
        "ax = sns.heatmap(hour_vs_year)\n",
        "ax.set_xlabel('Hours').set_size(20)\n",
        "ax.set_ylabel('Year').set_size(20)"
      ],
      "execution_count": 11,
      "outputs": [
        {
          "output_type": "display_data",
          "data": {
            "image/png": "[encoded data removed]",
            "text/plain": [
              "<Figure size 720x576 with 2 Axes>"
            ]
          },
          "metadata": {
            "tags": []
          }
        }
      ]
    },
    {
      "cell_type": "code",
      "metadata": {
        "id": "t653cXet6m7u",
        "outputId": "59a33fbb-5ccf-41b2-84f6-70f929e1dfaa",
        "colab": {
          "base_uri": "https://localhost:8080/",
          "height": 506
        }
      },
      "source": [
        "plt.figure(figsize=(10,8))\n",
        "ax = sns.heatmap(month_vs_year)\n",
        "ax.set_xlabel('Month').set_size(20)\n",
        "ax.set_ylabel('Year').set_size(20)"
      ],
      "execution_count": 13,
      "outputs": [
        {
          "output_type": "display_data",
          "data": {
            "image/png": "[encoded data removed]",
            "text/plain": [
              "<Figure size 720x576 with 2 Axes>"
            ]
          },
          "metadata": {
            "tags": []
          }
        }
      ]
    },
    {
      "cell_type": "code",
      "metadata": {
        "id": "A81zyGY477iN",
        "outputId": "9811404d-d821-46e5-fdd0-765c68d78d58",
        "colab": {
          "base_uri": "https://localhost:8080/",
          "height": 542
        }
      },
      "source": [
        "# UFO sightings per state\n",
        "ufo_perstate = np.asarray(nufo.groupby('state').state.count())\n",
        "\n",
        "ufo_scale = [[0, 'rgb(229, 249, 239)'], [1, 'rgb(0, 163, 81)']]\n",
        "\n",
        "data = [dict(\n",
        "        type = 'choropleth',\n",
        "        autocolorscale = False,\n",
        "        colorscale = ufo_scale,\n",
        "        showscale = False,\n",
        "        locations = us_states,\n",
        "        locationmode = 'USA-states',\n",
        "        z = ufo_perstate,\n",
        "        marker = dict(\n",
        "            line = dict(\n",
        "                color = 'rgb(255, 255, 255)',\n",
        "                width = 2)\n",
        "            )\n",
        "        )]\n",
        "\n",
        "layout = dict(\n",
        "         title = 'UFO Reports by State in United States (1910-2014)',\n",
        "         geo = dict(\n",
        "             scope = 'usa',\n",
        "             projection = dict(type = 'albers usa'),\n",
        "             countrycolor = 'rgb(255, 255, 255)',\n",
        "             showlakes = True,\n",
        "             lakecolor = 'rgb(255, 255, 255)')\n",
        "        )\n",
        "\n",
        "figure = dict(data = data, layout = layout)\n",
        "iplot(figure)"
      ],
      "execution_count": 19,
      "outputs": [
        {
          "output_type": "display_data",
          "data": {
            "text/html": [
              "<html>\n",
              "<head><meta charset=\"utf-8\" /></head>\n",
              "<body>\n",
              "    <div>\n",
              "            <script src=\"https://cdnjs.cloudflare.com/ajax/libs/mathjax/2.7.5/MathJax.js?config=TeX-AMS-MML_SVG\"></script><script type=\"text/javascript\">if (window.MathJax) {MathJax.Hub.Config({SVG: {font: \"STIX-Web\"}});}</script>\n",
              "                <script type=\"text/javascript\">window.PlotlyConfig = {MathJaxConfig: 'local'};</script>\n",
              "        <script src=\"https://cdn.plot.ly/plotly-latest.min.js\"></script>    \n",
              "            <div id=\"943f159b-1580-4f75-8921-ced51fb85adc\" class=\"plotly-graph-div\" style=\"height:525px; width:100%;\"></div>\n",
              "            <script type=\"text/javascript\">\n",
              "                \n",
              "                    window.PLOTLYENV=window.PLOTLYENV || {};\n",
              "                    \n",
              "                if (document.getElementById(\"943f159b-1580-4f75-8921-ced51fb85adc\")) {\n",
              "                    Plotly.newPlot(\n",
              "                        '943f159b-1580-4f75-8921-ced51fb85adc',\n",
              "                        [{\"autocolorscale\": false, \"colorscale\": [[0, \"rgb(229, 249, 239)\"], [1, \"rgb(0, 163, 81)\"]], \"locationmode\": \"USA-states\", \"locations\": [\"AK\", \"AL\", \"AR\", \"AZ\", \"CA\", \"CO\", \"CT\", \"DC\", \"DE\", \"FL\", \"GA\", \"HI\", \"IA\", \"ID\", \"IL\", \"IN\", \"KS\", \"KY\", \"LA\", \"MA\", \"MD\", \"ME\", \"MI\", \"MN\", \"MO\", \"MS\", \"MT\", \"NC\", \"ND\", \"NE\", \"NH\", \"NJ\", \"NM\", \"NV\", \"NY\", \"OH\", \"OK\", \"OR\", \"PA\", \"RI\", \"SC\", \"SD\", \"TN\", \"TX\", \"UT\", \"VA\", \"VT\", \"WA\", \"WI\", \"WV\", \"WY\"], \"marker\": {\"line\": {\"color\": \"rgb(255, 255, 255)\", \"width\": 2}}, \"showscale\": false, \"type\": \"choropleth\", \"z\": [319, 642, 588, 2414, 8912, 1413, 892, 7, 166, 3835, 1255, 262, 678, 521, 2499, 1288, 613, 855, 558, 1256, 837, 558, 1836, 1012, 1458, 375, 478, 1740, 129, 381, 486, 1255, 720, 803, 2980, 2275, 724, 1747, 2366, 25, 228, 1003, 183, 1119, 3447, 622, 1273, 260, 3966, 1232, 448, 175]}],\n",
              "                        {\"geo\": {\"countrycolor\": \"rgb(255, 255, 255)\", \"lakecolor\": \"rgb(255, 255, 255)\", \"projection\": {\"type\": \"albers usa\"}, \"scope\": \"usa\", \"showlakes\": true}, \"template\": {\"data\": {\"bar\": [{\"error_x\": {\"color\": \"#2a3f5f\"}, \"error_y\": {\"color\": \"#2a3f5f\"}, \"marker\": {\"line\": {\"color\": \"#E5ECF6\", \"width\": 0.5}}, \"type\": \"bar\"}], \"barpolar\": [{\"marker\": {\"line\": {\"color\": \"#E5ECF6\", \"width\": 0.5}}, \"type\": \"barpolar\"}], \"carpet\": [{\"aaxis\": {\"endlinecolor\": \"#2a3f5f\", \"gridcolor\": \"white\", \"linecolor\": \"white\", \"minorgridcolor\": \"white\", \"startlinecolor\": \"#2a3f5f\"}, \"baxis\": {\"endlinecolor\": \"#2a3f5f\", \"gridcolor\": \"white\", \"linecolor\": \"white\", \"minorgridcolor\": \"white\", \"startlinecolor\": \"#2a3f5f\"}, \"type\": \"carpet\"}], \"choropleth\": [{\"colorbar\": {\"outlinewidth\": 0, \"ticks\": \"\"}, \"type\": \"choropleth\"}], \"contour\": [{\"colorbar\": {\"outlinewidth\": 0, \"ticks\": \"\"}, \"colorscale\": [[0.0, \"#0d0887\"], [0.1111111111111111, \"#46039f\"], [0.2222222222222222, \"#7201a8\"], [0.3333333333333333, \"#9c179e\"], [0.4444444444444444, \"#bd3786\"], [0.5555555555555556, \"#d8576b\"], [0.6666666666666666, \"#ed7953\"], [0.7777777777777778, \"#fb9f3a\"], [0.8888888888888888, \"#fdca26\"], [1.0, \"#f0f921\"]], \"type\": \"contour\"}], \"contourcarpet\": [{\"colorbar\": {\"outlinewidth\": 0, \"ticks\": \"\"}, \"type\": \"contourcarpet\"}], \"heatmap\": [{\"colorbar\": {\"outlinewidth\": 0, \"ticks\": \"\"}, \"colorscale\": [[0.0, \"#0d0887\"], [0.1111111111111111, \"#46039f\"], [0.2222222222222222, \"#7201a8\"], [0.3333333333333333, \"#9c179e\"], [0.4444444444444444, \"#bd3786\"], [0.5555555555555556, \"#d8576b\"], [0.6666666666666666, \"#ed7953\"], [0.7777777777777778, \"#fb9f3a\"], [0.8888888888888888, \"#fdca26\"], [1.0, \"#f0f921\"]], \"type\": \"heatmap\"}], \"heatmapgl\": [{\"colorbar\": {\"outlinewidth\": 0, \"ticks\": \"\"}, \"colorscale\": [[0.0, \"#0d0887\"], [0.1111111111111111, \"#46039f\"], [0.2222222222222222, \"#7201a8\"], [0.3333333333333333, \"#9c179e\"], [0.4444444444444444, \"#bd3786\"], [0.5555555555555556, \"#d8576b\"], [0.6666666666666666, \"#ed7953\"], [0.7777777777777778, \"#fb9f3a\"], [0.8888888888888888, \"#fdca26\"], [1.0, \"#f0f921\"]], \"type\": \"heatmapgl\"}], \"histogram\": [{\"marker\": {\"colorbar\": {\"outlinewidth\": 0, \"ticks\": \"\"}}, \"type\": \"histogram\"}], \"histogram2d\": [{\"colorbar\": {\"outlinewidth\": 0, \"ticks\": \"\"}, \"colorscale\": [[0.0, \"#0d0887\"], [0.1111111111111111, \"#46039f\"], [0.2222222222222222, \"#7201a8\"], [0.3333333333333333, \"#9c179e\"], [0.4444444444444444, \"#bd3786\"], [0.5555555555555556, \"#d8576b\"], [0.6666666666666666, \"#ed7953\"], [0.7777777777777778, \"#fb9f3a\"], [0.8888888888888888, \"#fdca26\"], [1.0, \"#f0f921\"]], \"type\": \"histogram2d\"}], \"histogram2dcontour\": [{\"colorbar\": {\"outlinewidth\": 0, \"ticks\": \"\"}, \"colorscale\": [[0.0, \"#0d0887\"], [0.1111111111111111, \"#46039f\"], [0.2222222222222222, \"#7201a8\"], [0.3333333333333333, \"#9c179e\"], [0.4444444444444444, \"#bd3786\"], [0.5555555555555556, \"#d8576b\"], [0.6666666666666666, \"#ed7953\"], [0.7777777777777778, \"#fb9f3a\"], [0.8888888888888888, \"#fdca26\"], [1.0, \"#f0f921\"]], \"type\": \"histogram2dcontour\"}], \"mesh3d\": [{\"colorbar\": {\"outlinewidth\": 0, \"ticks\": \"\"}, \"type\": \"mesh3d\"}], \"parcoords\": [{\"line\": {\"colorbar\": {\"outlinewidth\": 0, \"ticks\": \"\"}}, \"type\": \"parcoords\"}], \"pie\": [{\"automargin\": true, \"type\": \"pie\"}], \"scatter\": [{\"marker\": {\"colorbar\": {\"outlinewidth\": 0, \"ticks\": \"\"}}, \"type\": \"scatter\"}], \"scatter3d\": [{\"line\": {\"colorbar\": {\"outlinewidth\": 0, \"ticks\": \"\"}}, \"marker\": {\"colorbar\": {\"outlinewidth\": 0, \"ticks\": \"\"}}, \"type\": \"scatter3d\"}], \"scattercarpet\": [{\"marker\": {\"colorbar\": {\"outlinewidth\": 0, \"ticks\": \"\"}}, \"type\": \"scattercarpet\"}], \"scattergeo\": [{\"marker\": {\"colorbar\": {\"outlinewidth\": 0, \"ticks\": \"\"}}, \"type\": \"scattergeo\"}], \"scattergl\": [{\"marker\": {\"colorbar\": {\"outlinewidth\": 0, \"ticks\": \"\"}}, \"type\": \"scattergl\"}], \"scattermapbox\": [{\"marker\": {\"colorbar\": {\"outlinewidth\": 0, \"ticks\": \"\"}}, \"type\": \"scattermapbox\"}], \"scatterpolar\": [{\"marker\": {\"colorbar\": {\"outlinewidth\": 0, \"ticks\": \"\"}}, \"type\": \"scatterpolar\"}], \"scatterpolargl\": [{\"marker\": {\"colorbar\": {\"outlinewidth\": 0, \"ticks\": \"\"}}, \"type\": \"scatterpolargl\"}], \"scatterternary\": [{\"marker\": {\"colorbar\": {\"outlinewidth\": 0, \"ticks\": \"\"}}, \"type\": \"scatterternary\"}], \"surface\": [{\"colorbar\": {\"outlinewidth\": 0, \"ticks\": \"\"}, \"colorscale\": [[0.0, \"#0d0887\"], [0.1111111111111111, \"#46039f\"], [0.2222222222222222, \"#7201a8\"], [0.3333333333333333, \"#9c179e\"], [0.4444444444444444, \"#bd3786\"], [0.5555555555555556, \"#d8576b\"], [0.6666666666666666, \"#ed7953\"], [0.7777777777777778, \"#fb9f3a\"], [0.8888888888888888, \"#fdca26\"], [1.0, \"#f0f921\"]], \"type\": \"surface\"}], \"table\": [{\"cells\": {\"fill\": {\"color\": \"#EBF0F8\"}, \"line\": {\"color\": \"white\"}}, \"header\": {\"fill\": {\"color\": \"#C8D4E3\"}, \"line\": {\"color\": \"white\"}}, \"type\": \"table\"}]}, \"layout\": {\"annotationdefaults\": {\"arrowcolor\": \"#2a3f5f\", \"arrowhead\": 0, \"arrowwidth\": 1}, \"coloraxis\": {\"colorbar\": {\"outlinewidth\": 0, \"ticks\": \"\"}}, \"colorscale\": {\"diverging\": [[0, \"#8e0152\"], [0.1, \"#c51b7d\"], [0.2, \"#de77ae\"], [0.3, \"#f1b6da\"], [0.4, \"#fde0ef\"], [0.5, \"#f7f7f7\"], [0.6, \"#e6f5d0\"], [0.7, \"#b8e186\"], [0.8, \"#7fbc41\"], [0.9, \"#4d9221\"], [1, \"#276419\"]], \"sequential\": [[0.0, \"#0d0887\"], [0.1111111111111111, \"#46039f\"], [0.2222222222222222, \"#7201a8\"], [0.3333333333333333, \"#9c179e\"], [0.4444444444444444, \"#bd3786\"], [0.5555555555555556, \"#d8576b\"], [0.6666666666666666, \"#ed7953\"], [0.7777777777777778, \"#fb9f3a\"], [0.8888888888888888, \"#fdca26\"], [1.0, \"#f0f921\"]], \"sequentialminus\": [[0.0, \"#0d0887\"], [0.1111111111111111, \"#46039f\"], [0.2222222222222222, \"#7201a8\"], [0.3333333333333333, \"#9c179e\"], [0.4444444444444444, \"#bd3786\"], [0.5555555555555556, \"#d8576b\"], [0.6666666666666666, \"#ed7953\"], [0.7777777777777778, \"#fb9f3a\"], [0.8888888888888888, \"#fdca26\"], [1.0, \"#f0f921\"]]}, \"colorway\": [\"#636efa\", \"#EF553B\", \"#00cc96\", \"#ab63fa\", \"#FFA15A\", \"#19d3f3\", \"#FF6692\", \"#B6E880\", \"#FF97FF\", \"#FECB52\"], \"font\": {\"color\": \"#2a3f5f\"}, \"geo\": {\"bgcolor\": \"white\", \"lakecolor\": \"white\", \"landcolor\": \"#E5ECF6\", \"showlakes\": true, \"showland\": true, \"subunitcolor\": \"white\"}, \"hoverlabel\": {\"align\": \"left\"}, \"hovermode\": \"closest\", \"mapbox\": {\"style\": \"light\"}, \"paper_bgcolor\": \"white\", \"plot_bgcolor\": \"#E5ECF6\", \"polar\": {\"angularaxis\": {\"gridcolor\": \"white\", \"linecolor\": \"white\", \"ticks\": \"\"}, \"bgcolor\": \"#E5ECF6\", \"radialaxis\": {\"gridcolor\": \"white\", \"linecolor\": \"white\", \"ticks\": \"\"}}, \"scene\": {\"xaxis\": {\"backgroundcolor\": \"#E5ECF6\", \"gridcolor\": \"white\", \"gridwidth\": 2, \"linecolor\": \"white\", \"showbackground\": true, \"ticks\": \"\", \"zerolinecolor\": \"white\"}, \"yaxis\": {\"backgroundcolor\": \"#E5ECF6\", \"gridcolor\": \"white\", \"gridwidth\": 2, \"linecolor\": \"white\", \"showbackground\": true, \"ticks\": \"\", \"zerolinecolor\": \"white\"}, \"zaxis\": {\"backgroundcolor\": \"#E5ECF6\", \"gridcolor\": \"white\", \"gridwidth\": 2, \"linecolor\": \"white\", \"showbackground\": true, \"ticks\": \"\", \"zerolinecolor\": \"white\"}}, \"shapedefaults\": {\"line\": {\"color\": \"#2a3f5f\"}}, \"ternary\": {\"aaxis\": {\"gridcolor\": \"white\", \"linecolor\": \"white\", \"ticks\": \"\"}, \"baxis\": {\"gridcolor\": \"white\", \"linecolor\": \"white\", \"ticks\": \"\"}, \"bgcolor\": \"#E5ECF6\", \"caxis\": {\"gridcolor\": \"white\", \"linecolor\": \"white\", \"ticks\": \"\"}}, \"title\": {\"x\": 0.05}, \"xaxis\": {\"automargin\": true, \"gridcolor\": \"white\", \"linecolor\": \"white\", \"ticks\": \"\", \"title\": {\"standoff\": 15}, \"zerolinecolor\": \"white\", \"zerolinewidth\": 2}, \"yaxis\": {\"automargin\": true, \"gridcolor\": \"white\", \"linecolor\": \"white\", \"ticks\": \"\", \"title\": {\"standoff\": 15}, \"zerolinecolor\": \"white\", \"zerolinewidth\": 2}}}, \"title\": {\"text\": \"UFO Reports by State in United States (1910-2014)\"}},\n",
              "                        {\"responsive\": true}\n",
              "                    ).then(function(){\n",
              "                            \n",
              "var gd = document.getElementById('943f159b-1580-4f75-8921-ced51fb85adc');\n",
              "var x = new MutationObserver(function (mutations, observer) {{\n",
              "        var display = window.getComputedStyle(gd).display;\n",
              "        if (!display || display === 'none') {{\n",
              "            console.log([gd, 'removed!']);\n",
              "            Plotly.purge(gd);\n",
              "            observer.disconnect();\n",
              "        }}\n",
              "}});\n",
              "\n",
              "// Listen for the removal of the full notebook cells\n",
              "var notebookContainer = gd.closest('#notebook-container');\n",
              "if (notebookContainer) {{\n",
              "    x.observe(notebookContainer, {childList: true});\n",
              "}}\n",
              "\n",
              "// Listen for the clearing of the current output cell\n",
              "var outputEl = gd.closest('.output');\n",
              "if (outputEl) {{\n",
              "    x.observe(outputEl, {childList: true});\n",
              "}}\n",
              "\n",
              "                        })\n",
              "                };\n",
              "                \n",
              "            </script>\n",
              "        </div>\n",
              "</body>\n",
              "</html>"
            ]
          },
          "metadata": {
            "tags": []
          }
        }
      ]
    },
    {
      "cell_type": "markdown",
      "metadata": {
        "id": "-buoLfGkZVXy"
      },
      "source": [
        "### Build a training and testing dataframes"
      ]
    },
    {
      "cell_type": "code",
      "metadata": {
        "id": "WXQANipHZVEC"
      },
      "source": [
        "np.random.seed(1234)\n",
        "nufo['runiform'] = uniform.rvs(loc = 0, scale = 1, size = len(df))\n",
        "train = nufo[nufo['runiform'] >= 0.33]\n",
        "test = nufo[nufo['runiform'] < 0.33]"
      ],
      "execution_count": null,
      "outputs": []
    },
    {
      "cell_type": "markdown",
      "metadata": {
        "id": "Wfwxtt5jbQd-"
      },
      "source": [
        "### Initial data analysis\n"
      ]
    },
    {
      "cell_type": "markdown",
      "metadata": {
        "id": "1mZzAyZucTNt"
      },
      "source": [
        "### Models\n"
      ]
    },
    {
      "cell_type": "markdown",
      "metadata": {
        "id": "H78TmCrCcz3G"
      },
      "source": [
        "### Questions"
      ]
    }
  ]
}