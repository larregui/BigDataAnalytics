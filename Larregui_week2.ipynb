{
  "nbformat": 4,
  "nbformat_minor": 0,
  "metadata": {
    "kernelspec": {
      "display_name": "Python 3",
      "language": "python",
      "name": "python3"
    },
    "language_info": {
      "codemirror_mode": {
        "name": "ipython",
        "version": 3
      },
      "file_extension": ".py",
      "mimetype": "text/x-python",
      "name": "python",
      "nbconvert_exporter": "python",
      "pygments_lexer": "ipython3",
      "version": "3.6.2"
    },
    "colab": {
      "name": "Larregui_week2.ipynb",
      "provenance": [],
      "collapsed_sections": [],
      "include_colab_link": true
    }
  },
  "cells": [
    {
      "cell_type": "markdown",
      "metadata": {
        "id": "view-in-github",
        "colab_type": "text"
      },
      "source": [
        "<a href=\"https://colab.research.google.com/github/larregui/BigDataAnalytics/blob/main/Larregui_week2.ipynb\" target=\"_parent\"><img src=\"https://colab.research.google.com/assets/colab-badge.svg\" alt=\"Open In Colab\"/></a>"
      ]
    },
    {
      "cell_type": "code",
      "metadata": {
        "id": "3Rrs9NgL503w",
        "outputId": "0ed2cf28-3bcf-4762-f7c6-9616ffe78d02",
        "colab": {
          "base_uri": "https://localhost:8080/"
        }
      },
      "source": [
        "# Predictive Model for Los Angeles Dodgers Promotion and Attendance (Python)\n",
        "\n",
        "# BASED ON EXHIBIT 2.1 FROM MILLER (2015)\n",
        "\n",
        "# import packages for analysis and modeling\n",
        "import pandas as pd  # data frame operations\n",
        "\n",
        "import numpy as np  # arrays and math functions\n",
        "from scipy.stats import uniform  # for training-and-test split\n",
        "import statsmodels.api as sm  # statistical models (including regression)\n",
        "import statsmodels.formula.api as smf  # R-like model specification\n",
        "import matplotlib.pyplot as plt  # 2D plotting\n",
        "\n",
        "import seaborn as sns  # PROVIDES TRELLIS AND SMALL MULTIPLE PLOTTING\n",
        "\n",
        "# read in Dodgers bobbleheads data and create data frame\n",
        "dodgers = pd.read_csv(\"/content/dodgers.csv\")\n",
        "\n",
        "# examine the structure of the data frame\n",
        "print(\"\\nContents of dodgers data frame ---------------\")\n",
        "\n",
        "# attendance in thousands for plotting \n",
        "dodgers['attend_000'] = dodgers['attend']/1000\n",
        "\n",
        "# print the first five rows of the data frame\n",
        "print(pd.DataFrame.head(dodgers))\n",
        "dodgerDF = pd.DataFrame(dodgers)\n",
        "\n",
        "mondays = dodgers[dodgers['day_of_week'] == 'Monday']\n",
        "tuesdays = dodgers[dodgers['day_of_week'] == 'Tuesday']\n",
        "wednesdays = dodgers[dodgers['day_of_week'] == 'Wednesday']\n",
        "thursdays = dodgers[dodgers['day_of_week'] == 'Thursday']\n",
        "fridays = dodgers[dodgers['day_of_week'] == 'Friday']\n",
        "saturdays = dodgers[dodgers['day_of_week'] == 'Saturday']\n",
        "sundays = dodgers[dodgers['day_of_week'] == 'Sunday']\n",
        "\n",
        "# convert days' attendance into list of vectors for box plot\n",
        "data = [mondays['attend_000'], tuesdays['attend_000'], \n",
        "    wednesdays['attend_000'], thursdays['attend_000'], \n",
        "    fridays['attend_000'], saturdays['attend_000'], \n",
        "    sundays['attend_000']]\n",
        "ordered_day_names = ['Mon', 'Tue', 'Wed', 'Thur', 'Fri', 'Sat', 'Sun']\n",
        "\n",
        "ordered_team_names = (sorted(set(dodgers['opponent']), reverse = True))\n"
      ],
      "execution_count": 2,
      "outputs": [
        {
          "output_type": "stream",
          "text": [
            "\n",
            "Contents of dodgers data frame ---------------\n",
            "  month  day  attend day_of_week  ... shirt  fireworks bobblehead attend_000\n",
            "0   APR   10   56000     Tuesday  ...    NO         NO         NO     56.000\n",
            "1   APR   11   29729   Wednesday  ...    NO         NO         NO     29.729\n",
            "2   APR   12   28328    Thursday  ...    NO         NO         NO     28.328\n",
            "3   APR   13   31601      Friday  ...    NO        YES         NO     31.601\n",
            "4   APR   14   46549    Saturday  ...    NO         NO         NO     46.549\n",
            "\n",
            "[5 rows x 13 columns]\n"
          ],
          "name": "stdout"
        }
      ]
    },
    {
      "cell_type": "code",
      "metadata": {
        "id": "VSm22Xov_CBC"
      },
      "source": [
        "# ORDERING DATA\n",
        "\n",
        "# map day_of_week to ordered_day_of_week \n",
        "day_to_ordered_day = {'Monday' : '1Monday', \n",
        "    'Tuesday' : '2Tuesday', \n",
        "    'Wednesday' : '3Wednesday', \n",
        "    'Thursday' : '4Thursday', \n",
        "    'Friday' : '5Friday',\n",
        "    'Saturday' : '6Saturday',\n",
        "    'Sunday' : '7Sunday'}\n",
        "dodgers['ordered_day_of_week'] = dodgers['day_of_week'].map(day_to_ordered_day)   \n",
        "\n",
        "# map month to ordered_month\n",
        "month_to_ordered_month = {'APR' : '1April', \n",
        "     'MAY' : '2May', \n",
        "     'JUN' : '3June', \n",
        "     'JUL' : '4July', \n",
        "     'AUG' : '5Aug',\n",
        "     'SEP' : '6Sept',\n",
        "     'OCT' : '7Oct'}\n",
        "dodgers['ordered_month'] = dodgers['month'].map(month_to_ordered_month)"
      ],
      "execution_count": 23,
      "outputs": []
    },
    {
      "cell_type": "code",
      "metadata": {
        "id": "btZeXYZ0DjiV",
        "outputId": "98755746-c6b4-4972-d91c-1151b13c9835",
        "colab": {
          "base_uri": "https://localhost:8080/",
          "height": 270
        }
      },
      "source": [
        "corrMatrix = dodgers.corr()\n",
        "sns.heatmap(corrMatrix, annot=True)\n",
        "plt.show()"
      ],
      "execution_count": 25,
      "outputs": [
        {
          "output_type": "display_data",
          "data": {
            "image/png": "[encoded data removed]",
            "text/plain": [
              "<Figure size 432x288 with 2 Axes>"
            ]
          },
          "metadata": {
            "tags": [],
            "needs_background": "light"
          }
        }
      ]
    },
    {
      "cell_type": "code",
      "metadata": {
        "id": "_T0Rmlbp_IOi",
        "outputId": "7e7404f6-0bc1-4d6d-edaa-c781ea9fc1d5",
        "colab": {
          "base_uri": "https://localhost:8080/"
        }
      },
      "source": [
        "# employ training-and-test regimen for model validation\n",
        "np.random.seed(1234)\n",
        "dodgers['runiform'] = uniform.rvs(loc = 0, scale = 1, size = len(dodgers))\n",
        "train = dodgers[dodgers['runiform'] >= 0.33]\n",
        "test = dodgers[dodgers['runiform'] < 0.33]\n",
        "\n",
        "# Model 1\n",
        "my_model = str('attend ~ ordered_month + ordered_day_of_week + skies +bobblehead')\n",
        "\n",
        "# fit the model to the training set\n",
        "train_model_fit = smf.ols(my_model, data = train).fit()\n",
        "\n",
        "# summary of model fit to the training set\n",
        "print(train_model_fit.summary())\n",
        "\n",
        "train['predict_attend'] = train_model_fit.fittedvalues\n",
        "\n",
        "test['predict_attend'] = train_model_fit.predict(test)"
      ],
      "execution_count": 19,
      "outputs": [
        {
          "output_type": "stream",
          "text": [
            "                            OLS Regression Results                            \n",
            "==============================================================================\n",
            "Dep. Variable:                 attend   R-squared:                       0.643\n",
            "Model:                            OLS   Adj. R-squared:                  0.524\n",
            "Method:                 Least Squares   F-statistic:                     5.397\n",
            "Date:                Sat, 31 Oct 2020   Prob (F-statistic):           1.00e-05\n",
            "Time:                        14:24:09   Log-Likelihood:                -566.60\n",
            "No. Observations:                  57   AIC:                             1163.\n",
            "Df Residuals:                      42   BIC:                             1194.\n",
            "Df Model:                          14                                         \n",
            "Covariance Type:            nonrobust                                         \n",
            "=====================================================================================================\n",
            "                                        coef    std err          t      P>|t|      [0.025      0.975]\n",
            "-----------------------------------------------------------------------------------------------------\n",
            "Intercept                          3.676e+04   3383.325     10.866      0.000    2.99e+04    4.36e+04\n",
            "ordered_month[T.2May]             -3804.5270   2815.175     -1.351      0.184   -9485.781    1876.727\n",
            "ordered_month[T.3June]             8048.1063   3213.265      2.505      0.016    1563.474    1.45e+04\n",
            "ordered_month[T.4July]             3162.0657   3371.592      0.938      0.354   -3642.083    9966.215\n",
            "ordered_month[T.5Aug]              1089.9430   3094.284      0.352      0.726   -5154.575    7334.461\n",
            "ordered_month[T.6Sept]              724.4633   3014.531      0.240      0.811   -5359.106    6808.032\n",
            "ordered_month[T.7Oct]              -933.1412   6469.958     -0.144      0.886    -1.4e+04    1.21e+04\n",
            "ordered_day_of_week[T.2Tuesday]    5148.7993   3551.931      1.450      0.155   -2019.288    1.23e+04\n",
            "ordered_day_of_week[T.3Wednesday]  -310.0199   3321.586     -0.093      0.926   -7013.252    6393.212\n",
            "ordered_day_of_week[T.4Thursday]   -659.6697   3891.713     -0.170      0.866   -8513.464    7194.125\n",
            "ordered_day_of_week[T.5Friday]     3651.4235   2928.772      1.247      0.219   -2259.077    9561.924\n",
            "ordered_day_of_week[T.6Saturday]   3311.3463   3012.610      1.099      0.278   -2768.346    9391.039\n",
            "ordered_day_of_week[T.7Sunday]     2627.7652   3186.642      0.825      0.414   -3803.139    9058.669\n",
            "skies[T.Cloudy]                   -1505.7707   2377.701     -0.633      0.530   -6304.165    3292.624\n",
            "bobblehead[T.YES]                  1.211e+04   2723.232      4.448      0.000    6618.137    1.76e+04\n",
            "==============================================================================\n",
            "Omnibus:                        3.219   Durbin-Watson:                   2.121\n",
            "Prob(Omnibus):                  0.200   Jarque-Bera (JB):                2.542\n",
            "Skew:                           0.511   Prob(JB):                        0.281\n",
            "Kurtosis:                       3.160   Cond. No.                         11.0\n",
            "==============================================================================\n",
            "\n",
            "Warnings:\n",
            "[1] Standard Errors assume that the covariance matrix of the errors is correctly specified.\n"
          ],
          "name": "stdout"
        },
        {
          "output_type": "stream",
          "text": [
            "/usr/local/lib/python3.6/dist-packages/ipykernel_launcher.py:16: SettingWithCopyWarning: \n",
            "A value is trying to be set on a copy of a slice from a DataFrame.\n",
            "Try using .loc[row_indexer,col_indexer] = value instead\n",
            "\n",
            "See the caveats in the documentation: https://pandas.pydata.org/pandas-docs/stable/user_guide/indexing.html#returning-a-view-versus-a-copy\n",
            "  app.launch_new_instance()\n",
            "/usr/local/lib/python3.6/dist-packages/ipykernel_launcher.py:18: SettingWithCopyWarning: \n",
            "A value is trying to be set on a copy of a slice from a DataFrame.\n",
            "Try using .loc[row_indexer,col_indexer] = value instead\n",
            "\n",
            "See the caveats in the documentation: https://pandas.pydata.org/pandas-docs/stable/user_guide/indexing.html#returning-a-view-versus-a-copy\n"
          ],
          "name": "stderr"
        }
      ]
    },
    {
      "cell_type": "code",
      "metadata": {
        "id": "vPfeG82Z_1Cn",
        "outputId": "2cc88c63-b8f8-4d39-db27-836de18fbc4f",
        "colab": {
          "base_uri": "https://localhost:8080/"
        }
      },
      "source": [
        "#Using full dataset\n",
        "my_model_fit = smf.ols(my_model, data = dodgers).fit()\n",
        "print(my_model_fit.summary())"
      ],
      "execution_count": 20,
      "outputs": [
        {
          "output_type": "stream",
          "text": [
            "                            OLS Regression Results                            \n",
            "==============================================================================\n",
            "Dep. Variable:                 attend   R-squared:                       0.559\n",
            "Model:                            OLS   Adj. R-squared:                  0.465\n",
            "Method:                 Least Squares   F-statistic:                     5.968\n",
            "Date:                Sat, 31 Oct 2020   Prob (F-statistic):           2.17e-07\n",
            "Time:                        14:24:12   Log-Likelihood:                -812.22\n",
            "No. Observations:                  81   AIC:                             1654.\n",
            "Df Residuals:                      66   BIC:                             1690.\n",
            "Df Model:                          14                                         \n",
            "Covariance Type:            nonrobust                                         \n",
            "=====================================================================================================\n",
            "                                        coef    std err          t      P>|t|      [0.025      0.975]\n",
            "-----------------------------------------------------------------------------------------------------\n",
            "Intercept                           3.53e+04   2674.948     13.196      0.000       3e+04    4.06e+04\n",
            "ordered_month[T.2May]             -3619.4053   2423.439     -1.493      0.140   -8457.957    1219.146\n",
            "ordered_month[T.3June]             5898.1922   2844.386      2.074      0.042     219.193    1.16e+04\n",
            "ordered_month[T.4July]             2231.8287   2591.594      0.861      0.392   -2942.455    7406.113\n",
            "ordered_month[T.5Aug]               981.9946   2566.679      0.383      0.703   -4142.545    6106.534\n",
            "ordered_month[T.6Sept]             -793.2216   2562.463     -0.310      0.758   -5909.345    4322.902\n",
            "ordered_month[T.7Oct]             -1490.6548   4052.171     -0.368      0.714   -9581.075    6599.766\n",
            "ordered_day_of_week[T.2Tuesday]    8294.4599   2692.260      3.081      0.003    2919.190    1.37e+04\n",
            "ordered_day_of_week[T.3Wednesday]  3098.6730   2530.840      1.224      0.225   -1954.312    8151.658\n",
            "ordered_day_of_week[T.4Thursday]    934.1158   3458.565      0.270      0.788   -5971.133    7839.365\n",
            "ordered_day_of_week[T.5Friday]     5094.2917   2487.772      2.048      0.045     127.295    1.01e+04\n",
            "ordered_day_of_week[T.6Saturday]   6771.0858   2545.297      2.660      0.010    1689.236    1.19e+04\n",
            "ordered_day_of_week[T.7Sunday]     6228.2311   2508.653      2.483      0.016    1219.543    1.12e+04\n",
            "skies[T.Cloudy]                   -2706.5489   1850.049     -1.463      0.148   -6400.290     987.192\n",
            "bobblehead[T.YES]                  1.056e+04   2401.657      4.395      0.000    5760.659    1.54e+04\n",
            "==============================================================================\n",
            "Omnibus:                        6.129   Durbin-Watson:                   2.143\n",
            "Prob(Omnibus):                  0.047   Jarque-Bera (JB):                5.827\n",
            "Skew:                           0.655   Prob(JB):                       0.0543\n",
            "Kurtosis:                       3.102   Cond. No.                         10.2\n",
            "==============================================================================\n",
            "\n",
            "Warnings:\n",
            "[1] Standard Errors assume that the covariance matrix of the errors is correctly specified.\n"
          ],
          "name": "stdout"
        }
      ]
    },
    {
      "cell_type": "code",
      "metadata": {
        "id": "2s-1Q7vJBCee",
        "outputId": "ba386b23-aeb5-449c-d115-f97ccdc3bab3",
        "colab": {
          "base_uri": "https://localhost:8080/"
        }
      },
      "source": [
        "#Add set column \n",
        "test['set']='Test'\n",
        "train['set']='Train'\n",
        "\n",
        "#combine datasets\n",
        "combo = test.append(train, ignore_index=True)"
      ],
      "execution_count": 21,
      "outputs": [
        {
          "output_type": "stream",
          "text": [
            "/usr/local/lib/python3.6/dist-packages/ipykernel_launcher.py:2: SettingWithCopyWarning: \n",
            "A value is trying to be set on a copy of a slice from a DataFrame.\n",
            "Try using .loc[row_indexer,col_indexer] = value instead\n",
            "\n",
            "See the caveats in the documentation: https://pandas.pydata.org/pandas-docs/stable/user_guide/indexing.html#returning-a-view-versus-a-copy\n",
            "  \n",
            "/usr/local/lib/python3.6/dist-packages/ipykernel_launcher.py:3: SettingWithCopyWarning: \n",
            "A value is trying to be set on a copy of a slice from a DataFrame.\n",
            "Try using .loc[row_indexer,col_indexer] = value instead\n",
            "\n",
            "See the caveats in the documentation: https://pandas.pydata.org/pandas-docs/stable/user_guide/indexing.html#returning-a-view-versus-a-copy\n",
            "  This is separate from the ipykernel package so we can avoid doing imports until\n"
          ],
          "name": "stderr"
        }
      ]
    },
    {
      "cell_type": "code",
      "metadata": {
        "id": "KGISk-7tB2bk",
        "outputId": "8d4a6771-3161-45dd-9de5-11a95d2bb60c",
        "colab": {
          "base_uri": "https://localhost:8080/",
          "height": 232
        }
      },
      "source": [
        "g = sns.FacetGrid(combo, col=\"set\", hue=\"bobblehead\", \n",
        "                  hue_order=[\"YES\", \"NO\"],\n",
        "                  #reorder col\n",
        "                  col_order=[\"Train\",\"Test\"],\n",
        "                  hue_kws=dict(marker=[\"^\", \"v\"]))\n",
        "g.map(plt.scatter, \"attend\", \"predict_attend\",\n",
        "      alpha=.7).set_axis_labels(\"Actual Attendance (in thousands)\",\n",
        "                                \"Predicted Attendance (in thousands)\")\n",
        "g.add_legend();\n",
        "plt.subplots_adjust(top=0.75)\n",
        "g.fig.suptitle('Regression Model Performance', fontsize = 16)\n",
        "plt.show()\n"
      ],
      "execution_count": 22,
      "outputs": [
        {
          "output_type": "display_data",
          "data": {
            "image/png": "[encoded data removed]",
            "text/plain": [
              "<Figure size 498.75x216 with 2 Axes>"
            ]
          },
          "metadata": {
            "tags": [],
            "needs_background": "light"
          }
        }
      ]
    }
  ]
}