{
  "nbformat": 4,
  "nbformat_minor": 0,
  "metadata": {
    "colab": {
      "name": "UFO_EDA2.ipynb",
      "provenance": [],
      "mount_file_id": "1Le0QHeyQ60Cc8d-GiM_bsan4sPnExJjJ",
      "authorship_tag": "ABX9TyMpN84SHrMOv43WYQSVA5dd",
      "include_colab_link": true
    },
    "kernelspec": {
      "name": "python3",
      "display_name": "Python 3"
    }
  },
  "cells": [
    {
      "cell_type": "markdown",
      "metadata": {
        "id": "view-in-github",
        "colab_type": "text"
      },
      "source": [
        "<a href=\"https://colab.research.google.com/github/larregui/BigDataAnalytics/blob/main/UFO_EDA2.ipynb\" target=\"_parent\"><img src=\"https://colab.research.google.com/assets/colab-badge.svg\" alt=\"Open In Colab\"/></a>"
      ]
    },
    {
      "cell_type": "code",
      "metadata": {
        "id": "5JMTOFyOS_Hw"
      },
      "source": [
        "import pandas as pd\n",
        "import numpy as np\n",
        "import matplotlib\n",
        "import matplotlib.pyplot as plt\n",
        "\n",
        "from textblob import TextBlob\n",
        "%matplotlib inline"
      ],
      "execution_count": 1,
      "outputs": []
    },
    {
      "cell_type": "code",
      "metadata": {
        "id": "napueGA_TLeP"
      },
      "source": [
        "df=pd.read_csv(\"/content/newufo.csv\")"
      ],
      "execution_count": 2,
      "outputs": []
    },
    {
      "cell_type": "code",
      "metadata": {
        "colab": {
          "base_uri": "https://localhost:8080/"
        },
        "id": "dhODubc2ToWc",
        "outputId": "4bf73ae5-7895-47d8-c6e0-b3ac0b43a401"
      },
      "source": [
        "abducted = df[df['comments'].str.contains('abducted')]\n",
        "print(\"Reports with the word abducted\",len(abducted))\n",
        "youtube = df[df['comments'].str.contains('youtube.com/')]\n",
        "print(\"Reports with the youtube hyperlinks\",len(youtube))\n",
        "nuforc_note = df[df['comments'].str.contains('NUFORC Note')]\n",
        "print(\"Reports with the NUFORC notes\",len(nuforc_note))\n",
        "print(\"Size of the dataframe\",len(df))\n",
        "nuforc1 = df[(df['comments'].str.contains('NUFORC Note')) & (df['comments'].str.contains('contacted'))]\n",
        "nuforc2 = df[(df['comments'].str.contains('NUFORC Note')) & (df['comments'].str.contains('talked'))]\n",
        "nuforc = nuforc1.merge(nuforc2, how='outer', left_index=True, right_index=True)\n",
        "print(\"Estimate no. of reports NUFORC seeked or made contact with a witness\",len(nuforc))"
      ],
      "execution_count": null,
      "outputs": [
        {
          "output_type": "stream",
          "text": [
            "Reports with the word abducted 20\n",
            "Reports with the youtube hyperlinks 10\n",
            "Reports with the NUFORC notes 2119\n",
            "Size of the dataframe 65101\n",
            "Estimate no. of reports NUFORC seeked or made contact with a witness 1\n"
          ],
          "name": "stdout"
        }
      ]
    },
    {
      "cell_type": "markdown",
      "metadata": {
        "id": "gep8BNoHV9Dy"
      },
      "source": [
        "List the top 15 cities which report sightings the most"
      ]
    },
    {
      "cell_type": "code",
      "metadata": {
        "colab": {
          "base_uri": "https://localhost:8080/",
          "height": 507
        },
        "id": "grgUudgSpcNc",
        "outputId": "e04fb882-eda7-47a2-f4dd-10ac7f182cd1"
      },
      "source": [
        "df_state = pd.DataFrame(df.groupby('state')['comments'].nunique())\r\n",
        "top_15_state = df_state.sort_values('comments', ascending=False)[:15]\r\n",
        "top_15_state"
      ],
      "execution_count": null,
      "outputs": [
        {
          "output_type": "execute_result",
          "data": {
            "text/html": [
              "<div>\n",
              "<style scoped>\n",
              "    .dataframe tbody tr th:only-of-type {\n",
              "        vertical-align: middle;\n",
              "    }\n",
              "\n",
              "    .dataframe tbody tr th {\n",
              "        vertical-align: top;\n",
              "    }\n",
              "\n",
              "    .dataframe thead th {\n",
              "        text-align: right;\n",
              "    }\n",
              "</style>\n",
              "<table border=\"1\" class=\"dataframe\">\n",
              "  <thead>\n",
              "    <tr style=\"text-align: right;\">\n",
              "      <th></th>\n",
              "      <th>comments</th>\n",
              "    </tr>\n",
              "    <tr>\n",
              "      <th>state</th>\n",
              "      <th></th>\n",
              "    </tr>\n",
              "  </thead>\n",
              "  <tbody>\n",
              "    <tr>\n",
              "      <th>ca</th>\n",
              "      <td>8900</td>\n",
              "    </tr>\n",
              "    <tr>\n",
              "      <th>wa</th>\n",
              "      <td>3961</td>\n",
              "    </tr>\n",
              "    <tr>\n",
              "      <th>fl</th>\n",
              "      <td>3832</td>\n",
              "    </tr>\n",
              "    <tr>\n",
              "      <th>tx</th>\n",
              "      <td>3440</td>\n",
              "    </tr>\n",
              "    <tr>\n",
              "      <th>ny</th>\n",
              "      <td>2976</td>\n",
              "    </tr>\n",
              "    <tr>\n",
              "      <th>il</th>\n",
              "      <td>2494</td>\n",
              "    </tr>\n",
              "    <tr>\n",
              "      <th>az</th>\n",
              "      <td>2413</td>\n",
              "    </tr>\n",
              "    <tr>\n",
              "      <th>pa</th>\n",
              "      <td>2362</td>\n",
              "    </tr>\n",
              "    <tr>\n",
              "      <th>oh</th>\n",
              "      <td>2272</td>\n",
              "    </tr>\n",
              "    <tr>\n",
              "      <th>mi</th>\n",
              "      <td>1830</td>\n",
              "    </tr>\n",
              "    <tr>\n",
              "      <th>or</th>\n",
              "      <td>1747</td>\n",
              "    </tr>\n",
              "    <tr>\n",
              "      <th>nc</th>\n",
              "      <td>1739</td>\n",
              "    </tr>\n",
              "    <tr>\n",
              "      <th>mo</th>\n",
              "      <td>1454</td>\n",
              "    </tr>\n",
              "    <tr>\n",
              "      <th>co</th>\n",
              "      <td>1412</td>\n",
              "    </tr>\n",
              "    <tr>\n",
              "      <th>in</th>\n",
              "      <td>1286</td>\n",
              "    </tr>\n",
              "  </tbody>\n",
              "</table>\n",
              "</div>"
            ],
            "text/plain": [
              "       comments\n",
              "state          \n",
              "ca         8900\n",
              "wa         3961\n",
              "fl         3832\n",
              "tx         3440\n",
              "ny         2976\n",
              "il         2494\n",
              "az         2413\n",
              "pa         2362\n",
              "oh         2272\n",
              "mi         1830\n",
              "or         1747\n",
              "nc         1739\n",
              "mo         1454\n",
              "co         1412\n",
              "in         1286"
            ]
          },
          "metadata": {
            "tags": []
          },
          "execution_count": 6
        }
      ]
    },
    {
      "cell_type": "code",
      "metadata": {
        "colab": {
          "base_uri": "https://localhost:8080/",
          "height": 421
        },
        "id": "wXtZAj8xY0Lo",
        "outputId": "7e44d60d-aa55-41b9-cdc0-272d4e2c87b0"
      },
      "source": [
        "df_state = pd.DataFrame(df.groupby('year')['comments'].nunique())\r\n",
        "top_15_state = df_state.sort_values('comments', ascending=False)\r\n",
        "top_15_state"
      ],
      "execution_count": 7,
      "outputs": [
        {
          "output_type": "execute_result",
          "data": {
            "text/html": [
              "<div>\n",
              "<style scoped>\n",
              "    .dataframe tbody tr th:only-of-type {\n",
              "        vertical-align: middle;\n",
              "    }\n",
              "\n",
              "    .dataframe tbody tr th {\n",
              "        vertical-align: top;\n",
              "    }\n",
              "\n",
              "    .dataframe thead th {\n",
              "        text-align: right;\n",
              "    }\n",
              "</style>\n",
              "<table border=\"1\" class=\"dataframe\">\n",
              "  <thead>\n",
              "    <tr style=\"text-align: right;\">\n",
              "      <th></th>\n",
              "      <th>comments</th>\n",
              "    </tr>\n",
              "    <tr>\n",
              "      <th>year</th>\n",
              "      <th></th>\n",
              "    </tr>\n",
              "  </thead>\n",
              "  <tbody>\n",
              "    <tr>\n",
              "      <th>2013.0</th>\n",
              "      <td>2135</td>\n",
              "    </tr>\n",
              "    <tr>\n",
              "      <th>2012.0</th>\n",
              "      <td>2119</td>\n",
              "    </tr>\n",
              "    <tr>\n",
              "      <th>2011.0</th>\n",
              "      <td>1523</td>\n",
              "    </tr>\n",
              "    <tr>\n",
              "      <th>2008.0</th>\n",
              "      <td>1355</td>\n",
              "    </tr>\n",
              "    <tr>\n",
              "      <th>2007.0</th>\n",
              "      <td>1213</td>\n",
              "    </tr>\n",
              "    <tr>\n",
              "      <th>...</th>\n",
              "      <td>...</td>\n",
              "    </tr>\n",
              "    <tr>\n",
              "      <th>1945.0</th>\n",
              "      <td>1</td>\n",
              "    </tr>\n",
              "    <tr>\n",
              "      <th>1944.0</th>\n",
              "      <td>1</td>\n",
              "    </tr>\n",
              "    <tr>\n",
              "      <th>1943.0</th>\n",
              "      <td>1</td>\n",
              "    </tr>\n",
              "    <tr>\n",
              "      <th>1936.0</th>\n",
              "      <td>1</td>\n",
              "    </tr>\n",
              "    <tr>\n",
              "      <th>1910.0</th>\n",
              "      <td>1</td>\n",
              "    </tr>\n",
              "  </tbody>\n",
              "</table>\n",
              "<p>75 rows × 1 columns</p>\n",
              "</div>"
            ],
            "text/plain": [
              "        comments\n",
              "year            \n",
              "2013.0      2135\n",
              "2012.0      2119\n",
              "2011.0      1523\n",
              "2008.0      1355\n",
              "2007.0      1213\n",
              "...          ...\n",
              "1945.0         1\n",
              "1944.0         1\n",
              "1943.0         1\n",
              "1936.0         1\n",
              "1910.0         1\n",
              "\n",
              "[75 rows x 1 columns]"
            ]
          },
          "metadata": {
            "tags": []
          },
          "execution_count": 7
        }
      ]
    },
    {
      "cell_type": "code",
      "metadata": {
        "colab": {
          "base_uri": "https://localhost:8080/",
          "height": 363
        },
        "id": "ycamDUmxpsvr",
        "outputId": "387df668-78a2-4dc6-c17f-6661c8f7fc35"
      },
      "source": [
        "plt.figure(figsize=(15,6))\r\n",
        "plt.bar(top_15_state.index, top_15_state['comments']\r\n",
        "       ,color='royalblue')\r\n",
        "plt.title('Most reported UFO sightings by State')\r\n",
        "plt.xticks(rotation=90)"
      ],
      "execution_count": null,
      "outputs": [
        {
          "output_type": "execute_result",
          "data": {
            "text/plain": [
              "([0, 1, 2, 3, 4, 5, 6, 7, 8, 9, 10, 11, 12, 13, 14],\n",
              " <a list of 15 Text major ticklabel objects>)"
            ]
          },
          "metadata": {
            "tags": []
          },
          "execution_count": 8
        },
        {
          "output_type": "display_data",
          "data": {
            "image/png": "[encoded data removed]",
            "text/plain": [
              "<Figure size 1080x432 with 1 Axes>"
            ]
          },
          "metadata": {
            "tags": [],
            "needs_background": "light"
          }
        }
      ]
    },
    {
      "cell_type": "code",
      "metadata": {
        "colab": {
          "base_uri": "https://localhost:8080/",
          "height": 507
        },
        "id": "MnxcufsRWA4m",
        "outputId": "5d1035e5-c6d1-4a55-e320-d66231096f25"
      },
      "source": [
        "df_cities = pd.DataFrame(df.groupby('city')['comments'].nunique())\n",
        "top_15_cities = df_cities.sort_values('comments', ascending=False)[:15]\n",
        "top_15_cities"
      ],
      "execution_count": null,
      "outputs": [
        {
          "output_type": "execute_result",
          "data": {
            "text/html": [
              "<div>\n",
              "<style scoped>\n",
              "    .dataframe tbody tr th:only-of-type {\n",
              "        vertical-align: middle;\n",
              "    }\n",
              "\n",
              "    .dataframe tbody tr th {\n",
              "        vertical-align: top;\n",
              "    }\n",
              "\n",
              "    .dataframe thead th {\n",
              "        text-align: right;\n",
              "    }\n",
              "</style>\n",
              "<table border=\"1\" class=\"dataframe\">\n",
              "  <thead>\n",
              "    <tr style=\"text-align: right;\">\n",
              "      <th></th>\n",
              "      <th>comments</th>\n",
              "    </tr>\n",
              "    <tr>\n",
              "      <th>city</th>\n",
              "      <th></th>\n",
              "    </tr>\n",
              "  </thead>\n",
              "  <tbody>\n",
              "    <tr>\n",
              "      <th>seattle</th>\n",
              "      <td>523</td>\n",
              "    </tr>\n",
              "    <tr>\n",
              "      <th>phoenix</th>\n",
              "      <td>454</td>\n",
              "    </tr>\n",
              "    <tr>\n",
              "      <th>portland</th>\n",
              "      <td>373</td>\n",
              "    </tr>\n",
              "    <tr>\n",
              "      <th>las vegas</th>\n",
              "      <td>367</td>\n",
              "    </tr>\n",
              "    <tr>\n",
              "      <th>los angeles</th>\n",
              "      <td>351</td>\n",
              "    </tr>\n",
              "    <tr>\n",
              "      <th>san diego</th>\n",
              "      <td>337</td>\n",
              "    </tr>\n",
              "    <tr>\n",
              "      <th>houston</th>\n",
              "      <td>296</td>\n",
              "    </tr>\n",
              "    <tr>\n",
              "      <th>chicago</th>\n",
              "      <td>264</td>\n",
              "    </tr>\n",
              "    <tr>\n",
              "      <th>tucson</th>\n",
              "      <td>241</td>\n",
              "    </tr>\n",
              "    <tr>\n",
              "      <th>miami</th>\n",
              "      <td>239</td>\n",
              "    </tr>\n",
              "    <tr>\n",
              "      <th>orlando</th>\n",
              "      <td>218</td>\n",
              "    </tr>\n",
              "    <tr>\n",
              "      <th>austin</th>\n",
              "      <td>218</td>\n",
              "    </tr>\n",
              "    <tr>\n",
              "      <th>albuquerque</th>\n",
              "      <td>213</td>\n",
              "    </tr>\n",
              "    <tr>\n",
              "      <th>springfield</th>\n",
              "      <td>213</td>\n",
              "    </tr>\n",
              "    <tr>\n",
              "      <th>sacramento</th>\n",
              "      <td>201</td>\n",
              "    </tr>\n",
              "  </tbody>\n",
              "</table>\n",
              "</div>"
            ],
            "text/plain": [
              "             comments\n",
              "city                 \n",
              "seattle           523\n",
              "phoenix           454\n",
              "portland          373\n",
              "las vegas         367\n",
              "los angeles       351\n",
              "san diego         337\n",
              "houston           296\n",
              "chicago           264\n",
              "tucson            241\n",
              "miami             239\n",
              "orlando           218\n",
              "austin            218\n",
              "albuquerque       213\n",
              "springfield       213\n",
              "sacramento        201"
            ]
          },
          "metadata": {
            "tags": []
          },
          "execution_count": 18
        }
      ]
    },
    {
      "cell_type": "code",
      "metadata": {
        "colab": {
          "base_uri": "https://localhost:8080/",
          "height": 404
        },
        "id": "zX7YGmkSWWU2",
        "outputId": "c201e1b5-9e94-4e75-988e-ddbe88468939"
      },
      "source": [
        "plt.figure(figsize=(15,6))\n",
        "plt.bar(top_15_cities.index, top_15_cities['comments']\n",
        "       ,color='royalblue')\n",
        "plt.title('Most reported UFO sightings by City')\n",
        "plt.xticks(rotation=90)"
      ],
      "execution_count": null,
      "outputs": [
        {
          "output_type": "execute_result",
          "data": {
            "text/plain": [
              "([0, 1, 2, 3, 4, 5, 6, 7, 8, 9, 10, 11, 12, 13, 14],\n",
              " <a list of 15 Text major ticklabel objects>)"
            ]
          },
          "metadata": {
            "tags": []
          },
          "execution_count": 21
        },
        {
          "output_type": "display_data",
          "data": {
            "image/png": "[encoded data removed]",
            "text/plain": [
              "<Figure size 1080x432 with 1 Axes>"
            ]
          },
          "metadata": {
            "tags": [],
            "needs_background": "light"
          }
        }
      ]
    },
    {
      "cell_type": "code",
      "metadata": {
        "colab": {
          "base_uri": "https://localhost:8080/",
          "height": 507
        },
        "id": "vhybpSm1abUG",
        "outputId": "7359b5be-8fea-4cde-92a8-4b41e82e5f60"
      },
      "source": [
        "df_dates = pd.DataFrame(df.groupby('datetime')['comments'].nunique())\n",
        "top_15_dates = df_dates.sort_values('comments', ascending=False)[:15]\n",
        "top_15_dates"
      ],
      "execution_count": null,
      "outputs": [
        {
          "output_type": "execute_result",
          "data": {
            "text/html": [
              "<div>\n",
              "<style scoped>\n",
              "    .dataframe tbody tr th:only-of-type {\n",
              "        vertical-align: middle;\n",
              "    }\n",
              "\n",
              "    .dataframe tbody tr th {\n",
              "        vertical-align: top;\n",
              "    }\n",
              "\n",
              "    .dataframe thead th {\n",
              "        text-align: right;\n",
              "    }\n",
              "</style>\n",
              "<table border=\"1\" class=\"dataframe\">\n",
              "  <thead>\n",
              "    <tr style=\"text-align: right;\">\n",
              "      <th></th>\n",
              "      <th>comments</th>\n",
              "    </tr>\n",
              "    <tr>\n",
              "      <th>datetime</th>\n",
              "      <th></th>\n",
              "    </tr>\n",
              "  </thead>\n",
              "  <tbody>\n",
              "    <tr>\n",
              "      <th>2010-07-04</th>\n",
              "      <td>183</td>\n",
              "    </tr>\n",
              "    <tr>\n",
              "      <th>2012-07-04</th>\n",
              "      <td>166</td>\n",
              "    </tr>\n",
              "    <tr>\n",
              "      <th>1999-11-16</th>\n",
              "      <td>161</td>\n",
              "    </tr>\n",
              "    <tr>\n",
              "      <th>2013-07-04</th>\n",
              "      <td>156</td>\n",
              "    </tr>\n",
              "    <tr>\n",
              "      <th>2011-07-04</th>\n",
              "      <td>132</td>\n",
              "    </tr>\n",
              "    <tr>\n",
              "      <th>2009-09-19</th>\n",
              "      <td>110</td>\n",
              "    </tr>\n",
              "    <tr>\n",
              "      <th>2014-01-01</th>\n",
              "      <td>89</td>\n",
              "    </tr>\n",
              "    <tr>\n",
              "      <th>2004-10-31</th>\n",
              "      <td>80</td>\n",
              "    </tr>\n",
              "    <tr>\n",
              "      <th>2013-12-31</th>\n",
              "      <td>79</td>\n",
              "    </tr>\n",
              "    <tr>\n",
              "      <th>2009-07-04</th>\n",
              "      <td>74</td>\n",
              "    </tr>\n",
              "    <tr>\n",
              "      <th>2013-07-06</th>\n",
              "      <td>73</td>\n",
              "    </tr>\n",
              "    <tr>\n",
              "      <th>1997-03-13</th>\n",
              "      <td>65</td>\n",
              "    </tr>\n",
              "    <tr>\n",
              "      <th>2011-07-03</th>\n",
              "      <td>61</td>\n",
              "    </tr>\n",
              "    <tr>\n",
              "      <th>2012-01-01</th>\n",
              "      <td>61</td>\n",
              "    </tr>\n",
              "    <tr>\n",
              "      <th>2012-12-31</th>\n",
              "      <td>60</td>\n",
              "    </tr>\n",
              "  </tbody>\n",
              "</table>\n",
              "</div>"
            ],
            "text/plain": [
              "            comments\n",
              "datetime            \n",
              "2010-07-04       183\n",
              "2012-07-04       166\n",
              "1999-11-16       161\n",
              "2013-07-04       156\n",
              "2011-07-04       132\n",
              "2009-09-19       110\n",
              "2014-01-01        89\n",
              "2004-10-31        80\n",
              "2013-12-31        79\n",
              "2009-07-04        74\n",
              "2013-07-06        73\n",
              "1997-03-13        65\n",
              "2011-07-03        61\n",
              "2012-01-01        61\n",
              "2012-12-31        60"
            ]
          },
          "metadata": {
            "tags": []
          },
          "execution_count": 22
        }
      ]
    },
    {
      "cell_type": "markdown",
      "metadata": {
        "id": "KJsGtd2iZ-0Q"
      },
      "source": [
        "Find Relative Popular Events of  UFO reporting data"
      ]
    },
    {
      "cell_type": "code",
      "metadata": {
        "colab": {
          "base_uri": "https://localhost:8080/",
          "height": 400
        },
        "id": "wlJpvU0eapYf",
        "outputId": "298ed49d-0e5a-468e-8665-0ec9899931c3"
      },
      "source": [
        "plt.figure(figsize=(15,6))\n",
        "plt.bar(top_15_dates.index, top_15_dates['comments']\n",
        "       ,color='royalblue')\n",
        "plt.title('Most reported UFO sightings by Date')\n",
        "plt.xticks(rotation=90)"
      ],
      "execution_count": null,
      "outputs": [
        {
          "output_type": "execute_result",
          "data": {
            "text/plain": [
              "([0, 1, 2, 3, 4, 5, 6, 7, 8, 9, 10, 11, 12, 13, 14],\n",
              " <a list of 15 Text major ticklabel objects>)"
            ]
          },
          "metadata": {
            "tags": []
          },
          "execution_count": 24
        },
        {
          "output_type": "display_data",
          "data": {
            "image/png": "[encoded data removed]",
            "text/plain": [
              "<Figure size 1080x432 with 1 Axes>"
            ]
          },
          "metadata": {
            "tags": [],
            "needs_background": "light"
          }
        }
      ]
    },
    {
      "cell_type": "code",
      "metadata": {
        "colab": {
          "base_uri": "https://localhost:8080/"
        },
        "id": "XuTVYklIbi7j",
        "outputId": "bf27caf7-5a68-4aba-e0b1-025739f92ea6"
      },
      "source": [
        "df['duration (seconds)'].describe()"
      ],
      "execution_count": null,
      "outputs": [
        {
          "output_type": "execute_result",
          "data": {
            "text/plain": [
              "count    6.509900e+04\n",
              "mean     5.801160e+03\n",
              "std      4.045601e+05\n",
              "min      1.000000e-02\n",
              "25%      3.000000e+01\n",
              "50%      1.800000e+02\n",
              "75%      6.000000e+02\n",
              "max      6.627600e+07\n",
              "Name: duration (seconds), dtype: float64"
            ]
          },
          "metadata": {
            "tags": []
          },
          "execution_count": 25
        }
      ]
    },
    {
      "cell_type": "code",
      "metadata": {
        "id": "EhRkqVRUb50P"
      },
      "source": [
        "plt.subplots(figsize=(20,8))\r\n",
        "ax = sns.histplot(df['duration (seconds)'], palette=\"PuBuGn\")\r\n",
        "plt.title('Duration od UFO Sightings')\r\n",
        "plt.ylabel('Number of UFO sightings')\r\n",
        "plt.xlabel('Duration in seconds')"
      ],
      "execution_count": null,
      "outputs": []
    },
    {
      "cell_type": "code",
      "metadata": {
        "colab": {
          "base_uri": "https://localhost:8080/"
        },
        "id": "m_GhPeSGWxvV",
        "outputId": "e80d8f1a-9eac-45a1-ab9b-9d70d1fae26b"
      },
      "source": [
        "# Polarity: using TextBlob, asssess the sentiment of each report text: negative sentiment(-1) and positive sentiment(+1)\n",
        "\n",
        "def explore_sentiment_polarity(df, neg_threshold, pos_threshold):\n",
        "    for i in range(0,len(df)): \n",
        "        text = df.iloc[i]['comments']\n",
        "        report_test = TextBlob(text)\n",
        "        if report_test.sentiment.polarity < neg_threshold or report_test.sentiment.polarity > pos_threshold:\n",
        "            print ('Row_ID:',i, report_test.sentiment.polarity)\n",
        "            print (text, '\\n')\n",
        "\n",
        "            \n",
        "explore_sentiment_polarity(df, -0.75, 0.75)"
      ],
      "execution_count": 3,
      "outputs": [
        {
          "output_type": "stream",
          "text": [
            "Row_ID: 141 0.9100000000000001\n",
            "A oval shaped object hovered and shot through the sky with very bright lights and then vanished. 500 Lights On Object0: Yes \n",
            "\n",
            "Row_ID: 477 0.8\n",
            "Three gold circle UFOs fly in formation&#44 warp drive away and disappear. \n",
            "\n",
            "Row_ID: 534 -0.8\n",
            "burnt out disk  gets ride from trucker to air force base \n",
            "\n",
            "Row_ID: 616 0.8\n",
            "stars that fly \n",
            "\n",
            "Row_ID: 655 0.9100000000000001\n",
            "I WAS LEAVING EL RENO&#44OKLAHOMA&#44APPROXIMATELY 40 MILES WEST OF OKC ABOUT 9PM. TRAVELING NORTH ON HWY 81 I NOTICED A VERY BRIGHT STAR-LIK \n",
            "\n",
            "Row_ID: 693 0.8\n",
            "I was standing on my deck facing east when I saw orange objects fly from north to south. They appeared to maybe be comets but I cannot \n",
            "\n",
            "Row_ID: 869 0.9\n",
            "Two Brilliant Star objects in twilight sky \n",
            "\n",
            "Row_ID: 1038 0.9\n",
            "Brilliant  shimmering gold object sighted 1 hr after sunset \n",
            "\n",
            "Row_ID: 1170 0.8\n",
            "Unidentified box looking object flying across Denver Metropolitan area under intelligent control. \n",
            "\n",
            "Row_ID: 1535 -0.8\n",
            "Disc follows fighter jets to air base \n",
            "\n",
            "Row_ID: 1576 0.8\n",
            "it was amazing the way they stood perfectly still and took off . \n",
            "\n",
            "Row_ID: 1621 0.8500000000000001\n",
            "Witnessed flyby by a craft composed of six perfectly round&#44 bright lights. \n",
            "\n",
            "Row_ID: 1631 0.9100000000000001\n",
            "Very bright oval object that appeared to resemble a star approx. 5 am in the morning.  It has been visible in the morning for 3 days no \n",
            "\n",
            "Row_ID: 1794 0.9100000000000001\n",
            "a stationery&#44 very bright  silver circular object about  500 feet in air&#44 60 to 70 feet across then vanished. \n",
            "\n",
            "Row_ID: 1909 0.8\n",
            "On about this time my wife and I saw a V shaped object fly over our house. It was NOT the shape of the Stelth bomber. It was a 90 degre \n",
            "\n",
            "Row_ID: 2458 0.8\n",
            "Three people see a illuminated V shaped object fly over them at night&#44 fast&#44 low&#44 silent&#44 making 2 passes. \n",
            "\n",
            "Row_ID: 2510 0.9100000000000001\n",
            "Woman sitting on her porch is illuminated from overhead by a very bright light&#44 which streaks off. \n",
            "\n",
            "Row_ID: 2674 0.9\n",
            "Star-like lights moving in incredible and unorthodox ways \n",
            "\n",
            "Row_ID: 2781 0.9\n",
            "INCREDIBLE SAUCER-LIKE CRAFT UFO SIGHTING WITH VIDEO EVIDENCE OVER SOUTH FLORIDA&#33 \n",
            "\n",
            "Row_ID: 2812 0.9\n",
            "Objects in sky move at incredible speed \n",
            "\n",
            "Row_ID: 2898 0.8500000000000001\n",
            "Four brilliant SPHERES fly overhead in daylight sky \n",
            "\n",
            "Row_ID: 2967 0.85\n",
            "The wife and I had a beautiful daytime siting of a cigar shaped craft flying alongside an airliner. The siting lasted about 3 minutes. \n",
            "\n",
            "Row_ID: 3423 0.8\n",
            "Student sees UFO fly by 11th floor window in dorm. \n",
            "\n",
            "Row_ID: 3542 0.9100000000000001\n",
            "I saw a metallic cone shaped humming object with very bright lights. \n",
            "\n",
            "Row_ID: 3706 0.9100000000000001\n",
            "Object seen hovering nearby. Very bright lights through ports. \n",
            "\n",
            "Row_ID: 3837 0.9100000000000001\n",
            "Witnessed two very bright lights to the south east of us&#44 that just appeared out of nowhere. \n",
            "\n",
            "Row_ID: 3998 1.0\n",
            "V-shaped perfect formation of lights traveling over St Louis&#44 heading eastward&#44 soundlessly. \n",
            "\n",
            "Row_ID: 4077 1.0\n",
            "2 Chevrons flying in perfect formation during lunar eclipse. \n",
            "\n",
            "Row_ID: 4137 0.9100000000000001\n",
            "Very Bright Gold/Bronze disc shaped object moving over VA \n",
            "\n",
            "Row_ID: 4150 0.8\n",
            "Orange fly object over Wheaton&#44 IL. \n",
            "\n",
            "Row_ID: 4239 0.9100000000000001\n",
            "Very Bright Lights \n",
            "\n",
            "Row_ID: 4492 0.9100000000000001\n",
            "Very bright silver circle seen in the sky. \n",
            "\n",
            "Row_ID: 4937 0.9100000000000001\n",
            "Very bright flash with a tail seen in the night sky on Oct. 31&#44 2005 between 21:00 and 21:30 over Leesburg&#44 VA. \n",
            "\n",
            "Row_ID: 4967 0.9\n",
            "Sphere shaped object flying at an incredible speed during the day \n",
            "\n",
            "Row_ID: 5251 0.9100000000000001\n",
            "Observed very bright sky illumination over Charleston&#44 SC.  1-2 seconds duration. \n",
            "\n",
            "Row_ID: 5270 0.85\n",
            "I was traveling on Interstate 40 at 7:00 when I saw a beautiful sunset of the desert&#44 on vacation on the colorado river&#44 in Needles. I \n",
            "\n",
            "Row_ID: 5297 0.85\n",
            "i am an oil painter so I take pictures of sunsets and clouds etc. The night of October 4th the sky was beautiful to the northeast of Wi \n",
            "\n",
            "Row_ID: 5559 0.9\n",
            "Orange Spherical Orbs doing a Brilliant Show over the City sky.  Over 10 witnesses on the scene. \n",
            "\n",
            "Row_ID: 5645 0.8\n",
            "Driving in upstate NY&#44 I noticed what looked to be a plane without wings stoped in the sky lower than what planes fly it was stoped on \n",
            "\n",
            "Row_ID: 5918 0.8\n",
            "Great  speed of lights \n",
            "\n",
            "Row_ID: 5997 0.9100000000000001\n",
            "At 7pm I witnessed an very bright orange glowing ball comming thru the sky south east. It was traveling towards the moon. As it got clo \n",
            "\n",
            "Row_ID: 6204 0.9100000000000001\n",
            "Driving hwy 61 close to dubuque airport saw 2 diamond shaped very bright blinking lights that moved and then disappeared \n",
            "\n",
            "Row_ID: 6450 0.9100000000000001\n",
            "3 starlike lights moving together in unison very bright and low&#44 then disappearing together. \n",
            "\n",
            "Row_ID: 6585 0.8500000000000001\n",
            "Bright Silver Disc with perfect circle of Distortion (Haze) around it \n",
            "\n",
            "Row_ID: 6681 0.9100000000000001\n",
            "Very Bright Missle/Cigar shaped U.F.O. in the VA/D.C. area. \n",
            "\n",
            "Row_ID: 6952 0.9099999999999999\n",
            "we saw what it looked to be a triangle shap object across the sky going in to the moutains it was very good experiance for me because t \n",
            "\n",
            "Row_ID: 7163 1.0\n",
            "THERE WERE 6 LIGHTS ALTOGETHER.. 2 SETS OF 3 LIGHTS AND EACH SET FORMED A PERFECT TRIANGLE.. I CAME INSIDE TO GET FRIEND AND THEY WERE \n",
            "\n",
            "Row_ID: 7187 0.9100000000000001\n",
            "Two very bright orange lights hovering and then flying over Florida coast. \n",
            "\n",
            "Row_ID: 7299 0.9100000000000001\n",
            "VERY bright object seemed to change course. \n",
            "\n",
            "Row_ID: 7508 0.8\n",
            "6 arclight orbs that seemed to be under intelligent control fly-by @ 5000ft. \n",
            "\n",
            "Row_ID: 7639 0.9\n",
            "FAST-MOVING BRILLIANT OVAL OBJECT SEEN IN YOSEMITE SKY. \n",
            "\n",
            "Row_ID: 7729 0.8\n",
            "UFO&#39s fly by festival in Cape Coral Florida on 11/10/2012 \n",
            "\n",
            "Row_ID: 7832 0.9100000000000001\n",
            "Very bright like alumium when the sun shines on it and hovered in one place for about  45 seconds. \n",
            "\n",
            "Row_ID: 7963 1.0\n",
            "Object forming a perfect triangle of lights&#44 unidentifiable. \n",
            "\n",
            "Row_ID: 8107 0.8\n",
            "Looking for Leonid meteors saw triangle lights fly overhead \n",
            "\n",
            "Row_ID: 8127 0.9\n",
            "A brilliant blue-green fireball crossed the sky from SW to NE&#44 leaving a smoke trail. \n",
            "\n",
            "Row_ID: 8274 0.9\n",
            "Brilliant Streak: &#39Lands&#39 at Everett Mall \n",
            "\n",
            "Row_ID: 8281 0.8\n",
            "5&#44 red&#44 triangular shaped&#44 crafts fly across the night sky in Colorado............ \n",
            "\n",
            "Row_ID: 8406 -0.8\n",
            "3 orbs over Beale Air Force Base \n",
            "\n",
            "Row_ID: 8562 0.8500000000000001\n",
            "Bright orange lights fading in and out in a perfect diagonal pattern over Barre \n",
            "\n",
            "Row_ID: 8652 -0.8\n",
            "Pool Rack formation seen over an Army Base in Brooklyn&#44 NY during a meteor shower \n",
            "\n",
            "Row_ID: 8936 0.9\n",
            "Brilliant lightts with a haze \n",
            "\n",
            "Row_ID: 9136 0.9\n",
            "Incredible UFO sighting in Hoboken NJ around 1997-1998 \n",
            "\n",
            "Row_ID: 9274 0.9\n",
            "Brilliant  illumination at night 1-1-08 North Texas around 8:30pm \n",
            "\n",
            "Row_ID: 9278 0.8\n",
            "Diamond Shape craft with orange lights on all four corners &#44estimated altitude is about 3000 -5000 ft.Had great view of underside of cr \n",
            "\n",
            "Row_ID: 9430 1.0\n",
            "Orange/reddish perfect sphere/glowing. \n",
            "\n",
            "Row_ID: 9506 0.9100000000000001\n",
            "Very bright lights . In a form of a &quot;S.&quot; \n",
            "\n",
            "Row_ID: 9522 1.0\n",
            "3 orange orbs in triangular form perfectly still. \n",
            "\n",
            "Row_ID: 9570 0.8\n",
            "Observes 2 orange spheres flying North over Great Falls Montana. \n",
            "\n",
            "Row_ID: 9721 0.8\n",
            "i was looking out a telescope at the moon when i saw what looked like a ufo fly across the suface of the moon. \n",
            "\n",
            "Row_ID: 9726 0.8\n",
            "Two oval shaped objects fly over Goldsboro&#44 NC \n",
            "\n",
            "Row_ID: 9749 1.0\n",
            "4 fiery orange colored orbs in Northern sky. Moved from North to West in a perfectly horizontal manner. \n",
            "\n",
            "Row_ID: 9782 0.9\n",
            "My wife and I were driving south on highway 141 in Norcross&#44 Ga when we spotted an illuminated object that demonstrated incredible acce \n",
            "\n",
            "Row_ID: 9829 0.9\n",
            "Brilliant Gold Object Appears Over Ocean Beach \n",
            "\n",
            "Row_ID: 9940 -0.78\n",
            "They were dancing in the sky and the air was VERY cold \n",
            "\n",
            "Row_ID: 9961 0.9100000000000001\n",
            "(it was very bright  and then it kept flashing) \n",
            "\n",
            "Row_ID: 10122 0.8\n",
            "V formation of Ufos fly over Las Vegas NV \n",
            "\n",
            "Row_ID: 10220 0.85\n",
            "Beautiful lighted egg shape floated over my head&#33 \n",
            "\n",
            "Row_ID: 10649 0.8\n",
            "11 orange oval objects moving under perceived intelligent control \n",
            "\n",
            "Row_ID: 10673 0.85\n",
            "I was driving home from Thanksgiving dinner at my friends house&#44 about five minutes away. It was a beautiful day and I had one heineken \n",
            "\n",
            "Row_ID: 10888 0.9100000000000001\n",
            "Two objects appeared to my South West very bright.  When the lights dimmed&#44 I saw a triangular shaped objects with color lights. \n",
            "\n",
            "Row_ID: 10937 0.9100000000000001\n",
            "Stationary Very Bright Star-Like Object That Rapidly Changed Colors in Marietta&#44 GA&#44 Eastern Sky.  ((NUFORC Note:  Sirius??  PD)) \n",
            "\n",
            "Row_ID: 10998 0.8\n",
            "Twin lights fly overhead \n",
            "\n",
            "Row_ID: 11023 0.9100000000000001\n",
            "very bright egg shaped craft traveling west to east \n",
            "\n",
            "Row_ID: 11183 0.9100000000000001\n",
            "Very bright flash and explosion over Lincoln&#44 Ne.&#44 on Thanksgiving. \n",
            "\n",
            "Row_ID: 11273 0.8\n",
            "3 orange lights fly over petersburg Illinois \n",
            "\n",
            "Row_ID: 11380 0.8\n",
            "I witnessed 3 disk shaped lights flying through the sky for 10 minutes&#44 when a 4th appeared they began to fly in a predetermined patter \n",
            "\n",
            "Row_ID: 11414 0.8\n",
            "((HOAX))  He lost. We win. 500 Lights On Object0: Yes \n",
            "\n",
            "Row_ID: 11467 1.0\n",
            "Perfect flying V but with lights&#44 no birds or a plane. \n",
            "\n",
            "Row_ID: 11493 0.9\n",
            "brilliant amber object trailing sparks moving from zenith to west horizon \n",
            "\n",
            "Row_ID: 11570 0.825\n",
            "3 BEAUTIFUL ORANGE ORBS FLY PLAYFULLY IN THE DISTANCE FOR 10 MINUTES BEFORE MOTHERSHIP TAKES THEM IN. \n",
            "\n",
            "Row_ID: 12067 0.9100000000000001\n",
            "Object traveled east to west veered north  was very bright and the weirdest thing is that it seemed split into 2 objects \n",
            "\n",
            "Row_ID: 12185 0.8\n",
            "I and three others saw three triangle objects with lights&#44 silently fly north of my house  in a V formation . \n",
            "\n",
            "Row_ID: 12576 1.0\n",
            "On 11/5/12 seven lights were seen that appeared in a sequence&#44 making a perfect line in the sky&#44 and then disappeared. \n",
            "\n",
            "Row_ID: 12750 0.9100000000000001\n",
            "Very bright object moving from the Northwest to the Southeast viewed in Los Angeles&#44 CA. \n",
            "\n",
            "Row_ID: 12764 0.9\n",
            "video footage of  USO/UFO ignored  (brilliant). Say hello history channel...u will c the footage there....... \n",
            "\n",
            "Row_ID: 12876 1.0\n",
            "Perfectly circle lit up underneath \n",
            "\n",
            "Row_ID: 13090 -0.8\n",
            "Triangular Craft Headed Toward  Wright Patterson Air Force Base \n",
            "\n",
            "Row_ID: 13486 0.8\n",
            "blinking lights twirl and fly away \n",
            "\n",
            "Row_ID: 13664 0.9100000000000001\n",
            "VERY BRIGHT BLUE/WHITE SPHERE SIGHTED TEMPE&#44AZ&#44  HEADING 260 9NOV2002 2133 HRS. \n",
            "\n",
            "Row_ID: 13900 0.8\n",
            "Saw star like object fly stright horizontal and vertical  lines with 90 degree angels at all turns. \n",
            "\n",
            "Row_ID: 14096 0.8\n",
            "While parked in front of my childs school&#44 waiting for the day care teacher to arrive in the school quad.  My child and I saw a jet fly \n",
            "\n",
            "Row_ID: 14263 0.9\n",
            "12 brilliant silver orbs surge from the cloud cover \n",
            "\n",
            "Row_ID: 14406 0.9100000000000001\n",
            "While on patrol. Noticed an eye ball shaped object. that was very bright in the sky. \n",
            "\n",
            "Row_ID: 14756 0.8\n",
            "multicolored lights hover and fly  over evanston&#44wy  ((NUFORC Note:  Probably a celestial body&#44 we suspect.  PD)) \n",
            "\n",
            "Row_ID: 14791 0.9\n",
            "I saw a brilliant and bright&#44 bluish-green object crossing the sky on a southeast to northwest direction. \n",
            "\n",
            "Row_ID: 14948 0.9100000000000001\n",
            "((HOAX??))  Appeared two times now&#44 Very bright red&#44orage&#44maroon&#44 Then shoots off across the sky. \n",
            "\n",
            "Row_ID: 14980 1.0\n",
            "Perfect formation of 4 triangular crafts sighted in PRP&#44 Louisville&#44 Ky seen twice in two days. \n",
            "\n",
            "Row_ID: 15010 -1.0\n",
            "Shocking. \n",
            "\n",
            "Row_ID: 15707 0.9100000000000001\n",
            "Flash very bright and saw it for a couple of minutes \n",
            "\n",
            "Row_ID: 15746 0.8\n",
            "1993 Evening Ufo sighting over Ottumwa&#44 Iowa. Singular object splits in two&#44 lights fly across sky. \n",
            "\n",
            "Row_ID: 15772 0.9\n",
            "The cigarshaped object moved from overhead towards the southeast at an incredible speed&#33 \n",
            "\n",
            "Row_ID: 15960 0.8\n",
            "Flying object with flashing lights &#44 traveling at great speed&#44 observed flying NW and returning to point of origin. \n",
            "\n",
            "Row_ID: 16154 0.9100000000000001\n",
            "Every thing was a very bright gold color. \n",
            "\n",
            "Row_ID: 16273 0.9100000000000001\n",
            "...a very BRIGHT FIREBALL that cast a shadow upon myself and my family \n",
            "\n",
            "Row_ID: 16603 0.8\n",
            "Silver cigar shaped object travelling low&#44 and at great speed on US 52 in SE Minnesota. \n",
            "\n",
            "Row_ID: 16851 0.9100000000000001\n",
            "VERY Bright yellow/red object moving across sky&#44 seen from Sammamish at about 6:30 pm 12/24/11. \n",
            "\n",
            "Row_ID: 16953 0.8\n",
            "Object appearing to fly in formation with airliner before radically maneuvering away from it. \n",
            "\n",
            "Row_ID: 16970 0.8\n",
            "I looked up and saw an object fly over my house from south to north&#44  it was triangular shaped&#44 but the points looked rounded. \n",
            "\n",
            "Row_ID: 17006 0.9\n",
            "Stealth-like transparent triangular object makes incredible maneuver and disappears \n",
            "\n",
            "Row_ID: 17049 0.9100000000000001\n",
            "Very bright circular object hovering over the town of Charleston&#44 WV on Xmas night&#33  ((NUFORC Note:  Star or planet??  PD)) \n",
            "\n",
            "Row_ID: 17201 0.8\n",
            "3 orange orbs or fireballs fly in formation over Seattle (Capitol Hill/Madison Valley) on December 26&#44 2011 at around 2:17 AM. \n",
            "\n",
            "Row_ID: 17334 0.8\n",
            "&quot;Star&quot; glows orange and spins in vortex&#44 flies off at great speed. \n",
            "\n",
            "Row_ID: 17395 1.0\n",
            "Three lights&#44 perfectly spaced apart&#44 moving irratically through the trees and then disappearing. \n",
            "\n",
            "Row_ID: 17772 1.0\n",
            "Perfect Circle UFO Spotted at 30&#44000 Feet \n",
            "\n",
            "Row_ID: 17871 0.8\n",
            "The Great Northwestern Christmas UFO 2010 \n",
            "\n",
            "Row_ID: 18198 1.0\n",
            "Four silver &quot;dots&quot; flying perfectly in synch with one another over Oklahoma. \n",
            "\n",
            "Row_ID: 18212 -0.8\n",
            "Silent&#44 triangular craft hovering over a field within one mile of airforce base \n",
            "\n",
            "Row_ID: 18269 -0.8\n",
            "UFO Transported from Edwards Base to Area 51 \n",
            "\n",
            "Row_ID: 18381 -0.8\n",
            "ufo by an air force base \n",
            "\n",
            "Row_ID: 18561 -0.8\n",
            "Aircraft of some sort flying violently as if it was about to crash that wiped out power throughout a city for 15 seconds \n",
            "\n",
            "Row_ID: 18659 0.9100000000000001\n",
            "A very bright stationary light&#44not an aircraft. \n",
            "\n",
            "Row_ID: 19026 0.8\n",
            "While Driving West bound on the 91 freeway around the State College exit. I thought I saw a falling star&#44 but when they started to fly \n",
            "\n",
            "Row_ID: 19359 0.9\n",
            "An incredible sight of a saucer flying through the night sky with a reddish/orange vapor trail that dissappeared. \n",
            "\n",
            "Row_ID: 19430 -0.8\n",
            "glowing square shaped object hovered over airforce base &#44shortly after president &#39s state of the union address captured on video. \n",
            "\n",
            "Row_ID: 19554 0.8\n",
            "triangle of lights fly over Swami&#39s point in the evening \n",
            "\n",
            "Row_ID: 19567 1.0\n",
            "Awesome spectaular \n",
            "\n",
            "Row_ID: 19763 -1.0\n",
            "horrible \n",
            "\n",
            "Row_ID: 19797 0.9100000000000001\n",
            "Very bright glowing object in the sky&#44 then vanishes. \n",
            "\n",
            "Row_ID: 20041 1.0\n",
            "All silver perfect circle moving 30 times afaster than any plane in the sky. \n",
            "\n",
            "Row_ID: 20096 0.9100000000000001\n",
            "We seen 1-3-4-5 Egg/Oval Shaped with very bright lights in the sky&#44 and heard voices at night. \n",
            "\n",
            "Row_ID: 20233 0.8\n",
            "Id wokend up and stept out side. For a smoke. Thats win I seen sevral brite lites pirsing strayt up in pers. There were a lot of stars \n",
            "\n",
            "Row_ID: 20248 0.8\n",
            "Three low&#44silent craft hovering&#44looping over each other&#44flaring huge&#44bright&#44then fly head-on near-collision course.Videotaped \n",
            "\n",
            "Row_ID: 20302 0.8\n",
            "On the way to work I noticed what looked alot like a band of meterites falling onto the earth but with the exception that they were fly \n",
            "\n",
            "Row_ID: 20583 0.9\n",
            "A brilliant orb hung motionless then moved directionally side to side&#44 up/down turned west - could see aircraft was circular. \n",
            "\n",
            "Row_ID: 20588 0.8\n",
            "all are welcome \n",
            "\n",
            "Row_ID: 20691 0.9100000000000001\n",
            "two very bright amber colored orbs on a trajectory \n",
            "\n"
          ],
          "name": "stdout"
        }
      ]
    },
    {
      "cell_type": "code",
      "metadata": {
        "colab": {
          "base_uri": "https://localhost:8080/"
        },
        "id": "G2Z6uc2DXCVs",
        "outputId": "1d4db12f-b7db-4660-dd94-35d936fa0d16"
      },
      "source": [
        "# Subjectivity: using TextBlob, assess corpus for subjectivity: very objective(0) and very subjective(1)\n",
        "\n",
        "def explore_sentiment_subjectivity(df, sub_threshold, obj_threshold):\n",
        "    \n",
        "    subjective = 0\n",
        "    neutral = 0\n",
        "    objective = 0\n",
        "    \n",
        "    for i in range(0,len(df)): \n",
        "        text = df.iloc[i]['comments']\n",
        "        report_test = TextBlob(text)\n",
        "        if report_test.sentiment.subjectivity > sub_threshold:\n",
        "            subjective += 1\n",
        "        if report_test.sentiment.subjectivity < obj_threshold:\n",
        "            objective += 1\n",
        "\n",
        "    print ('Subjective', subjective)\n",
        "    print ('Objective', objective)\n",
        "    \n",
        "    \n",
        "explore_sentiment_subjectivity(df, 0.5, 0.2)"
      ],
      "execution_count": 4,
      "outputs": [
        {
          "output_type": "stream",
          "text": [
            "Subjective 5536\n",
            "Objective 7193\n"
          ],
          "name": "stdout"
        }
      ]
    },
    {
      "cell_type": "code",
      "metadata": {
        "id": "W-kyCWPHFd0t",
        "colab": {
          "base_uri": "https://localhost:8080/"
        },
        "outputId": "af256489-67c8-425d-af79-8c9f5c949b17"
      },
      "source": [
        "total = len(df)\r\n",
        "print(total)"
      ],
      "execution_count": 5,
      "outputs": [
        {
          "output_type": "stream",
          "text": [
            "20882\n"
          ],
          "name": "stdout"
        }
      ]
    },
    {
      "cell_type": "code",
      "metadata": {
        "colab": {
          "base_uri": "https://localhost:8080/",
          "height": 788
        },
        "id": "8kBP8y2XX3TH",
        "outputId": "a533b855-0ec8-423c-fb15-38bc918c92e0"
      },
      "source": [
        "import requests\n",
        "#from mpl_toolkits.basemap import Basemap\n",
        "#!pip install Basemap\n",
        "!apt-get -qq install -y libgeos-3.5.0\n",
        "!apt-get -qq install -y libgeos-dev\n",
        "!pip install https://github.com/matplotlib/basemap/archive/master.zip"
      ],
      "execution_count": null,
      "outputs": [
        {
          "output_type": "stream",
          "text": [
            "E: Unable to locate package libgeos-3.5.0\n",
            "E: Couldn't find any package by glob 'libgeos-3.5.0'\n",
            "E: Couldn't find any package by regex 'libgeos-3.5.0'\n",
            "Selecting previously unselected package libgeos-dev.\n",
            "(Reading database ... 144865 files and directories currently installed.)\n",
            "Preparing to unpack .../libgeos-dev_3.6.2-1build2_amd64.deb ...\n",
            "Unpacking libgeos-dev (3.6.2-1build2) ...\n",
            "Setting up libgeos-dev (3.6.2-1build2) ...\n",
            "Processing triggers for man-db (2.8.3-2ubuntu0.1) ...\n",
            "Collecting https://github.com/matplotlib/basemap/archive/master.zip\n",
            "\u001b[?25l  Downloading https://github.com/matplotlib/basemap/archive/master.zip\n",
            "\u001b[K     / 203.1MB 81.0MB/s\n",
            "\u001b[?25hRequirement already satisfied: matplotlib!=3.0.1,>=1.0.0 in /usr/local/lib/python3.6/dist-packages (from basemap==1.2.1) (3.2.2)\n",
            "Requirement already satisfied: numpy>=1.2.1 in /usr/local/lib/python3.6/dist-packages (from basemap==1.2.1) (1.18.5)\n",
            "Collecting pyproj>=1.9.3\n",
            "\u001b[?25l  Downloading https://files.pythonhosted.org/packages/e4/ab/280e80a67cfc109d15428c0ec56391fc03a65857b7727cf4e6e6f99a4204/pyproj-3.0.0.post1-cp36-cp36m-manylinux2010_x86_64.whl (6.4MB)\n",
            "\u001b[K     |████████████████████████████████| 6.5MB 5.6MB/s \n",
            "\u001b[?25hCollecting pyshp>=1.2.0\n",
            "\u001b[?25l  Downloading https://files.pythonhosted.org/packages/ca/1f/e9cc2c3fce32e2926581f8b6905831165235464c858ba550b6e9b8ef78c3/pyshp-2.1.2.tar.gz (217kB)\n",
            "\u001b[K     |████████████████████████████████| 225kB 45.2MB/s \n",
            "\u001b[?25hRequirement already satisfied: six in /usr/local/lib/python3.6/dist-packages (from basemap==1.2.1) (1.15.0)\n",
            "Requirement already satisfied: cycler>=0.10 in /usr/local/lib/python3.6/dist-packages (from matplotlib!=3.0.1,>=1.0.0->basemap==1.2.1) (0.10.0)\n",
            "Requirement already satisfied: pyparsing!=2.0.4,!=2.1.2,!=2.1.6,>=2.0.1 in /usr/local/lib/python3.6/dist-packages (from matplotlib!=3.0.1,>=1.0.0->basemap==1.2.1) (2.4.7)\n",
            "Requirement already satisfied: python-dateutil>=2.1 in /usr/local/lib/python3.6/dist-packages (from matplotlib!=3.0.1,>=1.0.0->basemap==1.2.1) (2.8.1)\n",
            "Requirement already satisfied: kiwisolver>=1.0.1 in /usr/local/lib/python3.6/dist-packages (from matplotlib!=3.0.1,>=1.0.0->basemap==1.2.1) (1.3.1)\n",
            "Requirement already satisfied: certifi in /usr/local/lib/python3.6/dist-packages (from pyproj>=1.9.3->basemap==1.2.1) (2020.11.8)\n",
            "Building wheels for collected packages: basemap, pyshp\n",
            "  Building wheel for basemap (setup.py) ... \u001b[?25l\u001b[?25hdone\n",
            "  Created wheel for basemap: filename=basemap-1.2.1-cp36-cp36m-linux_x86_64.whl size=121756184 sha256=b1d9afbb6181cfe93bd6801a18716496446fce9cf105530a1eb41e6603204917\n",
            "  Stored in directory: /tmp/pip-ephem-wheel-cache-2vukm131/wheels/98/4a/fc/ce719b75d97e646645c225f3332b1b217536100314922e9572\n",
            "  Building wheel for pyshp (setup.py) ... \u001b[?25l\u001b[?25hdone\n",
            "  Created wheel for pyshp: filename=pyshp-2.1.2-cp36-none-any.whl size=36216 sha256=5077ec1ae08fb5766b3f28cdd0d6a61b256f1830addff4352344bc73bcb71edc\n",
            "  Stored in directory: /root/.cache/pip/wheels/96/6c/53/4112475adf3b831da97f083163d0f38ee6daac9c1b13f7afea\n",
            "Successfully built basemap pyshp\n",
            "Installing collected packages: pyproj, pyshp, basemap\n",
            "Successfully installed basemap-1.2.1 pyproj-3.0.0.post1 pyshp-2.1.2\n"
          ],
          "name": "stdout"
        },
        {
          "output_type": "display_data",
          "data": {
            "application/vnd.colab-display-data+json": {
              "pip_warning": {
                "packages": [
                  "mpl_toolkits"
                ]
              }
            }
          },
          "metadata": {
            "tags": []
          }
        }
      ]
    },
    {
      "cell_type": "code",
      "metadata": {
        "id": "4N-Y9yJqYpIP"
      },
      "source": [
        "from mpl_toolkits.basemap import Basemap"
      ],
      "execution_count": null,
      "outputs": []
    }
  ]
}